{
 "cells": [
  {
   "cell_type": "markdown",
   "metadata": {},
   "source": [
    "Тетрадка предназначена для студентов образвательного проекта Booster MDS использование вне проекта запрещено."
   ]
  },
  {
   "cell_type": "markdown",
   "metadata": {},
   "source": [
    "##### Задания не несут смысловой нагрузки для реальной жизни, они сделаны лишь для того, чтоб научить использовать Pandas"
   ]
  },
  {
   "cell_type": "markdown",
   "metadata": {},
   "source": [
    "#### Каждое задание оценивает в 1 балл, для успешной сдачи задания нужно набрать 12 баллов"
   ]
  },
  {
   "cell_type": "markdown",
   "metadata": {},
   "source": [
    "This database contains 76 attributes, but all published experiments refer to using a subset of 14 of them. In particular, the Cleveland database is the only one that has been used by ML researchers to this date. The \"goal\" field refers to the presence of heart disease in the patient. It is integer valued from 0 (no presence) to 1."
   ]
  },
  {
   "cell_type": "markdown",
   "metadata": {},
   "source": [
    "https://www.kaggle.com/ronitf/heart-disease-uci"
   ]
  },
  {
   "cell_type": "markdown",
   "metadata": {},
   "source": [
    "___"
   ]
  },
  {
   "cell_type": "code",
   "execution_count": 1,
   "metadata": {},
   "outputs": [],
   "source": [
    "import pandas as pd\n",
    "import numpy as np"
   ]
  },
  {
   "cell_type": "code",
   "execution_count": 2,
   "metadata": {},
   "outputs": [],
   "source": [
    "data = pd.read_csv('heart_pandas.csv')"
   ]
  },
  {
   "cell_type": "code",
   "execution_count": 3,
   "metadata": {},
   "outputs": [
    {
     "data": {
      "text/html": [
       "<div>\n",
       "<style scoped>\n",
       "    .dataframe tbody tr th:only-of-type {\n",
       "        vertical-align: middle;\n",
       "    }\n",
       "\n",
       "    .dataframe tbody tr th {\n",
       "        vertical-align: top;\n",
       "    }\n",
       "\n",
       "    .dataframe thead th {\n",
       "        text-align: right;\n",
       "    }\n",
       "</style>\n",
       "<table border=\"1\" class=\"dataframe\">\n",
       "  <thead>\n",
       "    <tr style=\"text-align: right;\">\n",
       "      <th></th>\n",
       "      <th>age</th>\n",
       "      <th>sex</th>\n",
       "      <th>chest_pain_type</th>\n",
       "      <th>resting_blood_pressure</th>\n",
       "      <th>cholesterol</th>\n",
       "      <th>fasting_blood_sugar</th>\n",
       "      <th>rest_ecg</th>\n",
       "      <th>max_heart_rate_achieved</th>\n",
       "      <th>exercise_induced_angina</th>\n",
       "      <th>st_depression</th>\n",
       "      <th>st_slope</th>\n",
       "      <th>num_major_vessels</th>\n",
       "      <th>thalassemia</th>\n",
       "      <th>target</th>\n",
       "    </tr>\n",
       "  </thead>\n",
       "  <tbody>\n",
       "    <tr>\n",
       "      <th>0</th>\n",
       "      <td>63</td>\n",
       "      <td>male</td>\n",
       "      <td>non-anginal pain</td>\n",
       "      <td>145</td>\n",
       "      <td>233</td>\n",
       "      <td>greater than 120mg/ml</td>\n",
       "      <td>normal</td>\n",
       "      <td>150</td>\n",
       "      <td>no</td>\n",
       "      <td>2.3</td>\n",
       "      <td>upsloping</td>\n",
       "      <td>0</td>\n",
       "      <td>normal</td>\n",
       "      <td>1</td>\n",
       "    </tr>\n",
       "    <tr>\n",
       "      <th>1</th>\n",
       "      <td>37</td>\n",
       "      <td>male</td>\n",
       "      <td>atypical angina</td>\n",
       "      <td>130</td>\n",
       "      <td>250</td>\n",
       "      <td>lower than 120mg/ml</td>\n",
       "      <td>ST-T wave abnormality</td>\n",
       "      <td>187</td>\n",
       "      <td>no</td>\n",
       "      <td>3.5</td>\n",
       "      <td>upsloping</td>\n",
       "      <td>0</td>\n",
       "      <td>fixed defect</td>\n",
       "      <td>1</td>\n",
       "    </tr>\n",
       "    <tr>\n",
       "      <th>2</th>\n",
       "      <td>41</td>\n",
       "      <td>female</td>\n",
       "      <td>typical angina</td>\n",
       "      <td>130</td>\n",
       "      <td>204</td>\n",
       "      <td>lower than 120mg/ml</td>\n",
       "      <td>normal</td>\n",
       "      <td>172</td>\n",
       "      <td>no</td>\n",
       "      <td>1.4</td>\n",
       "      <td>flat</td>\n",
       "      <td>0</td>\n",
       "      <td>fixed defect</td>\n",
       "      <td>1</td>\n",
       "    </tr>\n",
       "    <tr>\n",
       "      <th>3</th>\n",
       "      <td>56</td>\n",
       "      <td>male</td>\n",
       "      <td>typical angina</td>\n",
       "      <td>120</td>\n",
       "      <td>236</td>\n",
       "      <td>lower than 120mg/ml</td>\n",
       "      <td>ST-T wave abnormality</td>\n",
       "      <td>178</td>\n",
       "      <td>no</td>\n",
       "      <td>0.8</td>\n",
       "      <td>flat</td>\n",
       "      <td>0</td>\n",
       "      <td>fixed defect</td>\n",
       "      <td>1</td>\n",
       "    </tr>\n",
       "    <tr>\n",
       "      <th>4</th>\n",
       "      <td>57</td>\n",
       "      <td>female</td>\n",
       "      <td>typical angina</td>\n",
       "      <td>120</td>\n",
       "      <td>354</td>\n",
       "      <td>lower than 120mg/ml</td>\n",
       "      <td>ST-T wave abnormality</td>\n",
       "      <td>163</td>\n",
       "      <td>yes</td>\n",
       "      <td>0.6</td>\n",
       "      <td>flat</td>\n",
       "      <td>0</td>\n",
       "      <td>fixed defect</td>\n",
       "      <td>1</td>\n",
       "    </tr>\n",
       "  </tbody>\n",
       "</table>\n",
       "</div>"
      ],
      "text/plain": [
       "   age     sex   chest_pain_type  resting_blood_pressure  cholesterol  \\\n",
       "0   63    male  non-anginal pain                     145          233   \n",
       "1   37    male   atypical angina                     130          250   \n",
       "2   41  female    typical angina                     130          204   \n",
       "3   56    male    typical angina                     120          236   \n",
       "4   57  female    typical angina                     120          354   \n",
       "\n",
       "     fasting_blood_sugar               rest_ecg  max_heart_rate_achieved  \\\n",
       "0  greater than 120mg/ml                 normal                      150   \n",
       "1    lower than 120mg/ml  ST-T wave abnormality                      187   \n",
       "2    lower than 120mg/ml                 normal                      172   \n",
       "3    lower than 120mg/ml  ST-T wave abnormality                      178   \n",
       "4    lower than 120mg/ml  ST-T wave abnormality                      163   \n",
       "\n",
       "  exercise_induced_angina  st_depression   st_slope  num_major_vessels  \\\n",
       "0                      no            2.3  upsloping                  0   \n",
       "1                      no            3.5  upsloping                  0   \n",
       "2                      no            1.4       flat                  0   \n",
       "3                      no            0.8       flat                  0   \n",
       "4                     yes            0.6       flat                  0   \n",
       "\n",
       "    thalassemia  target  \n",
       "0        normal       1  \n",
       "1  fixed defect       1  \n",
       "2  fixed defect       1  \n",
       "3  fixed defect       1  \n",
       "4  fixed defect       1  "
      ]
     },
     "execution_count": 3,
     "metadata": {},
     "output_type": "execute_result"
    }
   ],
   "source": [
    "data.head(5)"
   ]
  },
  {
   "cell_type": "markdown",
   "metadata": {},
   "source": [
    "#### Описание признаков"
   ]
  },
  {
   "cell_type": "markdown",
   "metadata": {},
   "source": [
    "**age**: The person's age in years\n",
    "\n",
    "**sex**: The person's sex (1 = male, 0 = female)\n",
    "\n",
    "**cp**: The chest pain experienced (Value 1: typical angina, Value 2: atypical angina, Value 3: non-anginal pain, Value 4: asymptomatic)\n",
    "\n",
    "**trestbps**: The person's resting blood pressure (mm Hg on admission to the hospital)\n",
    "\n",
    "**chol**: The person's cholesterol measurement in mg/dl\n",
    "\n",
    "**fbs**: The person's fasting blood sugar (> 120 mg/dl, 1 = true; 0 = false)\n",
    "\n",
    "**restecg**: Resting electrocardiographic measurement (0 = normal, 1 = having ST-T wave abnormality, 2 = showing probable or definite left ventricular hypertrophy by Estes' criteria)\n",
    "\n",
    "**thalach**: The person's maximum heart rate achieved\n",
    "\n",
    "**exang**: Exercise induced angina (1 = yes; 0 = no)\n",
    "\n",
    "**oldpeak**: ST depression induced by exercise relative to rest ('ST' relates to positions on the ECG plot. See more here)\n",
    "\n",
    "**slope**: the slope of the peak exercise ST segment (Value 1: upsloping, Value 2: flat, Value 3: downsloping)\n",
    "\n",
    "**ca**: The number of major vessels (0-3)\n",
    "\n",
    "**thal**: A blood disorder called thalassemia (3 = normal; 6 = fixed defect; 7 = reversable defect)\n",
    "\n",
    "**target**: Heart disease (0 = no, 1 = yes)"
   ]
  },
  {
   "cell_type": "markdown",
   "metadata": {},
   "source": [
    "> 1. age \n",
    "> 2. sex \n",
    "> 3. chest pain type (4 values) \n",
    "> 4. resting blood pressure \n",
    "> 5. serum cholestoral in mg/dl \n",
    "> 6. fasting blood sugar > 120 mg/dl\n",
    "> 7. resting electrocardiographic results (values 0,1,2)\n",
    "> 8. maximum heart rate achieved \n",
    "> 9. exercise induced angina \n",
    "> 10. oldpeak = ST depression induced by exercise relative to rest \n",
    "> 11. the slope of the peak exercise ST segment \n",
    "> 12. number of major vessels (0-3) colored by flourosopy \n",
    "> 13. thal: 3 = normal; 6 = fixed defect; 7 = reversable defect"
   ]
  },
  {
   "cell_type": "markdown",
   "metadata": {},
   "source": [
    "___"
   ]
  },
  {
   "cell_type": "markdown",
   "metadata": {},
   "source": [
    "**Сколько мужчин в датасете? Сколько женщен? (sex)**"
   ]
  },
  {
   "cell_type": "code",
   "execution_count": 4,
   "metadata": {},
   "outputs": [],
   "source": [
    "## Ваш код\n",
    "male_count = data[data['sex']=='male'].sex.count()"
   ]
  },
  {
   "cell_type": "code",
   "execution_count": 5,
   "metadata": {},
   "outputs": [
    {
     "data": {
      "text/plain": [
       "303"
      ]
     },
     "execution_count": 5,
     "metadata": {},
     "output_type": "execute_result"
    }
   ],
   "source": [
    "data.sex.count()"
   ]
  },
  {
   "cell_type": "code",
   "execution_count": 6,
   "metadata": {},
   "outputs": [],
   "source": [
    "female_count = data['sex'].value_counts().female"
   ]
  },
  {
   "cell_type": "code",
   "execution_count": 7,
   "metadata": {},
   "outputs": [
    {
     "name": "stdout",
     "output_type": "stream",
     "text": [
      "Мужчин в датасете: 207.\n",
      "Женщин в датасете: 96.\n"
     ]
    }
   ],
   "source": [
    "## Ваш ответ:\n",
    "print(f\"Мужчин в датасете: {male_count}.\")\n",
    "print(f\"Женщин в датасете: {female_count}.\")"
   ]
  },
  {
   "cell_type": "markdown",
   "metadata": {},
   "source": [
    " **Какой процент мужчин в датасете? (решите в одну строчку, не используя предыдущий результат. Не забудте знак процента)**"
   ]
  },
  {
   "cell_type": "code",
   "execution_count": 8,
   "metadata": {},
   "outputs": [],
   "source": [
    "## Ваш код\n",
    "man_freq = data['sex'].value_counts().male / data.sex.count() * 100"
   ]
  },
  {
   "cell_type": "code",
   "execution_count": 9,
   "metadata": {},
   "outputs": [
    {
     "name": "stdout",
     "output_type": "stream",
     "text": [
      "68.32 %\n"
     ]
    }
   ],
   "source": [
    "## Ваш ответ:\n",
    "print(\"%.2f %%\" % man_freq)"
   ]
  },
  {
   "cell_type": "markdown",
   "metadata": {},
   "source": [
    "**Сколько мужчин имеют заболевание сердца? Сколько женщин имеют заболевание сердца?**"
   ]
  },
  {
   "cell_type": "code",
   "execution_count": 10,
   "metadata": {},
   "outputs": [],
   "source": [
    "## Ваш код\n",
    "sick_male = data[((data['sex']=='male') & (data['target']== 1))].sex.count()\n",
    "sick_female = data[((data['sex']=='female') & (data['target']== 1))].sex.count()"
   ]
  },
  {
   "cell_type": "code",
   "execution_count": 11,
   "metadata": {},
   "outputs": [
    {
     "name": "stdout",
     "output_type": "stream",
     "text": [
      "93 мужчин имеют заболевания сердца.\n",
      "72 женщин имеют заболевания сердца.\n"
     ]
    }
   ],
   "source": [
    "## Ваш ответ:\n",
    "print(f\"{sick_male} мужчин имеют заболевания сердца.\")\n",
    "print(f\"{sick_female} женщин имеют заболевания сердца.\")"
   ]
  },
  {
   "cell_type": "markdown",
   "metadata": {},
   "source": [
    "**Какую долю, от общего числа пациентов, занимают мужчины не имеющие болезнь сердца?**"
   ]
  },
  {
   "cell_type": "code",
   "execution_count": 12,
   "metadata": {},
   "outputs": [],
   "source": [
    "## Ваш код\n",
    "health_male = data[((data['sex']=='male') & (data['target']== 0))].sex.count()\n",
    "total = data.sex.count()"
   ]
  },
  {
   "cell_type": "code",
   "execution_count": 13,
   "metadata": {},
   "outputs": [
    {
     "name": "stdout",
     "output_type": "stream",
     "text": [
      "0.37623762376237624\n"
     ]
    }
   ],
   "source": [
    "## Ваш ответ:\n",
    "print(f\"{health_male / total}\")"
   ]
  },
  {
   "cell_type": "markdown",
   "metadata": {},
   "source": [
    "**Сколько лет самому молодому пациенту, страдающему болезнью сердца?**"
   ]
  },
  {
   "cell_type": "code",
   "execution_count": 14,
   "metadata": {},
   "outputs": [],
   "source": [
    "## Ваш код\n",
    "sick_youngest = data[data['target']==1].age.min()"
   ]
  },
  {
   "cell_type": "code",
   "execution_count": 15,
   "metadata": {},
   "outputs": [
    {
     "name": "stdout",
     "output_type": "stream",
     "text": [
      "29 years\n"
     ]
    }
   ],
   "source": [
    "## Ваш ответ:\n",
    "print(f\"{sick_youngest} years\")"
   ]
  },
  {
   "cell_type": "markdown",
   "metadata": {},
   "source": [
    "**Сколько лет самому возастному пациенту, у которого нет проблем с сердцем?**"
   ]
  },
  {
   "cell_type": "code",
   "execution_count": 16,
   "metadata": {},
   "outputs": [],
   "source": [
    "## Ваш код\n",
    "health_oldest = data[data['target']==0].age.max()"
   ]
  },
  {
   "cell_type": "code",
   "execution_count": 17,
   "metadata": {},
   "outputs": [
    {
     "name": "stdout",
     "output_type": "stream",
     "text": [
      "77 years\n"
     ]
    }
   ],
   "source": [
    "## Ваш ответ:\n",
    "print(f\"{health_oldest} years\")"
   ]
  },
  {
   "cell_type": "markdown",
   "metadata": {},
   "source": [
    "**Сколько лет самой молодой женщине, которая страдает болезнью сердца?**"
   ]
  },
  {
   "cell_type": "code",
   "execution_count": 18,
   "metadata": {},
   "outputs": [],
   "source": [
    "## Ваш код\n",
    "youngest_sick_female = data[((data['sex']=='female') & (data['target']== 1))].age.min()"
   ]
  },
  {
   "cell_type": "code",
   "execution_count": 19,
   "metadata": {},
   "outputs": [
    {
     "name": "stdout",
     "output_type": "stream",
     "text": [
      "34 years\n"
     ]
    }
   ],
   "source": [
    "## Ваш ответ:\n",
    "print(f\"{youngest_sick_female} years\")"
   ]
  },
  {
   "cell_type": "markdown",
   "metadata": {},
   "source": [
    "**Какой средний возраст женщин?**"
   ]
  },
  {
   "cell_type": "code",
   "execution_count": 20,
   "metadata": {},
   "outputs": [],
   "source": [
    "## Ваш код\n",
    "avg_female_age = data[(data['sex']=='female')].age.mean()"
   ]
  },
  {
   "cell_type": "code",
   "execution_count": 21,
   "metadata": {},
   "outputs": [
    {
     "name": "stdout",
     "output_type": "stream",
     "text": [
      "55.68\n"
     ]
    }
   ],
   "source": [
    "## Ваш ответ:\n",
    "print(\"%.2f\" %avg_female_age)"
   ]
  },
  {
   "cell_type": "markdown",
   "metadata": {},
   "source": [
    "**Каковы средние значения и среднеквадратичные отклонения возраста тех, кто страдают болезнью сердца?**"
   ]
  },
  {
   "cell_type": "code",
   "execution_count": 22,
   "metadata": {},
   "outputs": [
    {
     "data": {
      "text/plain": [
       "9.550650751946778"
      ]
     },
     "execution_count": 22,
     "metadata": {},
     "output_type": "execute_result"
    }
   ],
   "source": [
    "## Ваш код\n",
    "data[data['target']== 1].age.mean()\n",
    "data[data['target']== 1].age.std()"
   ]
  },
  {
   "cell_type": "code",
   "execution_count": 23,
   "metadata": {},
   "outputs": [
    {
     "data": {
      "text/plain": [
       "mean    52.496970\n",
       "std      9.550651\n",
       "Name: age, dtype: float64"
      ]
     },
     "execution_count": 23,
     "metadata": {},
     "output_type": "execute_result"
    }
   ],
   "source": [
    "## Ваш ответ:\n",
    "data[data['target']== 1].age.agg(['mean','std'])"
   ]
  },
  {
   "cell_type": "markdown",
   "metadata": {},
   "source": [
    "**Правда ли, что люди не болеющие болезнью сердца имеют уровня холестерина меньше среднего? (chol)**"
   ]
  },
  {
   "cell_type": "code",
   "execution_count": 24,
   "metadata": {},
   "outputs": [
    {
     "name": "stdout",
     "output_type": "stream",
     "text": [
      "246.26402640264027\n"
     ]
    }
   ],
   "source": [
    "## Ваш код\n",
    "mean_chol = data.cholesterol.mean()\n",
    "print(mean_chol)"
   ]
  },
  {
   "cell_type": "code",
   "execution_count": 25,
   "metadata": {},
   "outputs": [
    {
     "data": {
      "text/plain": [
       "False"
      ]
     },
     "execution_count": 25,
     "metadata": {},
     "output_type": "execute_result"
    }
   ],
   "source": [
    "(data[data['target']== 1].cholesterol < mean_chol).all()"
   ]
  },
  {
   "cell_type": "code",
   "execution_count": 26,
   "metadata": {},
   "outputs": [
    {
     "name": "stdout",
     "output_type": "stream",
     "text": [
      "Неправда\n"
     ]
    }
   ],
   "source": [
    "## Ваш ответ:\n",
    "if (data[data['target']== 1].cholesterol < mean_chol).all():\n",
    "    print(\"Правда\")\n",
    "else:\n",
    "    print(\"Неправда\")"
   ]
  },
  {
   "cell_type": "markdown",
   "metadata": {},
   "source": [
    "**Выведите статистику rest_ecg для все числовых признаков, его максимально и среднее значение (используйте groupby(), решите в одну строчку)**"
   ]
  },
  {
   "cell_type": "code",
   "execution_count": 27,
   "metadata": {},
   "outputs": [
    {
     "data": {
      "text/html": [
       "<div>\n",
       "<style scoped>\n",
       "    .dataframe tbody tr th:only-of-type {\n",
       "        vertical-align: middle;\n",
       "    }\n",
       "\n",
       "    .dataframe tbody tr th {\n",
       "        vertical-align: top;\n",
       "    }\n",
       "\n",
       "    .dataframe thead th {\n",
       "        text-align: right;\n",
       "    }\n",
       "</style>\n",
       "<table border=\"1\" class=\"dataframe\">\n",
       "  <thead>\n",
       "    <tr style=\"text-align: right;\">\n",
       "      <th></th>\n",
       "      <th>rest_ecg</th>\n",
       "      <th>ST-T wave abnormality</th>\n",
       "      <th>left ventricular hypertrophy</th>\n",
       "      <th>normal</th>\n",
       "    </tr>\n",
       "  </thead>\n",
       "  <tbody>\n",
       "    <tr>\n",
       "      <th rowspan=\"8\" valign=\"top\">age</th>\n",
       "      <th>count</th>\n",
       "      <td>152.000000</td>\n",
       "      <td>4.000000</td>\n",
       "      <td>147.000000</td>\n",
       "    </tr>\n",
       "    <tr>\n",
       "      <th>mean</th>\n",
       "      <td>52.914474</td>\n",
       "      <td>61.000000</td>\n",
       "      <td>55.687075</td>\n",
       "    </tr>\n",
       "    <tr>\n",
       "      <th>std</th>\n",
       "      <td>9.229196</td>\n",
       "      <td>10.099505</td>\n",
       "      <td>8.675902</td>\n",
       "    </tr>\n",
       "    <tr>\n",
       "      <th>min</th>\n",
       "      <td>34.000000</td>\n",
       "      <td>55.000000</td>\n",
       "      <td>29.000000</td>\n",
       "    </tr>\n",
       "    <tr>\n",
       "      <th>25%</th>\n",
       "      <td>44.750000</td>\n",
       "      <td>55.000000</td>\n",
       "      <td>50.500000</td>\n",
       "    </tr>\n",
       "    <tr>\n",
       "      <th>50%</th>\n",
       "      <td>53.500000</td>\n",
       "      <td>56.500000</td>\n",
       "      <td>57.000000</td>\n",
       "    </tr>\n",
       "    <tr>\n",
       "      <th>75%</th>\n",
       "      <td>60.000000</td>\n",
       "      <td>62.500000</td>\n",
       "      <td>62.000000</td>\n",
       "    </tr>\n",
       "    <tr>\n",
       "      <th>max</th>\n",
       "      <td>71.000000</td>\n",
       "      <td>76.000000</td>\n",
       "      <td>77.000000</td>\n",
       "    </tr>\n",
       "    <tr>\n",
       "      <th rowspan=\"8\" valign=\"top\">resting_blood_pressure</th>\n",
       "      <th>count</th>\n",
       "      <td>152.000000</td>\n",
       "      <td>4.000000</td>\n",
       "      <td>147.000000</td>\n",
       "    </tr>\n",
       "    <tr>\n",
       "      <th>mean</th>\n",
       "      <td>129.065789</td>\n",
       "      <td>140.500000</td>\n",
       "      <td>134.027211</td>\n",
       "    </tr>\n",
       "    <tr>\n",
       "      <th>std</th>\n",
       "      <td>16.423078</td>\n",
       "      <td>28.396009</td>\n",
       "      <td>18.053553</td>\n",
       "    </tr>\n",
       "    <tr>\n",
       "      <th>min</th>\n",
       "      <td>94.000000</td>\n",
       "      <td>114.000000</td>\n",
       "      <td>100.000000</td>\n",
       "    </tr>\n",
       "    <tr>\n",
       "      <th>25%</th>\n",
       "      <td>120.000000</td>\n",
       "      <td>124.500000</td>\n",
       "      <td>121.000000</td>\n",
       "    </tr>\n",
       "    <tr>\n",
       "      <th>50%</th>\n",
       "      <td>128.500000</td>\n",
       "      <td>134.000000</td>\n",
       "      <td>130.000000</td>\n",
       "    </tr>\n",
       "    <tr>\n",
       "      <th>75%</th>\n",
       "      <td>140.000000</td>\n",
       "      <td>150.000000</td>\n",
       "      <td>142.000000</td>\n",
       "    </tr>\n",
       "    <tr>\n",
       "      <th>max</th>\n",
       "      <td>180.000000</td>\n",
       "      <td>180.000000</td>\n",
       "      <td>200.000000</td>\n",
       "    </tr>\n",
       "    <tr>\n",
       "      <th rowspan=\"8\" valign=\"top\">cholesterol</th>\n",
       "      <th>count</th>\n",
       "      <td>152.000000</td>\n",
       "      <td>4.000000</td>\n",
       "      <td>147.000000</td>\n",
       "    </tr>\n",
       "    <tr>\n",
       "      <th>mean</th>\n",
       "      <td>237.269737</td>\n",
       "      <td>261.750000</td>\n",
       "      <td>255.142857</td>\n",
       "    </tr>\n",
       "    <tr>\n",
       "      <th>std</th>\n",
       "      <td>47.050765</td>\n",
       "      <td>70.320101</td>\n",
       "      <td>54.731099</td>\n",
       "    </tr>\n",
       "    <tr>\n",
       "      <th>min</th>\n",
       "      <td>126.000000</td>\n",
       "      <td>197.000000</td>\n",
       "      <td>149.000000</td>\n",
       "    </tr>\n",
       "    <tr>\n",
       "      <th>25%</th>\n",
       "      <td>204.000000</td>\n",
       "      <td>203.000000</td>\n",
       "      <td>220.000000</td>\n",
       "    </tr>\n",
       "    <tr>\n",
       "      <th>50%</th>\n",
       "      <td>232.000000</td>\n",
       "      <td>261.500000</td>\n",
       "      <td>252.000000</td>\n",
       "    </tr>\n",
       "    <tr>\n",
       "      <th>75%</th>\n",
       "      <td>264.500000</td>\n",
       "      <td>320.250000</td>\n",
       "      <td>282.500000</td>\n",
       "    </tr>\n",
       "    <tr>\n",
       "      <th>max</th>\n",
       "      <td>354.000000</td>\n",
       "      <td>327.000000</td>\n",
       "      <td>564.000000</td>\n",
       "    </tr>\n",
       "    <tr>\n",
       "      <th rowspan=\"8\" valign=\"top\">max_heart_rate_achieved</th>\n",
       "      <th>count</th>\n",
       "      <td>152.000000</td>\n",
       "      <td>4.000000</td>\n",
       "      <td>147.000000</td>\n",
       "    </tr>\n",
       "    <tr>\n",
       "      <th>mean</th>\n",
       "      <td>151.960526</td>\n",
       "      <td>125.750000</td>\n",
       "      <td>147.904762</td>\n",
       "    </tr>\n",
       "    <tr>\n",
       "      <th>std</th>\n",
       "      <td>23.312414</td>\n",
       "      <td>11.441882</td>\n",
       "      <td>22.275158</td>\n",
       "    </tr>\n",
       "    <tr>\n",
       "      <th>min</th>\n",
       "      <td>71.000000</td>\n",
       "      <td>116.000000</td>\n",
       "      <td>90.000000</td>\n",
       "    </tr>\n",
       "    <tr>\n",
       "      <th>25%</th>\n",
       "      <td>139.750000</td>\n",
       "      <td>116.750000</td>\n",
       "      <td>132.000000</td>\n",
       "    </tr>\n",
       "    <tr>\n",
       "      <th>50%</th>\n",
       "      <td>158.000000</td>\n",
       "      <td>123.500000</td>\n",
       "      <td>150.000000</td>\n",
       "    </tr>\n",
       "    <tr>\n",
       "      <th>75%</th>\n",
       "      <td>169.250000</td>\n",
       "      <td>132.500000</td>\n",
       "      <td>162.000000</td>\n",
       "    </tr>\n",
       "    <tr>\n",
       "      <th>max</th>\n",
       "      <td>194.000000</td>\n",
       "      <td>140.000000</td>\n",
       "      <td>202.000000</td>\n",
       "    </tr>\n",
       "    <tr>\n",
       "      <th rowspan=\"8\" valign=\"top\">st_depression</th>\n",
       "      <th>count</th>\n",
       "      <td>152.000000</td>\n",
       "      <td>4.000000</td>\n",
       "      <td>147.000000</td>\n",
       "    </tr>\n",
       "    <tr>\n",
       "      <th>mean</th>\n",
       "      <td>0.879605</td>\n",
       "      <td>2.725000</td>\n",
       "      <td>1.159184</td>\n",
       "    </tr>\n",
       "    <tr>\n",
       "      <th>std</th>\n",
       "      <td>1.054561</td>\n",
       "      <td>1.463728</td>\n",
       "      <td>1.214679</td>\n",
       "    </tr>\n",
       "    <tr>\n",
       "      <th>min</th>\n",
       "      <td>0.000000</td>\n",
       "      <td>1.100000</td>\n",
       "      <td>0.000000</td>\n",
       "    </tr>\n",
       "    <tr>\n",
       "      <th>25%</th>\n",
       "      <td>0.000000</td>\n",
       "      <td>1.775000</td>\n",
       "      <td>0.000000</td>\n",
       "    </tr>\n",
       "    <tr>\n",
       "      <th>50%</th>\n",
       "      <td>0.550000</td>\n",
       "      <td>2.700000</td>\n",
       "      <td>0.800000</td>\n",
       "    </tr>\n",
       "    <tr>\n",
       "      <th>75%</th>\n",
       "      <td>1.400000</td>\n",
       "      <td>3.650000</td>\n",
       "      <td>1.950000</td>\n",
       "    </tr>\n",
       "    <tr>\n",
       "      <th>max</th>\n",
       "      <td>5.600000</td>\n",
       "      <td>4.400000</td>\n",
       "      <td>6.200000</td>\n",
       "    </tr>\n",
       "    <tr>\n",
       "      <th rowspan=\"8\" valign=\"top\">num_major_vessels</th>\n",
       "      <th>count</th>\n",
       "      <td>152.000000</td>\n",
       "      <td>4.000000</td>\n",
       "      <td>147.000000</td>\n",
       "    </tr>\n",
       "    <tr>\n",
       "      <th>mean</th>\n",
       "      <td>0.638158</td>\n",
       "      <td>1.000000</td>\n",
       "      <td>0.816327</td>\n",
       "    </tr>\n",
       "    <tr>\n",
       "      <th>std</th>\n",
       "      <td>1.006925</td>\n",
       "      <td>1.414214</td>\n",
       "      <td>1.027168</td>\n",
       "    </tr>\n",
       "    <tr>\n",
       "      <th>min</th>\n",
       "      <td>0.000000</td>\n",
       "      <td>0.000000</td>\n",
       "      <td>0.000000</td>\n",
       "    </tr>\n",
       "    <tr>\n",
       "      <th>25%</th>\n",
       "      <td>0.000000</td>\n",
       "      <td>0.000000</td>\n",
       "      <td>0.000000</td>\n",
       "    </tr>\n",
       "    <tr>\n",
       "      <th>50%</th>\n",
       "      <td>0.000000</td>\n",
       "      <td>0.500000</td>\n",
       "      <td>0.000000</td>\n",
       "    </tr>\n",
       "    <tr>\n",
       "      <th>75%</th>\n",
       "      <td>1.000000</td>\n",
       "      <td>1.500000</td>\n",
       "      <td>1.000000</td>\n",
       "    </tr>\n",
       "    <tr>\n",
       "      <th>max</th>\n",
       "      <td>4.000000</td>\n",
       "      <td>3.000000</td>\n",
       "      <td>4.000000</td>\n",
       "    </tr>\n",
       "    <tr>\n",
       "      <th rowspan=\"8\" valign=\"top\">target</th>\n",
       "      <th>count</th>\n",
       "      <td>152.000000</td>\n",
       "      <td>4.000000</td>\n",
       "      <td>147.000000</td>\n",
       "    </tr>\n",
       "    <tr>\n",
       "      <th>mean</th>\n",
       "      <td>0.631579</td>\n",
       "      <td>0.250000</td>\n",
       "      <td>0.462585</td>\n",
       "    </tr>\n",
       "    <tr>\n",
       "      <th>std</th>\n",
       "      <td>0.483971</td>\n",
       "      <td>0.500000</td>\n",
       "      <td>0.500303</td>\n",
       "    </tr>\n",
       "    <tr>\n",
       "      <th>min</th>\n",
       "      <td>0.000000</td>\n",
       "      <td>0.000000</td>\n",
       "      <td>0.000000</td>\n",
       "    </tr>\n",
       "    <tr>\n",
       "      <th>25%</th>\n",
       "      <td>0.000000</td>\n",
       "      <td>0.000000</td>\n",
       "      <td>0.000000</td>\n",
       "    </tr>\n",
       "    <tr>\n",
       "      <th>50%</th>\n",
       "      <td>1.000000</td>\n",
       "      <td>0.000000</td>\n",
       "      <td>0.000000</td>\n",
       "    </tr>\n",
       "    <tr>\n",
       "      <th>75%</th>\n",
       "      <td>1.000000</td>\n",
       "      <td>0.250000</td>\n",
       "      <td>1.000000</td>\n",
       "    </tr>\n",
       "    <tr>\n",
       "      <th>max</th>\n",
       "      <td>1.000000</td>\n",
       "      <td>1.000000</td>\n",
       "      <td>1.000000</td>\n",
       "    </tr>\n",
       "  </tbody>\n",
       "</table>\n",
       "</div>"
      ],
      "text/plain": [
       "rest_ecg                       ST-T wave abnormality  \\\n",
       "age                     count             152.000000   \n",
       "                        mean               52.914474   \n",
       "                        std                 9.229196   \n",
       "                        min                34.000000   \n",
       "                        25%                44.750000   \n",
       "                        50%                53.500000   \n",
       "                        75%                60.000000   \n",
       "                        max                71.000000   \n",
       "resting_blood_pressure  count             152.000000   \n",
       "                        mean              129.065789   \n",
       "                        std                16.423078   \n",
       "                        min                94.000000   \n",
       "                        25%               120.000000   \n",
       "                        50%               128.500000   \n",
       "                        75%               140.000000   \n",
       "                        max               180.000000   \n",
       "cholesterol             count             152.000000   \n",
       "                        mean              237.269737   \n",
       "                        std                47.050765   \n",
       "                        min               126.000000   \n",
       "                        25%               204.000000   \n",
       "                        50%               232.000000   \n",
       "                        75%               264.500000   \n",
       "                        max               354.000000   \n",
       "max_heart_rate_achieved count             152.000000   \n",
       "                        mean              151.960526   \n",
       "                        std                23.312414   \n",
       "                        min                71.000000   \n",
       "                        25%               139.750000   \n",
       "                        50%               158.000000   \n",
       "                        75%               169.250000   \n",
       "                        max               194.000000   \n",
       "st_depression           count             152.000000   \n",
       "                        mean                0.879605   \n",
       "                        std                 1.054561   \n",
       "                        min                 0.000000   \n",
       "                        25%                 0.000000   \n",
       "                        50%                 0.550000   \n",
       "                        75%                 1.400000   \n",
       "                        max                 5.600000   \n",
       "num_major_vessels       count             152.000000   \n",
       "                        mean                0.638158   \n",
       "                        std                 1.006925   \n",
       "                        min                 0.000000   \n",
       "                        25%                 0.000000   \n",
       "                        50%                 0.000000   \n",
       "                        75%                 1.000000   \n",
       "                        max                 4.000000   \n",
       "target                  count             152.000000   \n",
       "                        mean                0.631579   \n",
       "                        std                 0.483971   \n",
       "                        min                 0.000000   \n",
       "                        25%                 0.000000   \n",
       "                        50%                 1.000000   \n",
       "                        75%                 1.000000   \n",
       "                        max                 1.000000   \n",
       "\n",
       "rest_ecg                       left ventricular hypertrophy      normal  \n",
       "age                     count                      4.000000  147.000000  \n",
       "                        mean                      61.000000   55.687075  \n",
       "                        std                       10.099505    8.675902  \n",
       "                        min                       55.000000   29.000000  \n",
       "                        25%                       55.000000   50.500000  \n",
       "                        50%                       56.500000   57.000000  \n",
       "                        75%                       62.500000   62.000000  \n",
       "                        max                       76.000000   77.000000  \n",
       "resting_blood_pressure  count                      4.000000  147.000000  \n",
       "                        mean                     140.500000  134.027211  \n",
       "                        std                       28.396009   18.053553  \n",
       "                        min                      114.000000  100.000000  \n",
       "                        25%                      124.500000  121.000000  \n",
       "                        50%                      134.000000  130.000000  \n",
       "                        75%                      150.000000  142.000000  \n",
       "                        max                      180.000000  200.000000  \n",
       "cholesterol             count                      4.000000  147.000000  \n",
       "                        mean                     261.750000  255.142857  \n",
       "                        std                       70.320101   54.731099  \n",
       "                        min                      197.000000  149.000000  \n",
       "                        25%                      203.000000  220.000000  \n",
       "                        50%                      261.500000  252.000000  \n",
       "                        75%                      320.250000  282.500000  \n",
       "                        max                      327.000000  564.000000  \n",
       "max_heart_rate_achieved count                      4.000000  147.000000  \n",
       "                        mean                     125.750000  147.904762  \n",
       "                        std                       11.441882   22.275158  \n",
       "                        min                      116.000000   90.000000  \n",
       "                        25%                      116.750000  132.000000  \n",
       "                        50%                      123.500000  150.000000  \n",
       "                        75%                      132.500000  162.000000  \n",
       "                        max                      140.000000  202.000000  \n",
       "st_depression           count                      4.000000  147.000000  \n",
       "                        mean                       2.725000    1.159184  \n",
       "                        std                        1.463728    1.214679  \n",
       "                        min                        1.100000    0.000000  \n",
       "                        25%                        1.775000    0.000000  \n",
       "                        50%                        2.700000    0.800000  \n",
       "                        75%                        3.650000    1.950000  \n",
       "                        max                        4.400000    6.200000  \n",
       "num_major_vessels       count                      4.000000  147.000000  \n",
       "                        mean                       1.000000    0.816327  \n",
       "                        std                        1.414214    1.027168  \n",
       "                        min                        0.000000    0.000000  \n",
       "                        25%                        0.000000    0.000000  \n",
       "                        50%                        0.500000    0.000000  \n",
       "                        75%                        1.500000    1.000000  \n",
       "                        max                        3.000000    4.000000  \n",
       "target                  count                      4.000000  147.000000  \n",
       "                        mean                       0.250000    0.462585  \n",
       "                        std                        0.500000    0.500303  \n",
       "                        min                        0.000000    0.000000  \n",
       "                        25%                        0.000000    0.000000  \n",
       "                        50%                        0.000000    0.000000  \n",
       "                        75%                        0.250000    1.000000  \n",
       "                        max                        1.000000    1.000000  "
      ]
     },
     "execution_count": 27,
     "metadata": {},
     "output_type": "execute_result"
    }
   ],
   "source": [
    "## Ваш код\n",
    "data.groupby(\"rest_ecg\").describe().T"
   ]
  },
  {
   "cell_type": "code",
   "execution_count": 28,
   "metadata": {},
   "outputs": [],
   "source": [
    "## Ваш ответ: см. выше"
   ]
  },
  {
   "cell_type": "markdown",
   "metadata": {},
   "source": [
    "**Посчитайте у кого уровень депрессии при физический нагрузке выше (в среднем), среди мужчин страдающих болезнью сердца или среди женщин не страдающих болезнью сердца (st_depression)**"
   ]
  },
  {
   "cell_type": "code",
   "execution_count": 29,
   "metadata": {},
   "outputs": [],
   "source": [
    "## Ваш код\n",
    "sick_male_depression = data[((data['sex']=='male') & (data['target']== 1))].st_depression.mean()\n",
    "health_female_depression = data[((data['sex']=='female') & (data['target']== 0))].st_depression.mean()"
   ]
  },
  {
   "cell_type": "code",
   "execution_count": 30,
   "metadata": {},
   "outputs": [
    {
     "name": "stdout",
     "output_type": "stream",
     "text": [
      "Уровень депрессии выше у женщин, не страдающих болезнью сердца.\n"
     ]
    }
   ],
   "source": [
    "## Ваш ответ:\n",
    "if sick_male_depression > health_female_depression:\n",
    "    print(\"Уровень депрессии выше у мужчин, страдающих болезнью сердца.\")\n",
    "elif sick_male_depression < health_female_depression:\n",
    "    print(\"Уровень депрессии выше у женщин, не страдающих болезнью сердца.\")\n",
    "else:\n",
    "    print(\"Уровень депрессии одинаковый.\")\n",
    "    "
   ]
  },
  {
   "cell_type": "markdown",
   "metadata": {},
   "source": [
    "**Посчтитайте максимальный и минимальный уровень холестерина для каждого типа chest_pain_type, rest_ecg, thalassemia. Пишите код оптимально, можно использовать циклы**"
   ]
  },
  {
   "cell_type": "code",
   "execution_count": 31,
   "metadata": {},
   "outputs": [
    {
     "name": "stdout",
     "output_type": "stream",
     "text": [
      "                  min  max\n",
      "chest_pain_type           \n",
      "atypical angina   126  564\n",
      "non-anginal pain  182  298\n",
      "typical angina    131  409\n",
      "                              min  max\n",
      "rest_ecg                              \n",
      "ST-T wave abnormality         126  354\n",
      "left ventricular hypertrophy  197  327\n",
      "normal                        149  564\n",
      "                   min  max\n",
      "thalassemia                \n",
      "fixed defect       141  417\n",
      "normal             169  318\n",
      "reversable defect  126  564\n"
     ]
    }
   ],
   "source": [
    "## Ваш код\n",
    "lst = [\"chest_pain_type\", \"rest_ecg\", \"thalassemia\"]\n",
    "for elem in lst:\n",
    "    group = data.groupby([elem])\n",
    "    print(group[\"cholesterol\"].agg(['min', 'max']))"
   ]
  },
  {
   "cell_type": "code",
   "execution_count": 32,
   "metadata": {},
   "outputs": [],
   "source": [
    "## Ваш ответ: см. выше"
   ]
  },
  {
   "cell_type": "markdown",
   "metadata": {},
   "source": [
    "**Сколько значений может принимать каждый из категориальных признаков?**"
   ]
  },
  {
   "cell_type": "code",
   "execution_count": 33,
   "metadata": {},
   "outputs": [
    {
     "name": "stdout",
     "output_type": "stream",
     "text": [
      "sex: 2\n",
      "chest_pain_type: 3\n",
      "fasting_blood_sugar: 2\n",
      "rest_ecg: 3\n",
      "exercise_induced_angina: 2\n",
      "st_slope: 2\n",
      "thalassemia: 3\n"
     ]
    }
   ],
   "source": [
    "## Ваш код\n",
    "objects = []\n",
    "for column in data.columns:\n",
    "    if np.dtype(data[column]) == 'object':\n",
    "        objects.append(column)\n",
    "        print(f\"{column}: {len(data[column].unique())}\")"
   ]
  },
  {
   "cell_type": "code",
   "execution_count": 34,
   "metadata": {},
   "outputs": [],
   "source": [
    "## Ваш ответ: см. выше"
   ]
  },
  {
   "cell_type": "markdown",
   "metadata": {},
   "source": [
    "**У какого категориального признака наблюдается самый сильный дизбаланс классов?**"
   ]
  },
  {
   "cell_type": "code",
   "execution_count": 35,
   "metadata": {},
   "outputs": [
    {
     "data": {
      "text/plain": [
       "sex                         78.488853\n",
       "chest_pain_type             85.860352\n",
       "fasting_blood_sugar        150.613744\n",
       "rest_ecg                    84.041656\n",
       "exercise_induced_angina     74.246212\n",
       "st_slope                    13.435029\n",
       "thalassemia                 74.303432\n",
       "dtype: float64"
      ]
     },
     "execution_count": 35,
     "metadata": {},
     "output_type": "execute_result"
    }
   ],
   "source": [
    "## Ваш код\n",
    "L = lambda x: x.value_counts().std()\n",
    "data[objects].agg(L)"
   ]
  },
  {
   "cell_type": "code",
   "execution_count": 36,
   "metadata": {},
   "outputs": [
    {
     "data": {
      "text/plain": [
       "2"
      ]
     },
     "execution_count": 36,
     "metadata": {},
     "output_type": "execute_result"
    }
   ],
   "source": [
    "D = data[objects].agg(L)\n",
    "D.argmax()"
   ]
  },
  {
   "cell_type": "code",
   "execution_count": 37,
   "metadata": {},
   "outputs": [],
   "source": [
    "L = lambda x: x.value_counts().std()\n",
    "D = data[objects].agg(L)"
   ]
  },
  {
   "cell_type": "code",
   "execution_count": 38,
   "metadata": {},
   "outputs": [
    {
     "name": "stdout",
     "output_type": "stream",
     "text": [
      "fasting_blood_sugar\n"
     ]
    }
   ],
   "source": [
    "## Ваш ответ:\n",
    "print(objects[D.argmax()])"
   ]
  },
  {
   "cell_type": "markdown",
   "metadata": {},
   "source": [
    "---"
   ]
  }
 ],
 "metadata": {
  "kernelspec": {
   "display_name": "Python 3 (ipykernel)",
   "language": "python",
   "name": "python3"
  },
  "language_info": {
   "codemirror_mode": {
    "name": "ipython",
    "version": 3
   },
   "file_extension": ".py",
   "mimetype": "text/x-python",
   "name": "python",
   "nbconvert_exporter": "python",
   "pygments_lexer": "ipython3",
   "version": "3.9.12"
  }
 },
 "nbformat": 4,
 "nbformat_minor": 4
}
