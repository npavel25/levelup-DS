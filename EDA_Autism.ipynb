{
 "cells": [
  {
   "cell_type": "markdown",
   "id": "da8576d4-08dc-4003-b24f-e26ea9ed536e",
   "metadata": {},
   "source": [
    "# EDA по аутизму"
   ]
  },
  {
   "cell_type": "code",
   "execution_count": 1,
   "id": "92bab956-9802-4b24-a7f9-7e358a226de9",
   "metadata": {
    "tags": []
   },
   "outputs": [],
   "source": [
    "import pandas as pd\n",
    "import numpy as np\n",
    "\n",
    "import warnings\n",
    "warnings.filterwarnings('ignore')\n",
    "\n",
    "#from scipy.io.arff import loadarff"
   ]
  },
  {
   "cell_type": "code",
   "execution_count": 2,
   "id": "22948a5a-f2fa-4de8-8696-6c5c56f73d45",
   "metadata": {},
   "outputs": [],
   "source": [
    "data = pd.read_csv('Autism_Data.arff')\n",
    "#raw_data = loadarff('./Autism_Data.arff')\n",
    "#df_data = pd.DataFrame(raw_data[0])"
   ]
  },
  {
   "cell_type": "code",
   "execution_count": 3,
   "id": "286dcdbc-0831-435f-9ffe-cbb67f8d8a59",
   "metadata": {},
   "outputs": [
    {
     "data": {
      "text/html": [
       "<div>\n",
       "<style scoped>\n",
       "    .dataframe tbody tr th:only-of-type {\n",
       "        vertical-align: middle;\n",
       "    }\n",
       "\n",
       "    .dataframe tbody tr th {\n",
       "        vertical-align: top;\n",
       "    }\n",
       "\n",
       "    .dataframe thead th {\n",
       "        text-align: right;\n",
       "    }\n",
       "</style>\n",
       "<table border=\"1\" class=\"dataframe\">\n",
       "  <thead>\n",
       "    <tr style=\"text-align: right;\">\n",
       "      <th></th>\n",
       "      <th>0</th>\n",
       "      <th>1</th>\n",
       "      <th>2</th>\n",
       "      <th>3</th>\n",
       "      <th>4</th>\n",
       "    </tr>\n",
       "  </thead>\n",
       "  <tbody>\n",
       "    <tr>\n",
       "      <th>A1_Score</th>\n",
       "      <td>1</td>\n",
       "      <td>1</td>\n",
       "      <td>1</td>\n",
       "      <td>1</td>\n",
       "      <td>1</td>\n",
       "    </tr>\n",
       "    <tr>\n",
       "      <th>A2_Score</th>\n",
       "      <td>1</td>\n",
       "      <td>1</td>\n",
       "      <td>1</td>\n",
       "      <td>1</td>\n",
       "      <td>0</td>\n",
       "    </tr>\n",
       "    <tr>\n",
       "      <th>A3_Score</th>\n",
       "      <td>1</td>\n",
       "      <td>0</td>\n",
       "      <td>0</td>\n",
       "      <td>0</td>\n",
       "      <td>0</td>\n",
       "    </tr>\n",
       "    <tr>\n",
       "      <th>A4_Score</th>\n",
       "      <td>1</td>\n",
       "      <td>1</td>\n",
       "      <td>1</td>\n",
       "      <td>1</td>\n",
       "      <td>0</td>\n",
       "    </tr>\n",
       "    <tr>\n",
       "      <th>A5_Score</th>\n",
       "      <td>0</td>\n",
       "      <td>0</td>\n",
       "      <td>1</td>\n",
       "      <td>0</td>\n",
       "      <td>0</td>\n",
       "    </tr>\n",
       "    <tr>\n",
       "      <th>A6_Score</th>\n",
       "      <td>0</td>\n",
       "      <td>0</td>\n",
       "      <td>0</td>\n",
       "      <td>0</td>\n",
       "      <td>0</td>\n",
       "    </tr>\n",
       "    <tr>\n",
       "      <th>A7_Score</th>\n",
       "      <td>1</td>\n",
       "      <td>0</td>\n",
       "      <td>1</td>\n",
       "      <td>1</td>\n",
       "      <td>0</td>\n",
       "    </tr>\n",
       "    <tr>\n",
       "      <th>A8_Score</th>\n",
       "      <td>1</td>\n",
       "      <td>1</td>\n",
       "      <td>1</td>\n",
       "      <td>1</td>\n",
       "      <td>1</td>\n",
       "    </tr>\n",
       "    <tr>\n",
       "      <th>A9_Score</th>\n",
       "      <td>0</td>\n",
       "      <td>0</td>\n",
       "      <td>1</td>\n",
       "      <td>0</td>\n",
       "      <td>0</td>\n",
       "    </tr>\n",
       "    <tr>\n",
       "      <th>A10_Score</th>\n",
       "      <td>0</td>\n",
       "      <td>1</td>\n",
       "      <td>1</td>\n",
       "      <td>1</td>\n",
       "      <td>0</td>\n",
       "    </tr>\n",
       "    <tr>\n",
       "      <th>age</th>\n",
       "      <td>26</td>\n",
       "      <td>24</td>\n",
       "      <td>27</td>\n",
       "      <td>35</td>\n",
       "      <td>40</td>\n",
       "    </tr>\n",
       "    <tr>\n",
       "      <th>gender</th>\n",
       "      <td>f</td>\n",
       "      <td>m</td>\n",
       "      <td>m</td>\n",
       "      <td>f</td>\n",
       "      <td>f</td>\n",
       "    </tr>\n",
       "    <tr>\n",
       "      <th>ethnicity</th>\n",
       "      <td>White-European</td>\n",
       "      <td>Latino</td>\n",
       "      <td>Latino</td>\n",
       "      <td>White-European</td>\n",
       "      <td>?</td>\n",
       "    </tr>\n",
       "    <tr>\n",
       "      <th>jundice</th>\n",
       "      <td>no</td>\n",
       "      <td>no</td>\n",
       "      <td>yes</td>\n",
       "      <td>no</td>\n",
       "      <td>no</td>\n",
       "    </tr>\n",
       "    <tr>\n",
       "      <th>austim</th>\n",
       "      <td>no</td>\n",
       "      <td>yes</td>\n",
       "      <td>yes</td>\n",
       "      <td>yes</td>\n",
       "      <td>no</td>\n",
       "    </tr>\n",
       "    <tr>\n",
       "      <th>contry_of_res</th>\n",
       "      <td>'United States'</td>\n",
       "      <td>Brazil</td>\n",
       "      <td>Spain</td>\n",
       "      <td>'United States'</td>\n",
       "      <td>Egypt</td>\n",
       "    </tr>\n",
       "    <tr>\n",
       "      <th>used_app_before</th>\n",
       "      <td>no</td>\n",
       "      <td>no</td>\n",
       "      <td>no</td>\n",
       "      <td>no</td>\n",
       "      <td>no</td>\n",
       "    </tr>\n",
       "    <tr>\n",
       "      <th>result</th>\n",
       "      <td>6</td>\n",
       "      <td>5</td>\n",
       "      <td>8</td>\n",
       "      <td>6</td>\n",
       "      <td>2</td>\n",
       "    </tr>\n",
       "    <tr>\n",
       "      <th>age_desc</th>\n",
       "      <td>'18 and more'</td>\n",
       "      <td>'18 and more'</td>\n",
       "      <td>'18 and more'</td>\n",
       "      <td>'18 and more'</td>\n",
       "      <td>'18 and more'</td>\n",
       "    </tr>\n",
       "    <tr>\n",
       "      <th>relation</th>\n",
       "      <td>Self</td>\n",
       "      <td>Self</td>\n",
       "      <td>Parent</td>\n",
       "      <td>Self</td>\n",
       "      <td>?</td>\n",
       "    </tr>\n",
       "    <tr>\n",
       "      <th>Class/ASD</th>\n",
       "      <td>NO</td>\n",
       "      <td>NO</td>\n",
       "      <td>YES</td>\n",
       "      <td>NO</td>\n",
       "      <td>NO</td>\n",
       "    </tr>\n",
       "  </tbody>\n",
       "</table>\n",
       "</div>"
      ],
      "text/plain": [
       "                               0              1              2  \\\n",
       "A1_Score                       1              1              1   \n",
       "A2_Score                       1              1              1   \n",
       "A3_Score                       1              0              0   \n",
       "A4_Score                       1              1              1   \n",
       "A5_Score                       0              0              1   \n",
       "A6_Score                       0              0              0   \n",
       "A7_Score                       1              0              1   \n",
       "A8_Score                       1              1              1   \n",
       "A9_Score                       0              0              1   \n",
       "A10_Score                      0              1              1   \n",
       "age                           26             24             27   \n",
       "gender                         f              m              m   \n",
       "ethnicity         White-European         Latino         Latino   \n",
       "jundice                       no             no            yes   \n",
       "austim                        no            yes            yes   \n",
       "contry_of_res    'United States'         Brazil          Spain   \n",
       "used_app_before               no             no             no   \n",
       "result                         6              5              8   \n",
       "age_desc           '18 and more'  '18 and more'  '18 and more'   \n",
       "relation                    Self           Self         Parent   \n",
       "Class/ASD                     NO             NO            YES   \n",
       "\n",
       "                               3              4  \n",
       "A1_Score                       1              1  \n",
       "A2_Score                       1              0  \n",
       "A3_Score                       0              0  \n",
       "A4_Score                       1              0  \n",
       "A5_Score                       0              0  \n",
       "A6_Score                       0              0  \n",
       "A7_Score                       1              0  \n",
       "A8_Score                       1              1  \n",
       "A9_Score                       0              0  \n",
       "A10_Score                      1              0  \n",
       "age                           35             40  \n",
       "gender                         f              f  \n",
       "ethnicity         White-European              ?  \n",
       "jundice                       no             no  \n",
       "austim                       yes             no  \n",
       "contry_of_res    'United States'          Egypt  \n",
       "used_app_before               no             no  \n",
       "result                         6              2  \n",
       "age_desc           '18 and more'  '18 and more'  \n",
       "relation                    Self              ?  \n",
       "Class/ASD                     NO             NO  "
      ]
     },
     "execution_count": 3,
     "metadata": {},
     "output_type": "execute_result"
    }
   ],
   "source": [
    "data.head().T # транспонируем, иначе не видно всех полей"
   ]
  },
  {
   "cell_type": "markdown",
   "id": "dc459fe0-ca6a-4f99-a231-8847e7932919",
   "metadata": {
    "tags": []
   },
   "source": [
    "## Переименование столбцов\n",
    "Похоже, что в именах столбцов присутствуют опечатки:\n",
    "\n",
    "**jundice -> jaundice** - страдал ли пациент желтушкой новорожденных\n",
    "\n",
    "**austim -> autism** - были ли случаи аутизма у ближайших родственников\n",
    "\n",
    "Столбец **Class/ASD**, как я понимаю, представляет собой целевую переменную: страдает ли человек расстройством аутестического спектра. Переименуем его для простоты в **ASD**."
   ]
  },
  {
   "cell_type": "code",
   "execution_count": 4,
   "id": "56b67810-708a-4988-b541-92dbad0112be",
   "metadata": {},
   "outputs": [
    {
     "data": {
      "text/html": [
       "<div>\n",
       "<style scoped>\n",
       "    .dataframe tbody tr th:only-of-type {\n",
       "        vertical-align: middle;\n",
       "    }\n",
       "\n",
       "    .dataframe tbody tr th {\n",
       "        vertical-align: top;\n",
       "    }\n",
       "\n",
       "    .dataframe thead th {\n",
       "        text-align: right;\n",
       "    }\n",
       "</style>\n",
       "<table border=\"1\" class=\"dataframe\">\n",
       "  <thead>\n",
       "    <tr style=\"text-align: right;\">\n",
       "      <th></th>\n",
       "      <th>0</th>\n",
       "    </tr>\n",
       "  </thead>\n",
       "  <tbody>\n",
       "    <tr>\n",
       "      <th>A1_Score</th>\n",
       "      <td>1</td>\n",
       "    </tr>\n",
       "    <tr>\n",
       "      <th>A2_Score</th>\n",
       "      <td>1</td>\n",
       "    </tr>\n",
       "    <tr>\n",
       "      <th>A3_Score</th>\n",
       "      <td>1</td>\n",
       "    </tr>\n",
       "    <tr>\n",
       "      <th>A4_Score</th>\n",
       "      <td>1</td>\n",
       "    </tr>\n",
       "    <tr>\n",
       "      <th>A5_Score</th>\n",
       "      <td>0</td>\n",
       "    </tr>\n",
       "    <tr>\n",
       "      <th>A6_Score</th>\n",
       "      <td>0</td>\n",
       "    </tr>\n",
       "    <tr>\n",
       "      <th>A7_Score</th>\n",
       "      <td>1</td>\n",
       "    </tr>\n",
       "    <tr>\n",
       "      <th>A8_Score</th>\n",
       "      <td>1</td>\n",
       "    </tr>\n",
       "    <tr>\n",
       "      <th>A9_Score</th>\n",
       "      <td>0</td>\n",
       "    </tr>\n",
       "    <tr>\n",
       "      <th>A10_Score</th>\n",
       "      <td>0</td>\n",
       "    </tr>\n",
       "    <tr>\n",
       "      <th>age</th>\n",
       "      <td>26</td>\n",
       "    </tr>\n",
       "    <tr>\n",
       "      <th>gender</th>\n",
       "      <td>f</td>\n",
       "    </tr>\n",
       "    <tr>\n",
       "      <th>ethnicity</th>\n",
       "      <td>White-European</td>\n",
       "    </tr>\n",
       "    <tr>\n",
       "      <th>jaundice</th>\n",
       "      <td>no</td>\n",
       "    </tr>\n",
       "    <tr>\n",
       "      <th>autism</th>\n",
       "      <td>no</td>\n",
       "    </tr>\n",
       "    <tr>\n",
       "      <th>contry_of_res</th>\n",
       "      <td>'United States'</td>\n",
       "    </tr>\n",
       "    <tr>\n",
       "      <th>used_app_before</th>\n",
       "      <td>no</td>\n",
       "    </tr>\n",
       "    <tr>\n",
       "      <th>result</th>\n",
       "      <td>6</td>\n",
       "    </tr>\n",
       "    <tr>\n",
       "      <th>age_desc</th>\n",
       "      <td>'18 and more'</td>\n",
       "    </tr>\n",
       "    <tr>\n",
       "      <th>relation</th>\n",
       "      <td>Self</td>\n",
       "    </tr>\n",
       "    <tr>\n",
       "      <th>ASD</th>\n",
       "      <td>NO</td>\n",
       "    </tr>\n",
       "  </tbody>\n",
       "</table>\n",
       "</div>"
      ],
      "text/plain": [
       "                               0\n",
       "A1_Score                       1\n",
       "A2_Score                       1\n",
       "A3_Score                       1\n",
       "A4_Score                       1\n",
       "A5_Score                       0\n",
       "A6_Score                       0\n",
       "A7_Score                       1\n",
       "A8_Score                       1\n",
       "A9_Score                       0\n",
       "A10_Score                      0\n",
       "age                           26\n",
       "gender                         f\n",
       "ethnicity         White-European\n",
       "jaundice                      no\n",
       "autism                        no\n",
       "contry_of_res    'United States'\n",
       "used_app_before               no\n",
       "result                         6\n",
       "age_desc           '18 and more'\n",
       "relation                    Self\n",
       "ASD                           NO"
      ]
     },
     "execution_count": 4,
     "metadata": {},
     "output_type": "execute_result"
    }
   ],
   "source": [
    "data.rename(columns = {\"jundice\":\"jaundice\", \"austim\":\"autism\", \"Class/ASD\":\"ASD\"}, inplace=True)\n",
    "data.head(1).T"
   ]
  },
  {
   "cell_type": "markdown",
   "id": "980d7677-b0a1-4cd7-9e3b-7e273be77da3",
   "metadata": {
    "tags": []
   },
   "source": [
    "## Первое впечатление о данных"
   ]
  },
  {
   "cell_type": "code",
   "execution_count": 5,
   "id": "35c9f9e3-880d-4415-91f9-cd91ef555415",
   "metadata": {},
   "outputs": [
    {
     "data": {
      "text/plain": [
       "A1_Score           0\n",
       "A2_Score           0\n",
       "A3_Score           0\n",
       "A4_Score           0\n",
       "A5_Score           0\n",
       "A6_Score           0\n",
       "A7_Score           0\n",
       "A8_Score           0\n",
       "A9_Score           0\n",
       "A10_Score          0\n",
       "age                0\n",
       "gender             0\n",
       "ethnicity          0\n",
       "jaundice           0\n",
       "autism             0\n",
       "contry_of_res      0\n",
       "used_app_before    0\n",
       "result             0\n",
       "age_desc           0\n",
       "relation           0\n",
       "ASD                0\n",
       "dtype: int64"
      ]
     },
     "execution_count": 5,
     "metadata": {},
     "output_type": "execute_result"
    }
   ],
   "source": [
    "data.isnull().sum()"
   ]
  },
  {
   "cell_type": "markdown",
   "id": "21b58067-d75f-44da-b0f4-3442f19fe5cf",
   "metadata": {},
   "source": [
    "На первый взгляд кажется, что пустых полей нет. Но выше в полях **ethnicity** и **relation** был замечен вопросительный знак '?'."
   ]
  },
  {
   "cell_type": "code",
   "execution_count": 6,
   "id": "cd462b3b-f3c0-464f-a363-6d294536656d",
   "metadata": {},
   "outputs": [
    {
     "data": {
      "text/plain": [
       "A1_Score            int64\n",
       "A2_Score            int64\n",
       "A3_Score            int64\n",
       "A4_Score            int64\n",
       "A5_Score            int64\n",
       "A6_Score            int64\n",
       "A7_Score            int64\n",
       "A8_Score            int64\n",
       "A9_Score            int64\n",
       "A10_Score           int64\n",
       "age                object\n",
       "gender             object\n",
       "ethnicity          object\n",
       "jaundice           object\n",
       "autism             object\n",
       "contry_of_res      object\n",
       "used_app_before    object\n",
       "result              int64\n",
       "age_desc           object\n",
       "relation           object\n",
       "ASD                object\n",
       "dtype: object"
      ]
     },
     "execution_count": 6,
     "metadata": {},
     "output_type": "execute_result"
    }
   ],
   "source": [
    "data.dtypes"
   ]
  },
  {
   "cell_type": "markdown",
   "id": "32473e6c-b7b9-4776-9daf-3fb4b91a4d46",
   "metadata": {},
   "source": [
    "Заметим, что признак **age** является объектом, а не целым числом как бы хотелось. Почему? Посмотрим, что можно будет с этим сделать далее."
   ]
  },
  {
   "cell_type": "markdown",
   "id": "4e137385-e036-4990-a67a-b5b427d007ce",
   "metadata": {},
   "source": [
    "Поля **gender, jaundice, autism, used_app_before** и целевая переменная **ASD** предположительно являются бинарными. Проверим это."
   ]
  },
  {
   "cell_type": "code",
   "execution_count": 7,
   "id": "04812df1-b6b8-4078-9f7a-4ab55c19e361",
   "metadata": {},
   "outputs": [
    {
     "name": "stdout",
     "output_type": "stream",
     "text": [
      "m    367\n",
      "f    337\n",
      "Name: gender, dtype: int64\n",
      "\n",
      "no     635\n",
      "yes     69\n",
      "Name: jaundice, dtype: int64\n",
      "\n",
      "no     613\n",
      "yes     91\n",
      "Name: autism, dtype: int64\n",
      "\n",
      "no     692\n",
      "yes     12\n",
      "Name: used_app_before, dtype: int64\n",
      "\n",
      "NO     515\n",
      "YES    189\n",
      "Name: ASD, dtype: int64\n",
      "\n"
     ]
    }
   ],
   "source": [
    "columns_to_check = [\"gender\", \"jaundice\", \"autism\", \"used_app_before\", \"ASD\"]\n",
    "for elem in columns_to_check:\n",
    "    print(data[elem].value_counts(), end='\\n\\n')"
   ]
  },
  {
   "cell_type": "code",
   "execution_count": 8,
   "id": "f23d1386-52f7-4952-8601-2a9ee2153209",
   "metadata": {},
   "outputs": [
    {
     "data": {
      "text/plain": [
       "4     131\n",
       "3     110\n",
       "5      83\n",
       "2      74\n",
       "6      70\n",
       "7      57\n",
       "8      55\n",
       "9      47\n",
       "1      33\n",
       "10     30\n",
       "0      14\n",
       "Name: result, dtype: int64"
      ]
     },
     "execution_count": 8,
     "metadata": {},
     "output_type": "execute_result"
    }
   ],
   "source": [
    "data[\"result\"].value_counts()"
   ]
  },
  {
   "cell_type": "markdown",
   "id": "67150903-a325-46df-b0c5-8d8de9417b43",
   "metadata": {},
   "source": [
    "# Индивидуальные характеристики"
   ]
  },
  {
   "cell_type": "markdown",
   "id": "5cf90cd3-e9ba-404d-ad59-0bb2fa8b1de5",
   "metadata": {
    "tags": []
   },
   "source": [
    "## Пол"
   ]
  },
  {
   "cell_type": "code",
   "execution_count": 9,
   "id": "d3a8fbc2-4c12-4611-b174-3df8cafbaaeb",
   "metadata": {},
   "outputs": [
    {
     "data": {
      "text/plain": [
       "gender  ASD\n",
       "f       NO     234\n",
       "        YES    103\n",
       "m       NO     281\n",
       "        YES     86\n",
       "Name: ASD, dtype: int64"
      ]
     },
     "execution_count": 9,
     "metadata": {},
     "output_type": "execute_result"
    }
   ],
   "source": [
    "data.groupby(\"gender\")[\"ASD\"].value_counts()"
   ]
  },
  {
   "cell_type": "markdown",
   "id": "dcd8af56-e4de-47a8-9746-6dbe51f5fcbb",
   "metadata": {},
   "source": [
    "Похоже, что у женщин аутизм встречается несколько чаще, чем у мужчин."
   ]
  },
  {
   "cell_type": "code",
   "execution_count": 10,
   "id": "b0a41a53-edc1-4809-9c06-4c55b39194dc",
   "metadata": {},
   "outputs": [],
   "source": [
    "import seaborn as sns\n",
    "import matplotlib.pyplot as plt"
   ]
  },
  {
   "cell_type": "code",
   "execution_count": 11,
   "id": "c561b133-3c16-4e03-8351-bb61bf5011ab",
   "metadata": {},
   "outputs": [
    {
     "data": {
      "text/plain": [
       "Text(0, 0.5, 'Count')"
      ]
     },
     "execution_count": 11,
     "metadata": {},
     "output_type": "execute_result"
    },
    {
     "data": {
      "image/png": "[encoded data removed]",
      "text/plain": [
       "<Figure size 432x288 with 1 Axes>"
      ]
     },
     "metadata": {
      "needs_background": "light"
     },
     "output_type": "display_data"
    }
   ],
   "source": [
    "pd.crosstab(data[\"gender\"], data[\"ASD\"]).plot(kind='bar', stacked=True, rot=0)\n",
    "plt.xlabel(\"Gender\")\n",
    "plt.ylabel(\"Count\")"
   ]
  },
  {
   "cell_type": "markdown",
   "id": "0cb1c3b6-03e1-402f-afda-706d7313accd",
   "metadata": {
    "tags": []
   },
   "source": [
    "## Relation vs Ethnicity"
   ]
  },
  {
   "cell_type": "code",
   "execution_count": 12,
   "id": "96c2d13e-dbcc-4c48-a241-825ff7cf4fd6",
   "metadata": {},
   "outputs": [
    {
     "data": {
      "text/html": [
       "<div>\n",
       "<style scoped>\n",
       "    .dataframe tbody tr th:only-of-type {\n",
       "        vertical-align: middle;\n",
       "    }\n",
       "\n",
       "    .dataframe tbody tr th {\n",
       "        vertical-align: top;\n",
       "    }\n",
       "\n",
       "    .dataframe thead th {\n",
       "        text-align: right;\n",
       "    }\n",
       "</style>\n",
       "<table border=\"1\" class=\"dataframe\">\n",
       "  <thead>\n",
       "    <tr style=\"text-align: right;\">\n",
       "      <th>ethnicity</th>\n",
       "      <th>'Middle Eastern '</th>\n",
       "      <th>'South Asian'</th>\n",
       "      <th>?</th>\n",
       "      <th>Asian</th>\n",
       "      <th>Black</th>\n",
       "      <th>Hispanic</th>\n",
       "      <th>Latino</th>\n",
       "      <th>Others</th>\n",
       "      <th>Pasifika</th>\n",
       "      <th>Turkish</th>\n",
       "      <th>White-European</th>\n",
       "      <th>others</th>\n",
       "    </tr>\n",
       "    <tr>\n",
       "      <th>relation</th>\n",
       "      <th></th>\n",
       "      <th></th>\n",
       "      <th></th>\n",
       "      <th></th>\n",
       "      <th></th>\n",
       "      <th></th>\n",
       "      <th></th>\n",
       "      <th></th>\n",
       "      <th></th>\n",
       "      <th></th>\n",
       "      <th></th>\n",
       "      <th></th>\n",
       "    </tr>\n",
       "  </thead>\n",
       "  <tbody>\n",
       "    <tr>\n",
       "      <th>'Health care professional'</th>\n",
       "      <td>0</td>\n",
       "      <td>0</td>\n",
       "      <td>0</td>\n",
       "      <td>1</td>\n",
       "      <td>1</td>\n",
       "      <td>0</td>\n",
       "      <td>0</td>\n",
       "      <td>1</td>\n",
       "      <td>0</td>\n",
       "      <td>0</td>\n",
       "      <td>1</td>\n",
       "      <td>0</td>\n",
       "    </tr>\n",
       "    <tr>\n",
       "      <th>?</th>\n",
       "      <td>0</td>\n",
       "      <td>0</td>\n",
       "      <td>95</td>\n",
       "      <td>0</td>\n",
       "      <td>0</td>\n",
       "      <td>0</td>\n",
       "      <td>0</td>\n",
       "      <td>0</td>\n",
       "      <td>0</td>\n",
       "      <td>0</td>\n",
       "      <td>0</td>\n",
       "      <td>0</td>\n",
       "    </tr>\n",
       "    <tr>\n",
       "      <th>Others</th>\n",
       "      <td>0</td>\n",
       "      <td>0</td>\n",
       "      <td>0</td>\n",
       "      <td>1</td>\n",
       "      <td>0</td>\n",
       "      <td>0</td>\n",
       "      <td>0</td>\n",
       "      <td>0</td>\n",
       "      <td>0</td>\n",
       "      <td>1</td>\n",
       "      <td>3</td>\n",
       "      <td>0</td>\n",
       "    </tr>\n",
       "    <tr>\n",
       "      <th>Parent</th>\n",
       "      <td>15</td>\n",
       "      <td>1</td>\n",
       "      <td>0</td>\n",
       "      <td>7</td>\n",
       "      <td>9</td>\n",
       "      <td>1</td>\n",
       "      <td>3</td>\n",
       "      <td>1</td>\n",
       "      <td>0</td>\n",
       "      <td>0</td>\n",
       "      <td>13</td>\n",
       "      <td>0</td>\n",
       "    </tr>\n",
       "    <tr>\n",
       "      <th>Relative</th>\n",
       "      <td>8</td>\n",
       "      <td>0</td>\n",
       "      <td>0</td>\n",
       "      <td>1</td>\n",
       "      <td>3</td>\n",
       "      <td>1</td>\n",
       "      <td>1</td>\n",
       "      <td>0</td>\n",
       "      <td>2</td>\n",
       "      <td>0</td>\n",
       "      <td>12</td>\n",
       "      <td>0</td>\n",
       "    </tr>\n",
       "    <tr>\n",
       "      <th>Self</th>\n",
       "      <td>69</td>\n",
       "      <td>35</td>\n",
       "      <td>0</td>\n",
       "      <td>113</td>\n",
       "      <td>30</td>\n",
       "      <td>11</td>\n",
       "      <td>16</td>\n",
       "      <td>28</td>\n",
       "      <td>10</td>\n",
       "      <td>5</td>\n",
       "      <td>204</td>\n",
       "      <td>1</td>\n",
       "    </tr>\n",
       "  </tbody>\n",
       "</table>\n",
       "</div>"
      ],
      "text/plain": [
       "ethnicity                   'Middle Eastern '  'South Asian'   ?  Asian  \\\n",
       "relation                                                                  \n",
       "'Health care professional'                  0              0   0      1   \n",
       "?                                           0              0  95      0   \n",
       "Others                                      0              0   0      1   \n",
       "Parent                                     15              1   0      7   \n",
       "Relative                                    8              0   0      1   \n",
       "Self                                       69             35   0    113   \n",
       "\n",
       "ethnicity                   Black  Hispanic  Latino  Others  Pasifika  \\\n",
       "relation                                                                \n",
       "'Health care professional'      1         0       0       1         0   \n",
       "?                               0         0       0       0         0   \n",
       "Others                          0         0       0       0         0   \n",
       "Parent                          9         1       3       1         0   \n",
       "Relative                        3         1       1       0         2   \n",
       "Self                           30        11      16      28        10   \n",
       "\n",
       "ethnicity                   Turkish  White-European  others  \n",
       "relation                                                     \n",
       "'Health care professional'        0               1       0  \n",
       "?                                 0               0       0  \n",
       "Others                            1               3       0  \n",
       "Parent                            0              13       0  \n",
       "Relative                          0              12       0  \n",
       "Self                              5             204       1  "
      ]
     },
     "execution_count": 12,
     "metadata": {},
     "output_type": "execute_result"
    }
   ],
   "source": [
    "pd.crosstab(data[\"relation\"], data[\"ethnicity\"])"
   ]
  },
  {
   "cell_type": "markdown",
   "id": "b6929fb6-1f82-44ce-9ad8-a8906ab85646",
   "metadata": {},
   "source": [
    "Интересно, что поля **relation** и **ethnicity** пропущены у одних и тех же записей.  "
   ]
  },
  {
   "cell_type": "markdown",
   "id": "999028a2-3176-496b-b328-9cac3f2ab512",
   "metadata": {
    "tags": []
   },
   "source": [
    "## Этническая принадлежность"
   ]
  },
  {
   "cell_type": "code",
   "execution_count": 13,
   "id": "67a39a16-07ef-410a-be30-aada77d56e2f",
   "metadata": {},
   "outputs": [
    {
     "data": {
      "text/html": [
       "<div>\n",
       "<style scoped>\n",
       "    .dataframe tbody tr th:only-of-type {\n",
       "        vertical-align: middle;\n",
       "    }\n",
       "\n",
       "    .dataframe tbody tr th {\n",
       "        vertical-align: top;\n",
       "    }\n",
       "\n",
       "    .dataframe thead th {\n",
       "        text-align: right;\n",
       "    }\n",
       "</style>\n",
       "<table border=\"1\" class=\"dataframe\">\n",
       "  <thead>\n",
       "    <tr style=\"text-align: right;\">\n",
       "      <th>ASD</th>\n",
       "      <th>NO</th>\n",
       "      <th>YES</th>\n",
       "    </tr>\n",
       "    <tr>\n",
       "      <th>relation</th>\n",
       "      <th></th>\n",
       "      <th></th>\n",
       "    </tr>\n",
       "  </thead>\n",
       "  <tbody>\n",
       "    <tr>\n",
       "      <th>'Health care professional'</th>\n",
       "      <td>3</td>\n",
       "      <td>1</td>\n",
       "    </tr>\n",
       "    <tr>\n",
       "      <th>?</th>\n",
       "      <td>86</td>\n",
       "      <td>9</td>\n",
       "    </tr>\n",
       "    <tr>\n",
       "      <th>Others</th>\n",
       "      <td>4</td>\n",
       "      <td>1</td>\n",
       "    </tr>\n",
       "    <tr>\n",
       "      <th>Parent</th>\n",
       "      <td>38</td>\n",
       "      <td>12</td>\n",
       "    </tr>\n",
       "    <tr>\n",
       "      <th>Relative</th>\n",
       "      <td>19</td>\n",
       "      <td>9</td>\n",
       "    </tr>\n",
       "    <tr>\n",
       "      <th>Self</th>\n",
       "      <td>365</td>\n",
       "      <td>157</td>\n",
       "    </tr>\n",
       "  </tbody>\n",
       "</table>\n",
       "</div>"
      ],
      "text/plain": [
       "ASD                          NO  YES\n",
       "relation                            \n",
       "'Health care professional'    3    1\n",
       "?                            86    9\n",
       "Others                        4    1\n",
       "Parent                       38   12\n",
       "Relative                     19    9\n",
       "Self                        365  157"
      ]
     },
     "execution_count": 13,
     "metadata": {},
     "output_type": "execute_result"
    }
   ],
   "source": [
    "pd.crosstab(data[\"relation\"], data[\"ASD\"])"
   ]
  },
  {
   "cell_type": "code",
   "execution_count": 14,
   "id": "1feaeb9a-a369-4a92-b5a4-4b53752784db",
   "metadata": {},
   "outputs": [
    {
     "data": {
      "text/html": [
       "<div>\n",
       "<style scoped>\n",
       "    .dataframe tbody tr th:only-of-type {\n",
       "        vertical-align: middle;\n",
       "    }\n",
       "\n",
       "    .dataframe tbody tr th {\n",
       "        vertical-align: top;\n",
       "    }\n",
       "\n",
       "    .dataframe thead th {\n",
       "        text-align: right;\n",
       "    }\n",
       "</style>\n",
       "<table border=\"1\" class=\"dataframe\">\n",
       "  <thead>\n",
       "    <tr style=\"text-align: right;\">\n",
       "      <th>ASD</th>\n",
       "      <th>NO</th>\n",
       "      <th>YES</th>\n",
       "    </tr>\n",
       "    <tr>\n",
       "      <th>ethnicity</th>\n",
       "      <th></th>\n",
       "      <th></th>\n",
       "    </tr>\n",
       "  </thead>\n",
       "  <tbody>\n",
       "    <tr>\n",
       "      <th>'Middle Eastern '</th>\n",
       "      <td>84</td>\n",
       "      <td>8</td>\n",
       "    </tr>\n",
       "    <tr>\n",
       "      <th>'South Asian'</th>\n",
       "      <td>33</td>\n",
       "      <td>3</td>\n",
       "    </tr>\n",
       "    <tr>\n",
       "      <th>?</th>\n",
       "      <td>86</td>\n",
       "      <td>9</td>\n",
       "    </tr>\n",
       "    <tr>\n",
       "      <th>Asian</th>\n",
       "      <td>107</td>\n",
       "      <td>16</td>\n",
       "    </tr>\n",
       "    <tr>\n",
       "      <th>Black</th>\n",
       "      <td>25</td>\n",
       "      <td>18</td>\n",
       "    </tr>\n",
       "    <tr>\n",
       "      <th>Hispanic</th>\n",
       "      <td>8</td>\n",
       "      <td>5</td>\n",
       "    </tr>\n",
       "    <tr>\n",
       "      <th>Latino</th>\n",
       "      <td>10</td>\n",
       "      <td>10</td>\n",
       "    </tr>\n",
       "    <tr>\n",
       "      <th>Others</th>\n",
       "      <td>21</td>\n",
       "      <td>9</td>\n",
       "    </tr>\n",
       "    <tr>\n",
       "      <th>Pasifika</th>\n",
       "      <td>11</td>\n",
       "      <td>1</td>\n",
       "    </tr>\n",
       "    <tr>\n",
       "      <th>Turkish</th>\n",
       "      <td>5</td>\n",
       "      <td>1</td>\n",
       "    </tr>\n",
       "    <tr>\n",
       "      <th>White-European</th>\n",
       "      <td>124</td>\n",
       "      <td>109</td>\n",
       "    </tr>\n",
       "    <tr>\n",
       "      <th>others</th>\n",
       "      <td>1</td>\n",
       "      <td>0</td>\n",
       "    </tr>\n",
       "  </tbody>\n",
       "</table>\n",
       "</div>"
      ],
      "text/plain": [
       "ASD                 NO  YES\n",
       "ethnicity                  \n",
       "'Middle Eastern '   84    8\n",
       "'South Asian'       33    3\n",
       "?                   86    9\n",
       "Asian              107   16\n",
       "Black               25   18\n",
       "Hispanic             8    5\n",
       "Latino              10   10\n",
       "Others              21    9\n",
       "Pasifika            11    1\n",
       "Turkish              5    1\n",
       "White-European     124  109\n",
       "others               1    0"
      ]
     },
     "execution_count": 14,
     "metadata": {},
     "output_type": "execute_result"
    }
   ],
   "source": [
    "pd.crosstab(data[\"ethnicity\"], data[\"ASD\"])"
   ]
  },
  {
   "cell_type": "markdown",
   "id": "9db7c181-9984-4734-8012-900faa601b11",
   "metadata": {},
   "source": [
    "Попробуем восстановить этническую принадлежность по стране."
   ]
  },
  {
   "cell_type": "code",
   "execution_count": 15,
   "id": "9c7944c4-5f36-48a8-a2d4-ee7abf94dd31",
   "metadata": {},
   "outputs": [
    {
     "data": {
      "text/plain": [
       "array(['Egypt', 'Bahamas', 'Austria', 'Argentina',\n",
       "       \"'United Arab Emirates'\", 'Lebanon', 'Afghanistan',\n",
       "       \"'Saudi Arabia'\", 'Jordan', 'Russia', \"'New Zealand'\",\n",
       "       \"'Hong Kong'\", 'Japan', 'Ukraine', 'Kazakhstan', 'Brazil',\n",
       "       \"'United Kingdom'\", 'Iran', \"'United States'\", 'Azerbaijan',\n",
       "       'Pakistan', 'Iraq'], dtype=object)"
      ]
     },
     "execution_count": 15,
     "metadata": {},
     "output_type": "execute_result"
    }
   ],
   "source": [
    "data[data[\"ethnicity\"]=='?'].contry_of_res.unique()"
   ]
  },
  {
   "cell_type": "code",
   "execution_count": 16,
   "id": "22c139b6-96e3-421d-b470-010b9a198c86",
   "metadata": {},
   "outputs": [
    {
     "data": {
      "text/plain": [
       "22"
      ]
     },
     "execution_count": 16,
     "metadata": {},
     "output_type": "execute_result"
    }
   ],
   "source": [
    "data[data[\"ethnicity\"]=='?'].contry_of_res.nunique()"
   ]
  },
  {
   "cell_type": "markdown",
   "id": "ea582ec5-f2e3-4339-a203-6490ec752a0e",
   "metadata": {},
   "source": [
    "Сгруппируем данные по этнической принадлежности:"
   ]
  },
  {
   "cell_type": "code",
   "execution_count": 17,
   "id": "025dd966-705c-455b-86d7-ec163ecda229",
   "metadata": {},
   "outputs": [
    {
     "data": {
      "text/plain": [
       "ethnicity\n",
       "'Middle Eastern '     92\n",
       "'South Asian'         36\n",
       "?                     95\n",
       "Asian                123\n",
       "Black                 43\n",
       "Hispanic              13\n",
       "Latino                20\n",
       "Others                30\n",
       "Pasifika              12\n",
       "Turkish                6\n",
       "White-European       233\n",
       "others                 1\n",
       "Name: contry_of_res, dtype: int64"
      ]
     },
     "execution_count": 17,
     "metadata": {},
     "output_type": "execute_result"
    }
   ],
   "source": [
    "group = data.groupby(\"ethnicity\")\n",
    "group[\"contry_of_res\"].count()"
   ]
  },
  {
   "cell_type": "markdown",
   "id": "1d741341-a90c-4d28-9e13-00b4729052ae",
   "metadata": {},
   "source": [
    "Там, где это возможно, попробуем заменить этническую принадлежность на самую частую по стране:"
   ]
  },
  {
   "cell_type": "code",
   "execution_count": 18,
   "id": "f4c71f5e-e4cb-4963-92ff-f85de0ce4ada",
   "metadata": {},
   "outputs": [],
   "source": [
    "cntry_lst = data[data[\"ethnicity\"]=='?'].contry_of_res.unique()\n",
    "#print(type(cntry_lst))\n",
    "for cntry in cntry_lst:\n",
    "    mode = data[data[\"contry_of_res\"]==cntry].ethnicity.mode()\n",
    "    #print(type(mode))\n",
    "    #print(f\"For country {cntry} mode is {mode}\")\n",
    "    #print(f\"For country {cntry} sorted mode is {sorted(mode.tolist())}\")\n",
    "    if len(mode) == 1:\n",
    "        data.loc[(data[\"ethnicity\"]==\"?\") & (data[\"contry_of_res\"]==cntry), \"ethnicity\"] = mode[0]\n",
    "    elif len(mode) == 2 and '?' in mode.array:\n",
    "        data.loc[(data[\"ethnicity\"]==\"?\") & (data[\"contry_of_res\"]==cntry), \"ethnicity\"] = mode[0] if mode[0]!= '?' else mode[1]"
   ]
  },
  {
   "cell_type": "code",
   "execution_count": 19,
   "id": "3da737f1-3a87-4336-8d8c-53bb9979862b",
   "metadata": {},
   "outputs": [
    {
     "data": {
      "text/plain": [
       "array(['Argentina', 'Lebanon', 'Jordan', 'Russia', \"'Hong Kong'\", 'Japan',\n",
       "       'Kazakhstan', 'Iran', 'Azerbaijan', 'Pakistan', 'Iraq'],\n",
       "      dtype=object)"
      ]
     },
     "execution_count": 19,
     "metadata": {},
     "output_type": "execute_result"
    }
   ],
   "source": [
    "data[data[\"ethnicity\"]=='?'].contry_of_res.unique()"
   ]
  },
  {
   "cell_type": "code",
   "execution_count": 20,
   "id": "7c32bd6e-5580-4ca7-8aa0-38e2db499e50",
   "metadata": {},
   "outputs": [
    {
     "data": {
      "text/plain": [
       "9     Asian\n",
       "12    Asian\n",
       "Name: ethnicity, dtype: object"
      ]
     },
     "execution_count": 20,
     "metadata": {},
     "output_type": "execute_result"
    }
   ],
   "source": [
    "data[data[\"contry_of_res\"]==\"Bahamas\"].ethnicity"
   ]
  },
  {
   "cell_type": "markdown",
   "id": "46a1f8bb-a06c-4766-8e09-5f802a137239",
   "metadata": {},
   "source": [
    "Проверим как изменилась группировка после замены:"
   ]
  },
  {
   "cell_type": "code",
   "execution_count": 21,
   "id": "1361dd68-c361-4a2d-a35e-a33f5b7aa928",
   "metadata": {},
   "outputs": [
    {
     "data": {
      "text/plain": [
       "ethnicity\n",
       "'Middle Eastern '    113\n",
       "'South Asian'         36\n",
       "?                     63\n",
       "Asian                129\n",
       "Black                 43\n",
       "Hispanic              13\n",
       "Latino                21\n",
       "Others                30\n",
       "Pasifika              12\n",
       "Turkish                6\n",
       "White-European       237\n",
       "others                 1\n",
       "Name: contry_of_res, dtype: int64"
      ]
     },
     "execution_count": 21,
     "metadata": {},
     "output_type": "execute_result"
    }
   ],
   "source": [
    "group = data.groupby(\"ethnicity\")\n",
    "group[\"contry_of_res\"].count()"
   ]
  },
  {
   "cell_type": "markdown",
   "id": "e17d4336-5521-49bc-9be4-0daa570fc341",
   "metadata": {},
   "source": [
    "Попробуем объединить некоторые из записей. Очевидно, что значение *others* надо переименовать в *Others*.\n",
    "Возможно также, что *Hispanic* и *Latino*  - это синонимы. Посмотрим распределение стран с этими этническими принадлежностями.\n",
    "Также *'South Asian'* выглядит как подмножество *Asian*. Проверим и это."
   ]
  },
  {
   "cell_type": "code",
   "execution_count": 22,
   "id": "61ac1e6c-2845-4ad7-8222-a425504c060f",
   "metadata": {},
   "outputs": [
    {
     "data": {
      "text/plain": [
       "contry_of_res\n",
       "'Costa Rica'         1\n",
       "'Czech Republic'     1\n",
       "'Hong Kong'          1\n",
       "'New Zealand'       81\n",
       "'Saudi Arabia'       4\n",
       "                    ..\n",
       "Sweden               2\n",
       "Tonga                1\n",
       "Turkey               1\n",
       "Ukraine              2\n",
       "Uruguay              1\n",
       "Name: ethnicity, Length: 67, dtype: int64"
      ]
     },
     "execution_count": 22,
     "metadata": {},
     "output_type": "execute_result"
    }
   ],
   "source": [
    "group = data.groupby(\"contry_of_res\")\n",
    "group[\"ethnicity\"].count()"
   ]
  },
  {
   "cell_type": "code",
   "execution_count": 23,
   "id": "dbd391db-43a2-4f71-81b0-e6389a1e6e94",
   "metadata": {},
   "outputs": [
    {
     "data": {
      "text/html": [
       "<div>\n",
       "<style scoped>\n",
       "    .dataframe tbody tr th:only-of-type {\n",
       "        vertical-align: middle;\n",
       "    }\n",
       "\n",
       "    .dataframe tbody tr th {\n",
       "        vertical-align: top;\n",
       "    }\n",
       "\n",
       "    .dataframe thead th {\n",
       "        text-align: right;\n",
       "    }\n",
       "</style>\n",
       "<table border=\"1\" class=\"dataframe\">\n",
       "  <thead>\n",
       "    <tr style=\"text-align: right;\">\n",
       "      <th>ethnicity</th>\n",
       "      <th>Hispanic</th>\n",
       "      <th>Latino</th>\n",
       "    </tr>\n",
       "    <tr>\n",
       "      <th>contry_of_res</th>\n",
       "      <th></th>\n",
       "      <th></th>\n",
       "    </tr>\n",
       "  </thead>\n",
       "  <tbody>\n",
       "    <tr>\n",
       "      <th>'Costa Rica'</th>\n",
       "      <td>0</td>\n",
       "      <td>1</td>\n",
       "    </tr>\n",
       "    <tr>\n",
       "      <th>'United Kingdom'</th>\n",
       "      <td>0</td>\n",
       "      <td>1</td>\n",
       "    </tr>\n",
       "    <tr>\n",
       "      <th>'United States'</th>\n",
       "      <td>11</td>\n",
       "      <td>1</td>\n",
       "    </tr>\n",
       "    <tr>\n",
       "      <th>Bolivia</th>\n",
       "      <td>0</td>\n",
       "      <td>1</td>\n",
       "    </tr>\n",
       "    <tr>\n",
       "      <th>Brazil</th>\n",
       "      <td>0</td>\n",
       "      <td>7</td>\n",
       "    </tr>\n",
       "    <tr>\n",
       "      <th>Chile</th>\n",
       "      <td>0</td>\n",
       "      <td>1</td>\n",
       "    </tr>\n",
       "    <tr>\n",
       "      <th>Ecuador</th>\n",
       "      <td>0</td>\n",
       "      <td>1</td>\n",
       "    </tr>\n",
       "    <tr>\n",
       "      <th>Italy</th>\n",
       "      <td>0</td>\n",
       "      <td>1</td>\n",
       "    </tr>\n",
       "    <tr>\n",
       "      <th>Mexico</th>\n",
       "      <td>1</td>\n",
       "      <td>6</td>\n",
       "    </tr>\n",
       "    <tr>\n",
       "      <th>Nicaragua</th>\n",
       "      <td>1</td>\n",
       "      <td>0</td>\n",
       "    </tr>\n",
       "    <tr>\n",
       "      <th>Spain</th>\n",
       "      <td>0</td>\n",
       "      <td>1</td>\n",
       "    </tr>\n",
       "  </tbody>\n",
       "</table>\n",
       "</div>"
      ],
      "text/plain": [
       "ethnicity         Hispanic  Latino\n",
       "contry_of_res                     \n",
       "'Costa Rica'             0       1\n",
       "'United Kingdom'         0       1\n",
       "'United States'         11       1\n",
       "Bolivia                  0       1\n",
       "Brazil                   0       7\n",
       "Chile                    0       1\n",
       "Ecuador                  0       1\n",
       "Italy                    0       1\n",
       "Mexico                   1       6\n",
       "Nicaragua                1       0\n",
       "Spain                    0       1"
      ]
     },
     "execution_count": 23,
     "metadata": {},
     "output_type": "execute_result"
    }
   ],
   "source": [
    "data_temp = data[(data[\"ethnicity\"]=='Hispanic') | (data[\"ethnicity\"]=='Latino')]\n",
    "pd.crosstab(data[\"contry_of_res\"], data_temp[\"ethnicity\"])"
   ]
  },
  {
   "cell_type": "markdown",
   "id": "bc39850e-90d4-467a-a10a-a7955e67d50f",
   "metadata": {},
   "source": [
    "Большинство - это страны Латинской Америки и США, где много выходцев из этих стран. Поэтому логично переименовать Hispanic -> Latino. \n",
    "Этим же значением заполним этническую принадлежность опрошенных из Аргентины."
   ]
  },
  {
   "cell_type": "code",
   "execution_count": 24,
   "id": "ff35740c-d61b-43eb-b12d-1fd36722b26e",
   "metadata": {},
   "outputs": [
    {
     "data": {
      "text/html": [
       "<div>\n",
       "<style scoped>\n",
       "    .dataframe tbody tr th:only-of-type {\n",
       "        vertical-align: middle;\n",
       "    }\n",
       "\n",
       "    .dataframe tbody tr th {\n",
       "        vertical-align: top;\n",
       "    }\n",
       "\n",
       "    .dataframe thead th {\n",
       "        text-align: right;\n",
       "    }\n",
       "</style>\n",
       "<table border=\"1\" class=\"dataframe\">\n",
       "  <thead>\n",
       "    <tr style=\"text-align: right;\">\n",
       "      <th>ethnicity</th>\n",
       "      <th>'South Asian'</th>\n",
       "      <th>Asian</th>\n",
       "    </tr>\n",
       "    <tr>\n",
       "      <th>contry_of_res</th>\n",
       "      <th></th>\n",
       "      <th></th>\n",
       "    </tr>\n",
       "  </thead>\n",
       "  <tbody>\n",
       "    <tr>\n",
       "      <th>'New Zealand'</th>\n",
       "      <td>9</td>\n",
       "      <td>31</td>\n",
       "    </tr>\n",
       "    <tr>\n",
       "      <th>'Sierra Leone'</th>\n",
       "      <td>0</td>\n",
       "      <td>1</td>\n",
       "    </tr>\n",
       "    <tr>\n",
       "      <th>'Sri Lanka'</th>\n",
       "      <td>1</td>\n",
       "      <td>13</td>\n",
       "    </tr>\n",
       "    <tr>\n",
       "      <th>'United Arab Emirates'</th>\n",
       "      <td>1</td>\n",
       "      <td>2</td>\n",
       "    </tr>\n",
       "    <tr>\n",
       "      <th>'United Kingdom'</th>\n",
       "      <td>0</td>\n",
       "      <td>2</td>\n",
       "    </tr>\n",
       "    <tr>\n",
       "      <th>'United States'</th>\n",
       "      <td>1</td>\n",
       "      <td>4</td>\n",
       "    </tr>\n",
       "    <tr>\n",
       "      <th>'Viet Nam'</th>\n",
       "      <td>0</td>\n",
       "      <td>4</td>\n",
       "    </tr>\n",
       "    <tr>\n",
       "      <th>Afghanistan</th>\n",
       "      <td>0</td>\n",
       "      <td>2</td>\n",
       "    </tr>\n",
       "    <tr>\n",
       "      <th>Aruba</th>\n",
       "      <td>0</td>\n",
       "      <td>1</td>\n",
       "    </tr>\n",
       "    <tr>\n",
       "      <th>Bahamas</th>\n",
       "      <td>0</td>\n",
       "      <td>2</td>\n",
       "    </tr>\n",
       "    <tr>\n",
       "      <th>Bangladesh</th>\n",
       "      <td>1</td>\n",
       "      <td>1</td>\n",
       "    </tr>\n",
       "    <tr>\n",
       "      <th>Canada</th>\n",
       "      <td>1</td>\n",
       "      <td>1</td>\n",
       "    </tr>\n",
       "    <tr>\n",
       "      <th>China</th>\n",
       "      <td>0</td>\n",
       "      <td>1</td>\n",
       "    </tr>\n",
       "    <tr>\n",
       "      <th>Iceland</th>\n",
       "      <td>0</td>\n",
       "      <td>1</td>\n",
       "    </tr>\n",
       "    <tr>\n",
       "      <th>India</th>\n",
       "      <td>21</td>\n",
       "      <td>54</td>\n",
       "    </tr>\n",
       "    <tr>\n",
       "      <th>Indonesia</th>\n",
       "      <td>0</td>\n",
       "      <td>1</td>\n",
       "    </tr>\n",
       "    <tr>\n",
       "      <th>Malaysia</th>\n",
       "      <td>0</td>\n",
       "      <td>4</td>\n",
       "    </tr>\n",
       "    <tr>\n",
       "      <th>Pakistan</th>\n",
       "      <td>1</td>\n",
       "      <td>1</td>\n",
       "    </tr>\n",
       "    <tr>\n",
       "      <th>Philippines</th>\n",
       "      <td>0</td>\n",
       "      <td>3</td>\n",
       "    </tr>\n",
       "  </tbody>\n",
       "</table>\n",
       "</div>"
      ],
      "text/plain": [
       "ethnicity               'South Asian'  Asian\n",
       "contry_of_res                               \n",
       "'New Zealand'                       9     31\n",
       "'Sierra Leone'                      0      1\n",
       "'Sri Lanka'                         1     13\n",
       "'United Arab Emirates'              1      2\n",
       "'United Kingdom'                    0      2\n",
       "'United States'                     1      4\n",
       "'Viet Nam'                          0      4\n",
       "Afghanistan                         0      2\n",
       "Aruba                               0      1\n",
       "Bahamas                             0      2\n",
       "Bangladesh                          1      1\n",
       "Canada                              1      1\n",
       "China                               0      1\n",
       "Iceland                             0      1\n",
       "India                              21     54\n",
       "Indonesia                           0      1\n",
       "Malaysia                            0      4\n",
       "Pakistan                            1      1\n",
       "Philippines                         0      3"
      ]
     },
     "execution_count": 24,
     "metadata": {},
     "output_type": "execute_result"
    }
   ],
   "source": [
    "data_temp = data[(data[\"ethnicity\"]=='Asian') | (data[\"ethnicity\"]==\"'South Asian'\")]\n",
    "# хотелось написать что-то типа data['Asian' in data[\"ethnicity\"]], но не придумал как\n",
    "\n",
    "pd.crosstab(data[\"contry_of_res\"], data_temp[\"ethnicity\"])"
   ]
  },
  {
   "cell_type": "markdown",
   "id": "371ed6fa-665d-412d-81de-9a86847e55f7",
   "metadata": {},
   "source": [
    "Предположение про азиатов похоже на правду, т. к. большинство жителей стран [Южной Азии](https://ru.wikipedia.org/wiki/%D0%AE%D0%B6%D0%BD%D0%B0%D1%8F_%D0%90%D0%B7%D0%B8%D1%8F#%D0%A1%D1%82%D1%80%D0%B0%D0%BD%D1%8B:) назвали себя просто азиатами. Поэтому заменим 'South Asian' на 'Asian'.\n",
    "\n",
    "Турки как-то стоят особняком в списке этнической принадлежности. Отнести их к Ближнему Востоку или к азиатам?"
   ]
  },
  {
   "cell_type": "code",
   "execution_count": 25,
   "id": "b3f57e23-eac5-4270-98df-fa0cd78db7ad",
   "metadata": {},
   "outputs": [
    {
     "data": {
      "text/plain": [
       "255                   Armenia\n",
       "393    'United Arab Emirates'\n",
       "425    'United Arab Emirates'\n",
       "557           'United States'\n",
       "565                    Turkey\n",
       "696                 Australia\n",
       "Name: contry_of_res, dtype: object"
      ]
     },
     "execution_count": 25,
     "metadata": {},
     "output_type": "execute_result"
    }
   ],
   "source": [
    "data[data[\"ethnicity\"] =='Turkish'].contry_of_res"
   ]
  },
  {
   "cell_type": "code",
   "execution_count": 26,
   "id": "ce1701af-4b3e-428f-9931-026c50b074d1",
   "metadata": {},
   "outputs": [
    {
     "data": {
      "text/plain": [
       "565    Turkish\n",
       "Name: ethnicity, dtype: object"
      ]
     },
     "execution_count": 26,
     "metadata": {},
     "output_type": "execute_result"
    }
   ],
   "source": [
    "data[data[\"contry_of_res\"]==\"Turkey\"].ethnicity"
   ]
  },
  {
   "cell_type": "markdown",
   "id": "b34d03c0-8c4a-4788-adcf-2dcd11906212",
   "metadata": {},
   "source": [
    "Увы, Турция представлена только одним турком, поэтому не определиться с предпочтениями."
   ]
  },
  {
   "cell_type": "code",
   "execution_count": 27,
   "id": "dc890c44-fde0-4d92-9b49-e1240655a0f5",
   "metadata": {},
   "outputs": [
    {
     "data": {
      "text/html": [
       "<div>\n",
       "<style scoped>\n",
       "    .dataframe tbody tr th:only-of-type {\n",
       "        vertical-align: middle;\n",
       "    }\n",
       "\n",
       "    .dataframe tbody tr th {\n",
       "        vertical-align: top;\n",
       "    }\n",
       "\n",
       "    .dataframe thead th {\n",
       "        text-align: right;\n",
       "    }\n",
       "</style>\n",
       "<table border=\"1\" class=\"dataframe\">\n",
       "  <thead>\n",
       "    <tr style=\"text-align: right;\">\n",
       "      <th>ethnicity</th>\n",
       "      <th>'Middle Eastern '</th>\n",
       "    </tr>\n",
       "    <tr>\n",
       "      <th>contry_of_res</th>\n",
       "      <th></th>\n",
       "    </tr>\n",
       "  </thead>\n",
       "  <tbody>\n",
       "    <tr>\n",
       "      <th>'New Zealand'</th>\n",
       "      <td>7</td>\n",
       "    </tr>\n",
       "    <tr>\n",
       "      <th>'Saudi Arabia'</th>\n",
       "      <td>4</td>\n",
       "    </tr>\n",
       "    <tr>\n",
       "      <th>'United Arab Emirates'</th>\n",
       "      <td>68</td>\n",
       "    </tr>\n",
       "    <tr>\n",
       "      <th>'United Kingdom'</th>\n",
       "      <td>2</td>\n",
       "    </tr>\n",
       "    <tr>\n",
       "      <th>'United States'</th>\n",
       "      <td>5</td>\n",
       "    </tr>\n",
       "    <tr>\n",
       "      <th>Afghanistan</th>\n",
       "      <td>9</td>\n",
       "    </tr>\n",
       "    <tr>\n",
       "      <th>AmericanSamoa</th>\n",
       "      <td>1</td>\n",
       "    </tr>\n",
       "    <tr>\n",
       "      <th>Armenia</th>\n",
       "      <td>1</td>\n",
       "    </tr>\n",
       "    <tr>\n",
       "      <th>Burundi</th>\n",
       "      <td>1</td>\n",
       "    </tr>\n",
       "    <tr>\n",
       "      <th>Canada</th>\n",
       "      <td>1</td>\n",
       "    </tr>\n",
       "    <tr>\n",
       "      <th>Egypt</th>\n",
       "      <td>3</td>\n",
       "    </tr>\n",
       "    <tr>\n",
       "      <th>France</th>\n",
       "      <td>2</td>\n",
       "    </tr>\n",
       "    <tr>\n",
       "      <th>Iceland</th>\n",
       "      <td>1</td>\n",
       "    </tr>\n",
       "    <tr>\n",
       "      <th>India</th>\n",
       "      <td>1</td>\n",
       "    </tr>\n",
       "    <tr>\n",
       "      <th>Iran</th>\n",
       "      <td>2</td>\n",
       "    </tr>\n",
       "    <tr>\n",
       "      <th>Jordan</th>\n",
       "      <td>5</td>\n",
       "    </tr>\n",
       "  </tbody>\n",
       "</table>\n",
       "</div>"
      ],
      "text/plain": [
       "ethnicity               'Middle Eastern '\n",
       "contry_of_res                            \n",
       "'New Zealand'                           7\n",
       "'Saudi Arabia'                          4\n",
       "'United Arab Emirates'                 68\n",
       "'United Kingdom'                        2\n",
       "'United States'                         5\n",
       "Afghanistan                             9\n",
       "AmericanSamoa                           1\n",
       "Armenia                                 1\n",
       "Burundi                                 1\n",
       "Canada                                  1\n",
       "Egypt                                   3\n",
       "France                                  2\n",
       "Iceland                                 1\n",
       "India                                   1\n",
       "Iran                                    2\n",
       "Jordan                                  5"
      ]
     },
     "execution_count": 27,
     "metadata": {},
     "output_type": "execute_result"
    }
   ],
   "source": [
    "data_temp = data[data[\"ethnicity\"]==\"'Middle Eastern '\"]\n",
    "pd.crosstab(data[\"contry_of_res\"], data_temp[\"ethnicity\"])"
   ]
  },
  {
   "cell_type": "markdown",
   "id": "652b4b95-958a-4363-9c83-b8e381500da3",
   "metadata": {},
   "source": [
    "Термин Ближний Восток довольно [путанный](https://ru.wikipedia.org/wiki/%D0%A1%D1%80%D0%B5%D0%B4%D0%BD%D0%B8%D0%B9_%D0%92%D0%BE%D1%81%D1%82%D0%BE%D0%BA#%D0%92_%D0%B0%D0%BD%D0%B3%D0%BB%D0%B8%D0%B9%D1%81%D0%BA%D0%BE%D0%BC_%D1%8F%D0%B7%D1%8B%D0%BA%D0%B5). Это ясности не добавляет.\n",
    "\n",
    "И все-таки отнесем для определенности турок именно к Ближнему Востоку."
   ]
  },
  {
   "cell_type": "code",
   "execution_count": 28,
   "id": "f0c4f53f-6ebd-4aad-a3f3-f76239f81fe9",
   "metadata": {},
   "outputs": [
    {
     "data": {
      "text/html": [
       "<div>\n",
       "<style scoped>\n",
       "    .dataframe tbody tr th:only-of-type {\n",
       "        vertical-align: middle;\n",
       "    }\n",
       "\n",
       "    .dataframe tbody tr th {\n",
       "        vertical-align: top;\n",
       "    }\n",
       "\n",
       "    .dataframe thead th {\n",
       "        text-align: right;\n",
       "    }\n",
       "</style>\n",
       "<table border=\"1\" class=\"dataframe\">\n",
       "  <thead>\n",
       "    <tr style=\"text-align: right;\">\n",
       "      <th>ethnicity</th>\n",
       "      <th>Pasifika</th>\n",
       "    </tr>\n",
       "    <tr>\n",
       "      <th>contry_of_res</th>\n",
       "      <th></th>\n",
       "    </tr>\n",
       "  </thead>\n",
       "  <tbody>\n",
       "    <tr>\n",
       "      <th>'New Zealand'</th>\n",
       "      <td>7</td>\n",
       "    </tr>\n",
       "    <tr>\n",
       "      <th>'United Arab Emirates'</th>\n",
       "      <td>1</td>\n",
       "    </tr>\n",
       "    <tr>\n",
       "      <th>'United States'</th>\n",
       "      <td>1</td>\n",
       "    </tr>\n",
       "    <tr>\n",
       "      <th>Australia</th>\n",
       "      <td>1</td>\n",
       "    </tr>\n",
       "    <tr>\n",
       "      <th>Oman</th>\n",
       "      <td>1</td>\n",
       "    </tr>\n",
       "    <tr>\n",
       "      <th>Tonga</th>\n",
       "      <td>1</td>\n",
       "    </tr>\n",
       "  </tbody>\n",
       "</table>\n",
       "</div>"
      ],
      "text/plain": [
       "ethnicity               Pasifika\n",
       "contry_of_res                   \n",
       "'New Zealand'                  7\n",
       "'United Arab Emirates'         1\n",
       "'United States'                1\n",
       "Australia                      1\n",
       "Oman                           1\n",
       "Tonga                          1"
      ]
     },
     "execution_count": 28,
     "metadata": {},
     "output_type": "execute_result"
    }
   ],
   "source": [
    "data_temp = data[data[\"ethnicity\"]==\"Pasifika\"]\n",
    "pd.crosstab(data[\"contry_of_res\"], data_temp[\"ethnicity\"])"
   ]
  },
  {
   "cell_type": "code",
   "execution_count": 29,
   "id": "6d3dd19f-f878-4ebc-8d48-c524389b8769",
   "metadata": {},
   "outputs": [
    {
     "data": {
      "text/plain": [
       "99    Pasifika\n",
       "Name: ethnicity, dtype: object"
      ]
     },
     "execution_count": 29,
     "metadata": {},
     "output_type": "execute_result"
    }
   ],
   "source": [
    "data[data[\"contry_of_res\"]==\"Oman\"].ethnicity"
   ]
  },
  {
   "cell_type": "markdown",
   "id": "c8f40e71-0340-4af7-a9b5-e2090c9b23fd",
   "metadata": {},
   "source": [
    "Житель Тихоокеанский островов в Омане смотрится несколько подозрительно. \n",
    "\n",
    "Можно было бы заменить их всех на азиатов из-за малости данных, но уж очень специфичная группа. Оставим их без изменений.\n",
    "\n",
    "Итак, составим отображение между указанными выше этническими принадлежностями и согласно этому отображению произведем замену:"
   ]
  },
  {
   "cell_type": "code",
   "execution_count": 30,
   "id": "a624bd3c-d578-4e3a-b411-e8c540776f16",
   "metadata": {},
   "outputs": [],
   "source": [
    "from_ = [\"others\", \"Hispanic\", \"'South Asian'\", \"Turkish\"]\n",
    "to    = [\"Others\", \"Latino\",  \"Asian\",          \"'Middle Eastern '\"]\n",
    "data[\"ethnicity\"].replace(from_, to, inplace=True)"
   ]
  },
  {
   "cell_type": "code",
   "execution_count": 31,
   "id": "0c79ec7d-a662-4d10-ba2a-a4b39fd7faa7",
   "metadata": {},
   "outputs": [
    {
     "data": {
      "text/plain": [
       "ethnicity\n",
       "'Middle Eastern '    119\n",
       "?                     63\n",
       "Asian                165\n",
       "Black                 43\n",
       "Latino                34\n",
       "Others                31\n",
       "Pasifika              12\n",
       "White-European       237\n",
       "Name: contry_of_res, dtype: int64"
      ]
     },
     "execution_count": 31,
     "metadata": {},
     "output_type": "execute_result"
    }
   ],
   "source": [
    "group = data.groupby(\"ethnicity\")\n",
    "group[\"contry_of_res\"].count()"
   ]
  },
  {
   "cell_type": "markdown",
   "id": "465ef132-a357-4002-b281-fb7e2e26a10a",
   "metadata": {},
   "source": [
    "Осталось 63 пропущенных значения. Посмотрим, что это за страны:"
   ]
  },
  {
   "cell_type": "code",
   "execution_count": 32,
   "id": "b78970b4-be3a-4573-beee-46d5d94b5966",
   "metadata": {},
   "outputs": [
    {
     "data": {
      "text/plain": [
       "array(['Argentina', 'Lebanon', 'Jordan', 'Russia', \"'Hong Kong'\", 'Japan',\n",
       "       'Kazakhstan', 'Iran', 'Azerbaijan', 'Pakistan', 'Iraq'],\n",
       "      dtype=object)"
      ]
     },
     "execution_count": 32,
     "metadata": {},
     "output_type": "execute_result"
    }
   ],
   "source": [
    "data[data[\"ethnicity\"]=='?'].contry_of_res.unique()"
   ]
  },
  {
   "cell_type": "markdown",
   "id": "34e57893-8697-4698-9ca1-3ec2d87a3ecc",
   "metadata": {},
   "source": [
    "Придется обработать случай каждой из оставшихся стран отдельно, вручную.\n",
    "\n"
   ]
  },
  {
   "cell_type": "markdown",
   "id": "50d9dd10-bbe8-4ab1-97ac-9f9687668257",
   "metadata": {},
   "source": [
    "Как уже было сказано выше, Аргентину заполним латиноамериканцами:"
   ]
  },
  {
   "cell_type": "code",
   "execution_count": 33,
   "id": "aa2408a6-b5d5-4e13-9af1-8581a4d1df97",
   "metadata": {},
   "outputs": [
    {
     "data": {
      "text/plain": [
       "14     ?\n",
       "350    ?\n",
       "Name: ethnicity, dtype: object"
      ]
     },
     "execution_count": 33,
     "metadata": {},
     "output_type": "execute_result"
    }
   ],
   "source": [
    "data[(data[\"contry_of_res\"]==\"Argentina\")].ethnicity\n"
   ]
  },
  {
   "cell_type": "code",
   "execution_count": 34,
   "id": "4d0ce5d5-69fc-4577-a84b-f3bb1f1b93c6",
   "metadata": {},
   "outputs": [],
   "source": [
    "data.loc[(data[\"ethnicity\"]==\"?\") & (data[\"contry_of_res\"]=='Argentina'), \"ethnicity\"] = 'Latino'"
   ]
  },
  {
   "cell_type": "code",
   "execution_count": 35,
   "id": "25bf8d6e-52ea-47aa-8266-d4bd826d4109",
   "metadata": {},
   "outputs": [
    {
     "data": {
      "text/plain": [
       "24    ?\n",
       "Name: ethnicity, dtype: object"
      ]
     },
     "execution_count": 35,
     "metadata": {},
     "output_type": "execute_result"
    }
   ],
   "source": [
    "data[(data[\"contry_of_res\"]==\"Lebanon\")].ethnicity"
   ]
  },
  {
   "cell_type": "markdown",
   "id": "4fc4be7e-d657-4f0a-b672-ed867329ed16",
   "metadata": {},
   "source": [
    "Lebanon - это Ливан. Поэтому:"
   ]
  },
  {
   "cell_type": "code",
   "execution_count": 36,
   "id": "f6bf1dcd-c7d9-4893-9a40-859b0a9f7738",
   "metadata": {},
   "outputs": [],
   "source": [
    "data.loc[(data[\"ethnicity\"]==\"?\") & (data[\"contry_of_res\"]=='Lebanon'), \"ethnicity\"] = \"'Middle Eastern '\""
   ]
  },
  {
   "cell_type": "code",
   "execution_count": 37,
   "id": "ceee4e67-5cd0-43dc-9310-a7449fc7b564",
   "metadata": {},
   "outputs": [
    {
     "data": {
      "text/plain": [
       "16     'Middle Eastern '\n",
       "79                     ?\n",
       "81                     ?\n",
       "83     'Middle Eastern '\n",
       "91                     ?\n",
       "276                    ?\n",
       "277                    ?\n",
       "336    'Middle Eastern '\n",
       "337                    ?\n",
       "338                    ?\n",
       "339                    ?\n",
       "340                    ?\n",
       "341                    ?\n",
       "342                    ?\n",
       "343                    ?\n",
       "344                    ?\n",
       "345                    ?\n",
       "346                    ?\n",
       "347                    ?\n",
       "348                    ?\n",
       "349                    ?\n",
       "351                    ?\n",
       "352                    ?\n",
       "353                    ?\n",
       "354                    ?\n",
       "380                    ?\n",
       "381                    ?\n",
       "382                    ?\n",
       "383                    ?\n",
       "384                    ?\n",
       "385                    ?\n",
       "386                    ?\n",
       "387                    ?\n",
       "388                    ?\n",
       "390                    ?\n",
       "427                    ?\n",
       "429                    ?\n",
       "432                    ?\n",
       "438                    ?\n",
       "453                    ?\n",
       "485                    ?\n",
       "556                    ?\n",
       "571                    ?\n",
       "572                    ?\n",
       "646    'Middle Eastern '\n",
       "650    'Middle Eastern '\n",
       "651                    ?\n",
       "Name: ethnicity, dtype: object"
      ]
     },
     "execution_count": 37,
     "metadata": {},
     "output_type": "execute_result"
    }
   ],
   "source": [
    "data[(data[\"contry_of_res\"]==\"Jordan\")].ethnicity"
   ]
  },
  {
   "cell_type": "markdown",
   "id": "cf8fbfcd-2e4c-4097-9b48-c914653a090f",
   "metadata": {},
   "source": [
    "Очень много незаполненных значений."
   ]
  },
  {
   "cell_type": "code",
   "execution_count": 38,
   "id": "fde851b5-a492-4f3e-9c3a-c0413e3bd8cf",
   "metadata": {},
   "outputs": [],
   "source": [
    "data.loc[(data[\"ethnicity\"]==\"?\") & (data[\"contry_of_res\"]=='Jordan'), \"ethnicity\"] = \"'Middle Eastern '\""
   ]
  },
  {
   "cell_type": "code",
   "execution_count": 39,
   "id": "00b9f682-c5ce-4476-95ff-c36548d81f83",
   "metadata": {},
   "outputs": [
    {
     "data": {
      "text/plain": [
       "16     'Middle Eastern '\n",
       "79     'Middle Eastern '\n",
       "81     'Middle Eastern '\n",
       "83     'Middle Eastern '\n",
       "91     'Middle Eastern '\n",
       "276    'Middle Eastern '\n",
       "277    'Middle Eastern '\n",
       "336    'Middle Eastern '\n",
       "337    'Middle Eastern '\n",
       "338    'Middle Eastern '\n",
       "339    'Middle Eastern '\n",
       "340    'Middle Eastern '\n",
       "341    'Middle Eastern '\n",
       "342    'Middle Eastern '\n",
       "343    'Middle Eastern '\n",
       "344    'Middle Eastern '\n",
       "345    'Middle Eastern '\n",
       "346    'Middle Eastern '\n",
       "347    'Middle Eastern '\n",
       "348    'Middle Eastern '\n",
       "349    'Middle Eastern '\n",
       "351    'Middle Eastern '\n",
       "352    'Middle Eastern '\n",
       "353    'Middle Eastern '\n",
       "354    'Middle Eastern '\n",
       "380    'Middle Eastern '\n",
       "381    'Middle Eastern '\n",
       "382    'Middle Eastern '\n",
       "383    'Middle Eastern '\n",
       "384    'Middle Eastern '\n",
       "385    'Middle Eastern '\n",
       "386    'Middle Eastern '\n",
       "387    'Middle Eastern '\n",
       "388    'Middle Eastern '\n",
       "390    'Middle Eastern '\n",
       "427    'Middle Eastern '\n",
       "429    'Middle Eastern '\n",
       "432    'Middle Eastern '\n",
       "438    'Middle Eastern '\n",
       "453    'Middle Eastern '\n",
       "485    'Middle Eastern '\n",
       "556    'Middle Eastern '\n",
       "571    'Middle Eastern '\n",
       "572    'Middle Eastern '\n",
       "646    'Middle Eastern '\n",
       "650    'Middle Eastern '\n",
       "651    'Middle Eastern '\n",
       "Name: ethnicity, dtype: object"
      ]
     },
     "execution_count": 39,
     "metadata": {},
     "output_type": "execute_result"
    }
   ],
   "source": [
    "data[(data[\"contry_of_res\"]==\"Jordan\")].ethnicity"
   ]
  },
  {
   "cell_type": "code",
   "execution_count": 40,
   "id": "b4349656-1256-4c1d-a633-e84f6b8d55a2",
   "metadata": {},
   "outputs": [
    {
     "data": {
      "text/plain": [
       "238                 ?\n",
       "270                 ?\n",
       "367            Others\n",
       "593                 ?\n",
       "636                 ?\n",
       "699    White-European\n",
       "701                 ?\n",
       "Name: ethnicity, dtype: object"
      ]
     },
     "execution_count": 40,
     "metadata": {},
     "output_type": "execute_result"
    }
   ],
   "source": [
    "data[(data[\"contry_of_res\"]==\"Russia\")].ethnicity"
   ]
  },
  {
   "cell_type": "markdown",
   "id": "e3970878-1f7a-489d-9267-41e212511f22",
   "metadata": {},
   "source": [
    "Умом Россию не понять, национальностей разных много, поэтому заполним как *Others*."
   ]
  },
  {
   "cell_type": "code",
   "execution_count": 41,
   "id": "48f4144c-ca13-4920-85d6-fae6542bedbd",
   "metadata": {},
   "outputs": [],
   "source": [
    "data.loc[(data[\"ethnicity\"]==\"?\") & (data[\"contry_of_res\"]=='Russia'), \"ethnicity\"] = \"Others\""
   ]
  },
  {
   "cell_type": "code",
   "execution_count": 42,
   "id": "497bbc03-f5a7-4ccd-aa83-b18283deb6fb",
   "metadata": {},
   "outputs": [],
   "source": [
    "#\"'Hong Kong'\", 'Japan', 'Kazakhstan', 'Iran', 'Azerbaijan', 'Pakistan', 'Iraq'\n",
    "#\"'Hong Kong'\", 'Japan', 'Kazakhstan',  'Pakistan', -> Asian\n",
    "# 'Iran', 'Azerbaijan', 'Iraq' -> Middle East"
   ]
  },
  {
   "cell_type": "markdown",
   "id": "90454534-4f5a-4853-bdd6-70d307bc11b5",
   "metadata": {},
   "source": [
    "Гонконг, Японию, Казахстан и Пакистан заполним азиатами:"
   ]
  },
  {
   "cell_type": "code",
   "execution_count": 43,
   "id": "46a28103-61d9-4e97-8915-7b61d38c2055",
   "metadata": {},
   "outputs": [
    {
     "data": {
      "text/html": [
       "<div>\n",
       "<style scoped>\n",
       "    .dataframe tbody tr th:only-of-type {\n",
       "        vertical-align: middle;\n",
       "    }\n",
       "\n",
       "    .dataframe tbody tr th {\n",
       "        vertical-align: top;\n",
       "    }\n",
       "\n",
       "    .dataframe thead th {\n",
       "        text-align: right;\n",
       "    }\n",
       "</style>\n",
       "<table border=\"1\" class=\"dataframe\">\n",
       "  <thead>\n",
       "    <tr style=\"text-align: right;\">\n",
       "      <th></th>\n",
       "      <th>ethnicity</th>\n",
       "      <th>contry_of_res</th>\n",
       "    </tr>\n",
       "  </thead>\n",
       "  <tbody>\n",
       "    <tr>\n",
       "      <th>41</th>\n",
       "      <td>Asian</td>\n",
       "      <td>Pakistan</td>\n",
       "    </tr>\n",
       "    <tr>\n",
       "      <th>285</th>\n",
       "      <td>?</td>\n",
       "      <td>'Hong Kong'</td>\n",
       "    </tr>\n",
       "    <tr>\n",
       "      <th>355</th>\n",
       "      <td>?</td>\n",
       "      <td>Japan</td>\n",
       "    </tr>\n",
       "    <tr>\n",
       "      <th>372</th>\n",
       "      <td>?</td>\n",
       "      <td>Kazakhstan</td>\n",
       "    </tr>\n",
       "    <tr>\n",
       "      <th>399</th>\n",
       "      <td>?</td>\n",
       "      <td>Kazakhstan</td>\n",
       "    </tr>\n",
       "    <tr>\n",
       "      <th>564</th>\n",
       "      <td>?</td>\n",
       "      <td>Kazakhstan</td>\n",
       "    </tr>\n",
       "    <tr>\n",
       "      <th>659</th>\n",
       "      <td>?</td>\n",
       "      <td>Pakistan</td>\n",
       "    </tr>\n",
       "    <tr>\n",
       "      <th>702</th>\n",
       "      <td>Asian</td>\n",
       "      <td>Pakistan</td>\n",
       "    </tr>\n",
       "  </tbody>\n",
       "</table>\n",
       "</div>"
      ],
      "text/plain": [
       "    ethnicity contry_of_res\n",
       "41      Asian      Pakistan\n",
       "285         ?   'Hong Kong'\n",
       "355         ?         Japan\n",
       "372         ?    Kazakhstan\n",
       "399         ?    Kazakhstan\n",
       "564         ?    Kazakhstan\n",
       "659         ?      Pakistan\n",
       "702     Asian      Pakistan"
      ]
     },
     "execution_count": 43,
     "metadata": {},
     "output_type": "execute_result"
    }
   ],
   "source": [
    "data.loc[(data[\"contry_of_res\"]==\"'Hong Kong'\") |\n",
    "     (data[\"contry_of_res\"]==\"Japan\") |\n",
    "     (data[\"contry_of_res\"]==\"Kazakhstan\") |\n",
    "     (data[\"contry_of_res\"]==\"Pakistan\"),[\"ethnicity\",\"contry_of_res\"]]"
   ]
  },
  {
   "cell_type": "code",
   "execution_count": 44,
   "id": "ada82187-33a1-49ba-a62d-0dcda454776d",
   "metadata": {},
   "outputs": [],
   "source": [
    "data.loc[(data[\"ethnicity\"]==\"?\") & (\n",
    "                                     (data[\"contry_of_res\"]==\"'Hong Kong'\") |\n",
    "                                     (data[\"contry_of_res\"]==\"Japan\") |\n",
    "                                     (data[\"contry_of_res\"]==\"Kazakhstan\") |\n",
    "                                     (data[\"contry_of_res\"]==\"Pakistan\")\n",
    "                                    ),\n",
    "         \"ethnicity\"] = \"Asian\""
   ]
  },
  {
   "cell_type": "code",
   "execution_count": 45,
   "id": "aeb81c69-29ac-49c0-bb23-fe69d740bf82",
   "metadata": {},
   "outputs": [
    {
     "data": {
      "text/html": [
       "<div>\n",
       "<style scoped>\n",
       "    .dataframe tbody tr th:only-of-type {\n",
       "        vertical-align: middle;\n",
       "    }\n",
       "\n",
       "    .dataframe tbody tr th {\n",
       "        vertical-align: top;\n",
       "    }\n",
       "\n",
       "    .dataframe thead th {\n",
       "        text-align: right;\n",
       "    }\n",
       "</style>\n",
       "<table border=\"1\" class=\"dataframe\">\n",
       "  <thead>\n",
       "    <tr style=\"text-align: right;\">\n",
       "      <th></th>\n",
       "      <th>ethnicity</th>\n",
       "      <th>contry_of_res</th>\n",
       "    </tr>\n",
       "  </thead>\n",
       "  <tbody>\n",
       "    <tr>\n",
       "      <th>177</th>\n",
       "      <td>'Middle Eastern '</td>\n",
       "      <td>Iran</td>\n",
       "    </tr>\n",
       "    <tr>\n",
       "      <th>178</th>\n",
       "      <td>'Middle Eastern '</td>\n",
       "      <td>Iran</td>\n",
       "    </tr>\n",
       "    <tr>\n",
       "      <th>527</th>\n",
       "      <td>?</td>\n",
       "      <td>Iran</td>\n",
       "    </tr>\n",
       "    <tr>\n",
       "      <th>534</th>\n",
       "      <td>?</td>\n",
       "      <td>Iran</td>\n",
       "    </tr>\n",
       "    <tr>\n",
       "      <th>535</th>\n",
       "      <td>?</td>\n",
       "      <td>Iran</td>\n",
       "    </tr>\n",
       "    <tr>\n",
       "      <th>536</th>\n",
       "      <td>?</td>\n",
       "      <td>Iran</td>\n",
       "    </tr>\n",
       "    <tr>\n",
       "      <th>537</th>\n",
       "      <td>?</td>\n",
       "      <td>Iran</td>\n",
       "    </tr>\n",
       "    <tr>\n",
       "      <th>658</th>\n",
       "      <td>?</td>\n",
       "      <td>Azerbaijan</td>\n",
       "    </tr>\n",
       "    <tr>\n",
       "      <th>666</th>\n",
       "      <td>?</td>\n",
       "      <td>Iraq</td>\n",
       "    </tr>\n",
       "  </tbody>\n",
       "</table>\n",
       "</div>"
      ],
      "text/plain": [
       "             ethnicity contry_of_res\n",
       "177  'Middle Eastern '          Iran\n",
       "178  'Middle Eastern '          Iran\n",
       "527                  ?          Iran\n",
       "534                  ?          Iran\n",
       "535                  ?          Iran\n",
       "536                  ?          Iran\n",
       "537                  ?          Iran\n",
       "658                  ?    Azerbaijan\n",
       "666                  ?          Iraq"
      ]
     },
     "execution_count": 45,
     "metadata": {},
     "output_type": "execute_result"
    }
   ],
   "source": [
    "data.loc[(data[\"contry_of_res\"]==\"Iran\") |\n",
    "     (data[\"contry_of_res\"]==\"Azerbaijan\") |\n",
    "     (data[\"contry_of_res\"]==\"Iraq\"),[\"ethnicity\",\"contry_of_res\"]]"
   ]
  },
  {
   "cell_type": "markdown",
   "id": "1f3d65a9-6532-4298-a929-3db67cf3e3ab",
   "metadata": {},
   "source": [
    "Иран, Ирак заполним как Ближний Восток. Так поступим и с Азербайджаном (по аналогии с Турцией)."
   ]
  },
  {
   "cell_type": "code",
   "execution_count": 46,
   "id": "77591eeb-5687-437d-94c4-0e0279a06c38",
   "metadata": {},
   "outputs": [],
   "source": [
    "data.loc[(data[\"ethnicity\"]==\"?\") & (\n",
    "                                     (data[\"contry_of_res\"]==\"Iran\") |\n",
    "                                     (data[\"contry_of_res\"]==\"Azerbaijan\") |\n",
    "                                     (data[\"contry_of_res\"]==\"Iraq\")\n",
    "                                    ),\n",
    "         \"ethnicity\"] = \"'Middle Eastern '\""
   ]
  },
  {
   "cell_type": "code",
   "execution_count": 47,
   "id": "17358b3b-1c95-4ca1-a57e-2d2245ddde4e",
   "metadata": {},
   "outputs": [
    {
     "data": {
      "text/plain": [
       "ethnicity\n",
       "'Middle Eastern '    169\n",
       "Asian                171\n",
       "Black                 43\n",
       "Latino                36\n",
       "Others                36\n",
       "Pasifika              12\n",
       "White-European       237\n",
       "Name: contry_of_res, dtype: int64"
      ]
     },
     "execution_count": 47,
     "metadata": {},
     "output_type": "execute_result"
    }
   ],
   "source": [
    "group = data.groupby(\"ethnicity\")\n",
    "group[\"contry_of_res\"].count()"
   ]
  },
  {
   "cell_type": "markdown",
   "id": "657cdcfa-6b21-4e45-b371-62bc4b16f2f0",
   "metadata": {},
   "source": [
    "С пропусками в этнической принадлежности покончено!"
   ]
  },
  {
   "cell_type": "code",
   "execution_count": 48,
   "id": "99b75135-d0d9-4481-a60a-a155b9be0b36",
   "metadata": {},
   "outputs": [
    {
     "data": {
      "text/html": [
       "<div>\n",
       "<style scoped>\n",
       "    .dataframe tbody tr th:only-of-type {\n",
       "        vertical-align: middle;\n",
       "    }\n",
       "\n",
       "    .dataframe tbody tr th {\n",
       "        vertical-align: top;\n",
       "    }\n",
       "\n",
       "    .dataframe thead th {\n",
       "        text-align: right;\n",
       "    }\n",
       "</style>\n",
       "<table border=\"1\" class=\"dataframe\">\n",
       "  <thead>\n",
       "    <tr style=\"text-align: right;\">\n",
       "      <th>ASD</th>\n",
       "      <th>NO</th>\n",
       "      <th>YES</th>\n",
       "    </tr>\n",
       "    <tr>\n",
       "      <th>ethnicity</th>\n",
       "      <th></th>\n",
       "      <th></th>\n",
       "    </tr>\n",
       "  </thead>\n",
       "  <tbody>\n",
       "    <tr>\n",
       "      <th>'Middle Eastern '</th>\n",
       "      <td>157</td>\n",
       "      <td>12</td>\n",
       "    </tr>\n",
       "    <tr>\n",
       "      <th>Asian</th>\n",
       "      <td>149</td>\n",
       "      <td>22</td>\n",
       "    </tr>\n",
       "    <tr>\n",
       "      <th>Black</th>\n",
       "      <td>25</td>\n",
       "      <td>18</td>\n",
       "    </tr>\n",
       "    <tr>\n",
       "      <th>Latino</th>\n",
       "      <td>20</td>\n",
       "      <td>16</td>\n",
       "    </tr>\n",
       "    <tr>\n",
       "      <th>Others</th>\n",
       "      <td>25</td>\n",
       "      <td>11</td>\n",
       "    </tr>\n",
       "    <tr>\n",
       "      <th>Pasifika</th>\n",
       "      <td>11</td>\n",
       "      <td>1</td>\n",
       "    </tr>\n",
       "    <tr>\n",
       "      <th>White-European</th>\n",
       "      <td>128</td>\n",
       "      <td>109</td>\n",
       "    </tr>\n",
       "  </tbody>\n",
       "</table>\n",
       "</div>"
      ],
      "text/plain": [
       "ASD                 NO  YES\n",
       "ethnicity                  \n",
       "'Middle Eastern '  157   12\n",
       "Asian              149   22\n",
       "Black               25   18\n",
       "Latino              20   16\n",
       "Others              25   11\n",
       "Pasifika            11    1\n",
       "White-European     128  109"
      ]
     },
     "execution_count": 48,
     "metadata": {},
     "output_type": "execute_result"
    }
   ],
   "source": [
    "pd.crosstab(data[\"ethnicity\"], data[\"ASD\"])"
   ]
  },
  {
   "cell_type": "markdown",
   "id": "2f13b7c0-7484-4cef-80e6-1157feb5f86e",
   "metadata": {},
   "source": [
    "Бросается в глаза, что для белых, черных и латиноамериканцев количество страдающих аутизмом приближается к количеству здоровых людей, в то время как у азиатов и жителей Ближнего Востока оно значительно меньше. "
   ]
  },
  {
   "cell_type": "code",
   "execution_count": 49,
   "id": "e013fa76-c3a2-47e2-965c-6aaa9bd5bd88",
   "metadata": {},
   "outputs": [
    {
     "data": {
      "text/plain": [
       "Text(0, 0.5, 'Count')"
      ]
     },
     "execution_count": 49,
     "metadata": {},
     "output_type": "execute_result"
    },
    {
     "data": {
      "image/png": "[encoded data removed]",
      "text/plain": [
       "<Figure size 432x288 with 1 Axes>"
      ]
     },
     "metadata": {
      "needs_background": "light"
     },
     "output_type": "display_data"
    }
   ],
   "source": [
    "pd.crosstab(data[\"ethnicity\"], data[\"ASD\"]).plot(kind='bar', stacked=True, rot=0)\n",
    "plt.xlabel(\"Ethnicity\")\n",
    "plt.ylabel(\"Count\")"
   ]
  },
  {
   "cell_type": "markdown",
   "id": "0e83e133-7255-471a-96e9-1f8833a4d59b",
   "metadata": {},
   "source": [
    "Первые три этнические группы массово встречаются в США. Возможно, с этим и связан рост аутистов. Поэтому исследуем влияние на аутизм страны проживания."
   ]
  },
  {
   "cell_type": "code",
   "execution_count": 50,
   "id": "17ff6da7-c837-4d31-9591-c2abdf8e2fbb",
   "metadata": {},
   "outputs": [
    {
     "data": {
      "text/html": [
       "<div>\n",
       "<style scoped>\n",
       "    .dataframe tbody tr th:only-of-type {\n",
       "        vertical-align: middle;\n",
       "    }\n",
       "\n",
       "    .dataframe tbody tr th {\n",
       "        vertical-align: top;\n",
       "    }\n",
       "\n",
       "    .dataframe thead th {\n",
       "        text-align: right;\n",
       "    }\n",
       "</style>\n",
       "<table border=\"1\" class=\"dataframe\">\n",
       "  <thead>\n",
       "    <tr style=\"text-align: right;\">\n",
       "      <th>ASD</th>\n",
       "      <th>NO</th>\n",
       "      <th>YES</th>\n",
       "    </tr>\n",
       "    <tr>\n",
       "      <th>ethnicity</th>\n",
       "      <th></th>\n",
       "      <th></th>\n",
       "    </tr>\n",
       "  </thead>\n",
       "  <tbody>\n",
       "    <tr>\n",
       "      <th>'Middle Eastern '</th>\n",
       "      <td>5</td>\n",
       "      <td>1</td>\n",
       "    </tr>\n",
       "    <tr>\n",
       "      <th>Asian</th>\n",
       "      <td>3</td>\n",
       "      <td>2</td>\n",
       "    </tr>\n",
       "    <tr>\n",
       "      <th>Black</th>\n",
       "      <td>6</td>\n",
       "      <td>4</td>\n",
       "    </tr>\n",
       "    <tr>\n",
       "      <th>Latino</th>\n",
       "      <td>6</td>\n",
       "      <td>6</td>\n",
       "    </tr>\n",
       "    <tr>\n",
       "      <th>Others</th>\n",
       "      <td>3</td>\n",
       "      <td>5</td>\n",
       "    </tr>\n",
       "    <tr>\n",
       "      <th>Pasifika</th>\n",
       "      <td>1</td>\n",
       "      <td>0</td>\n",
       "    </tr>\n",
       "    <tr>\n",
       "      <th>White-European</th>\n",
       "      <td>36</td>\n",
       "      <td>35</td>\n",
       "    </tr>\n",
       "  </tbody>\n",
       "</table>\n",
       "</div>"
      ],
      "text/plain": [
       "ASD                NO  YES\n",
       "ethnicity                 \n",
       "'Middle Eastern '   5    1\n",
       "Asian               3    2\n",
       "Black               6    4\n",
       "Latino              6    6\n",
       "Others              3    5\n",
       "Pasifika            1    0\n",
       "White-European     36   35"
      ]
     },
     "execution_count": 50,
     "metadata": {},
     "output_type": "execute_result"
    }
   ],
   "source": [
    "data1 = data[data[\"contry_of_res\"] == \"'United States'\"]\n",
    "pd.crosstab(data1[\"ethnicity\"], data1[\"ASD\"])"
   ]
  },
  {
   "cell_type": "markdown",
   "id": "1a74a638-630b-4861-ad2e-77022101acd2",
   "metadata": {},
   "source": [
    "На примере США видно, что распределение примерно 50 на 50 для всех этнических принадлежностей."
   ]
  },
  {
   "cell_type": "markdown",
   "id": "4538f227-6502-4778-93a8-aec24b0c15c7",
   "metadata": {
    "tags": []
   },
   "source": [
    "## Страна проживания"
   ]
  },
  {
   "cell_type": "code",
   "execution_count": 51,
   "id": "cd92cb9a-6fb6-4c89-9b75-9b805b1d8d10",
   "metadata": {},
   "outputs": [
    {
     "data": {
      "text/html": [
       "<div>\n",
       "<style scoped>\n",
       "    .dataframe tbody tr th:only-of-type {\n",
       "        vertical-align: middle;\n",
       "    }\n",
       "\n",
       "    .dataframe tbody tr th {\n",
       "        vertical-align: top;\n",
       "    }\n",
       "\n",
       "    .dataframe thead th {\n",
       "        text-align: right;\n",
       "    }\n",
       "</style>\n",
       "<table border=\"1\" class=\"dataframe\">\n",
       "  <thead>\n",
       "    <tr style=\"text-align: right;\">\n",
       "      <th>ASD</th>\n",
       "      <th>NO</th>\n",
       "      <th>YES</th>\n",
       "    </tr>\n",
       "    <tr>\n",
       "      <th>contry_of_res</th>\n",
       "      <th></th>\n",
       "      <th></th>\n",
       "    </tr>\n",
       "  </thead>\n",
       "  <tbody>\n",
       "    <tr>\n",
       "      <th>'Costa Rica'</th>\n",
       "      <td>1</td>\n",
       "      <td>0</td>\n",
       "    </tr>\n",
       "    <tr>\n",
       "      <th>'Czech Republic'</th>\n",
       "      <td>1</td>\n",
       "      <td>0</td>\n",
       "    </tr>\n",
       "    <tr>\n",
       "      <th>'Hong Kong'</th>\n",
       "      <td>1</td>\n",
       "      <td>0</td>\n",
       "    </tr>\n",
       "    <tr>\n",
       "      <th>'New Zealand'</th>\n",
       "      <td>66</td>\n",
       "      <td>15</td>\n",
       "    </tr>\n",
       "    <tr>\n",
       "      <th>'Saudi Arabia'</th>\n",
       "      <td>3</td>\n",
       "      <td>1</td>\n",
       "    </tr>\n",
       "    <tr>\n",
       "      <th>...</th>\n",
       "      <td>...</td>\n",
       "      <td>...</td>\n",
       "    </tr>\n",
       "    <tr>\n",
       "      <th>Sweden</th>\n",
       "      <td>0</td>\n",
       "      <td>2</td>\n",
       "    </tr>\n",
       "    <tr>\n",
       "      <th>Tonga</th>\n",
       "      <td>1</td>\n",
       "      <td>0</td>\n",
       "    </tr>\n",
       "    <tr>\n",
       "      <th>Turkey</th>\n",
       "      <td>1</td>\n",
       "      <td>0</td>\n",
       "    </tr>\n",
       "    <tr>\n",
       "      <th>Ukraine</th>\n",
       "      <td>2</td>\n",
       "      <td>0</td>\n",
       "    </tr>\n",
       "    <tr>\n",
       "      <th>Uruguay</th>\n",
       "      <td>0</td>\n",
       "      <td>1</td>\n",
       "    </tr>\n",
       "  </tbody>\n",
       "</table>\n",
       "<p>67 rows × 2 columns</p>\n",
       "</div>"
      ],
      "text/plain": [
       "ASD               NO  YES\n",
       "contry_of_res            \n",
       "'Costa Rica'       1    0\n",
       "'Czech Republic'   1    0\n",
       "'Hong Kong'        1    0\n",
       "'New Zealand'     66   15\n",
       "'Saudi Arabia'     3    1\n",
       "...               ..  ...\n",
       "Sweden             0    2\n",
       "Tonga              1    0\n",
       "Turkey             1    0\n",
       "Ukraine            2    0\n",
       "Uruguay            0    1\n",
       "\n",
       "[67 rows x 2 columns]"
      ]
     },
     "execution_count": 51,
     "metadata": {},
     "output_type": "execute_result"
    }
   ],
   "source": [
    "cntry = pd.crosstab(data[\"contry_of_res\"], data[\"ASD\"])\n",
    "cntry#.value_counts()"
   ]
  },
  {
   "cell_type": "markdown",
   "id": "e89d6830-2ebe-4cf7-bc15-8963e69fbf3a",
   "metadata": {},
   "source": [
    "Рассмотрим частоту заболевших по странам с достаточным количеством людей для выборки:"
   ]
  },
  {
   "cell_type": "code",
   "execution_count": 52,
   "id": "6a7bd212-3d3d-45ce-8a05-18a434408063",
   "metadata": {},
   "outputs": [
    {
     "data": {
      "text/html": [
       "<div>\n",
       "<style scoped>\n",
       "    .dataframe tbody tr th:only-of-type {\n",
       "        vertical-align: middle;\n",
       "    }\n",
       "\n",
       "    .dataframe tbody tr th {\n",
       "        vertical-align: top;\n",
       "    }\n",
       "\n",
       "    .dataframe thead th {\n",
       "        text-align: right;\n",
       "    }\n",
       "</style>\n",
       "<table border=\"1\" class=\"dataframe\">\n",
       "  <thead>\n",
       "    <tr style=\"text-align: right;\">\n",
       "      <th>ASD</th>\n",
       "      <th>NO</th>\n",
       "      <th>YES</th>\n",
       "      <th>total</th>\n",
       "      <th>freq</th>\n",
       "    </tr>\n",
       "    <tr>\n",
       "      <th>contry_of_res</th>\n",
       "      <th></th>\n",
       "      <th></th>\n",
       "      <th></th>\n",
       "      <th></th>\n",
       "    </tr>\n",
       "  </thead>\n",
       "  <tbody>\n",
       "    <tr>\n",
       "      <th>'Sri Lanka'</th>\n",
       "      <td>14</td>\n",
       "      <td>0</td>\n",
       "      <td>14</td>\n",
       "      <td>0.000000</td>\n",
       "    </tr>\n",
       "    <tr>\n",
       "      <th>'United Arab Emirates'</th>\n",
       "      <td>79</td>\n",
       "      <td>3</td>\n",
       "      <td>82</td>\n",
       "      <td>3.658537</td>\n",
       "    </tr>\n",
       "    <tr>\n",
       "      <th>Jordan</th>\n",
       "      <td>45</td>\n",
       "      <td>2</td>\n",
       "      <td>47</td>\n",
       "      <td>4.255319</td>\n",
       "    </tr>\n",
       "    <tr>\n",
       "      <th>India</th>\n",
       "      <td>75</td>\n",
       "      <td>6</td>\n",
       "      <td>81</td>\n",
       "      <td>7.407407</td>\n",
       "    </tr>\n",
       "    <tr>\n",
       "      <th>Afghanistan</th>\n",
       "      <td>11</td>\n",
       "      <td>2</td>\n",
       "      <td>13</td>\n",
       "      <td>15.384615</td>\n",
       "    </tr>\n",
       "    <tr>\n",
       "      <th>'New Zealand'</th>\n",
       "      <td>66</td>\n",
       "      <td>15</td>\n",
       "      <td>81</td>\n",
       "      <td>18.518519</td>\n",
       "    </tr>\n",
       "    <tr>\n",
       "      <th>'United Kingdom'</th>\n",
       "      <td>48</td>\n",
       "      <td>29</td>\n",
       "      <td>77</td>\n",
       "      <td>37.662338</td>\n",
       "    </tr>\n",
       "    <tr>\n",
       "      <th>Australia</th>\n",
       "      <td>15</td>\n",
       "      <td>12</td>\n",
       "      <td>27</td>\n",
       "      <td>44.444444</td>\n",
       "    </tr>\n",
       "    <tr>\n",
       "      <th>France</th>\n",
       "      <td>6</td>\n",
       "      <td>5</td>\n",
       "      <td>11</td>\n",
       "      <td>45.454545</td>\n",
       "    </tr>\n",
       "    <tr>\n",
       "      <th>'United States'</th>\n",
       "      <td>60</td>\n",
       "      <td>53</td>\n",
       "      <td>113</td>\n",
       "      <td>46.902655</td>\n",
       "    </tr>\n",
       "    <tr>\n",
       "      <th>Canada</th>\n",
       "      <td>5</td>\n",
       "      <td>10</td>\n",
       "      <td>15</td>\n",
       "      <td>66.666667</td>\n",
       "    </tr>\n",
       "  </tbody>\n",
       "</table>\n",
       "</div>"
      ],
      "text/plain": [
       "ASD                     NO  YES  total       freq\n",
       "contry_of_res                                    \n",
       "'Sri Lanka'             14    0     14   0.000000\n",
       "'United Arab Emirates'  79    3     82   3.658537\n",
       "Jordan                  45    2     47   4.255319\n",
       "India                   75    6     81   7.407407\n",
       "Afghanistan             11    2     13  15.384615\n",
       "'New Zealand'           66   15     81  18.518519\n",
       "'United Kingdom'        48   29     77  37.662338\n",
       "Australia               15   12     27  44.444444\n",
       "France                   6    5     11  45.454545\n",
       "'United States'         60   53    113  46.902655\n",
       "Canada                   5   10     15  66.666667"
      ]
     },
     "execution_count": 52,
     "metadata": {},
     "output_type": "execute_result"
    }
   ],
   "source": [
    "cntry[\"total\"] = 0\n",
    "cntry[\"freq\"] = 0\n",
    "cntry[\"total\"] = cntry.agg(\"sum\", axis=1)\n",
    "cntry[\"freq\"]  = 100 *cntry[\"YES\"] / cntry[\"total\"]\n",
    "cntry[cntry[\"total\"]>10].sort_values(\"freq\")"
   ]
  },
  {
   "cell_type": "markdown",
   "id": "bcd63a4a-aa33-4567-b5af-ed3197929e29",
   "metadata": {},
   "source": [
    "Подтверждается минимум числа заболевших в странах Азии."
   ]
  },
  {
   "cell_type": "markdown",
   "id": "d799f2a0-c7d9-4a1a-85d3-a8775bde5a72",
   "metadata": {},
   "source": [
    "Введем дополнительное поле \"континент\". И распределим страны по континентам по *географическому* признаку. Отнесем при этом Россию к Европе, а Турцию к Азии."
   ]
  },
  {
   "cell_type": "code",
   "execution_count": 53,
   "id": "a26de6a4-33a4-4306-a74d-ccc7d483eb25",
   "metadata": {},
   "outputs": [
    {
     "data": {
      "text/plain": [
       "[\"'Costa Rica'\",\n",
       " \"'Czech Republic'\",\n",
       " \"'Hong Kong'\",\n",
       " \"'New Zealand'\",\n",
       " \"'Saudi Arabia'\",\n",
       " \"'Sierra Leone'\",\n",
       " \"'South Africa'\",\n",
       " \"'Sri Lanka'\",\n",
       " \"'United Arab Emirates'\",\n",
       " \"'United Kingdom'\",\n",
       " \"'United States'\",\n",
       " \"'Viet Nam'\",\n",
       " 'Afghanistan',\n",
       " 'AmericanSamoa',\n",
       " 'Angola',\n",
       " 'Argentina',\n",
       " 'Armenia',\n",
       " 'Aruba',\n",
       " 'Australia',\n",
       " 'Austria',\n",
       " 'Azerbaijan',\n",
       " 'Bahamas',\n",
       " 'Bangladesh',\n",
       " 'Belgium',\n",
       " 'Bolivia',\n",
       " 'Brazil',\n",
       " 'Burundi',\n",
       " 'Canada',\n",
       " 'Chile',\n",
       " 'China',\n",
       " 'Cyprus',\n",
       " 'Ecuador',\n",
       " 'Egypt',\n",
       " 'Ethiopia',\n",
       " 'Finland',\n",
       " 'France',\n",
       " 'Germany',\n",
       " 'Iceland',\n",
       " 'India',\n",
       " 'Indonesia',\n",
       " 'Iran',\n",
       " 'Iraq',\n",
       " 'Ireland',\n",
       " 'Italy',\n",
       " 'Japan',\n",
       " 'Jordan',\n",
       " 'Kazakhstan',\n",
       " 'Lebanon',\n",
       " 'Malaysia',\n",
       " 'Mexico',\n",
       " 'Nepal',\n",
       " 'Netherlands',\n",
       " 'Nicaragua',\n",
       " 'Niger',\n",
       " 'Oman',\n",
       " 'Pakistan',\n",
       " 'Philippines',\n",
       " 'Portugal',\n",
       " 'Romania',\n",
       " 'Russia',\n",
       " 'Serbia',\n",
       " 'Spain',\n",
       " 'Sweden',\n",
       " 'Tonga',\n",
       " 'Turkey',\n",
       " 'Ukraine',\n",
       " 'Uruguay']"
      ]
     },
     "execution_count": 53,
     "metadata": {},
     "output_type": "execute_result"
    }
   ],
   "source": [
    "sorted(data[\"contry_of_res\"].unique())"
   ]
  },
  {
   "cell_type": "code",
   "execution_count": 54,
   "id": "852742c8-1765-4801-bae6-37be2419a356",
   "metadata": {},
   "outputs": [
    {
     "name": "stdout",
     "output_type": "stream",
     "text": [
      "True\n"
     ]
    }
   ],
   "source": [
    "continent = {\n",
    "'EU':\n",
    "    [\"'Czech Republic'\",\n",
    "     \"'United Kingdom'\",\n",
    "     'Austria',\n",
    "     'Belgium',\n",
    "     'Finland',\n",
    "     'France',\n",
    "     'Germany',\n",
    "     'Iceland',\n",
    "     'Ireland',\n",
    "     'Italy',\n",
    "     'Netherlands',\n",
    "     'Portugal',\n",
    "     'Romania',\n",
    "     'Russia',\n",
    "     'Serbia',\n",
    "     'Spain',\n",
    "     'Sweden',\n",
    "     'Ukraine'\n",
    "    ],\n",
    "'AS':\n",
    "     [\"'Hong Kong'\",\n",
    "      \"'Saudi Arabia'\",\n",
    "      \"'Sri Lanka'\",\n",
    "      \"'United Arab Emirates'\",\n",
    "      \"'Viet Nam'\",\n",
    "      'Afghanistan',\n",
    "      'Armenia',\n",
    "      'Azerbaijan',\n",
    "      'Bangladesh',\n",
    "      'China',\n",
    "      'Cyprus',\n",
    "      'India',\n",
    "      'Indonesia',\n",
    "      'Iran',\n",
    "      'Iraq',\n",
    "      'Japan',\n",
    "      'Jordan',\n",
    "      'Kazakhstan',\n",
    "      'Lebanon',\n",
    "      'Malaysia',\n",
    "      'Nepal',\n",
    "      'Oman',\n",
    "      'Pakistan',\n",
    "      'Philippines',\n",
    "      'Turkey'\n",
    "     ],\n",
    "'AF':\n",
    "     [\"'Sierra Leone'\",\n",
    "      \"'South Africa'\",\n",
    "      'Angola',\n",
    "      'Burundi',\n",
    "      'Egypt',\n",
    "      'Ethiopia',\n",
    "      'Niger'\n",
    "     ],\n",
    "'AU':\n",
    "     [\"'New Zealand'\",\n",
    "      'AmericanSamoa',\n",
    "      'Australia',\n",
    "      'Tonga'\n",
    "     ],\n",
    "'NA':\n",
    "     [\"'Costa Rica'\",\n",
    "      \"'United States'\",\n",
    "      'Bahamas',\n",
    "      'Canada',\n",
    "      'Mexico',\n",
    "      'Nicaragua'\n",
    "     ],\n",
    "'SA':\n",
    "     ['Argentina',\n",
    "      'Aruba',\n",
    "      'Bolivia',\n",
    "      'Brazil',\n",
    "      'Chile',\n",
    "      'Ecuador',\n",
    "      'Uruguay'\n",
    "     ]\n",
    "}\n",
    "\n",
    "# Quick check if I skipped anything:\n",
    "n = 0\n",
    "for k, v in continent.items():\n",
    "    n += len(v)\n",
    "print(n == data[\"contry_of_res\"].nunique())"
   ]
  },
  {
   "cell_type": "code",
   "execution_count": 55,
   "id": "badbafb9-a2d8-4a1e-851a-c7a9096fe30d",
   "metadata": {},
   "outputs": [
    {
     "name": "stdout",
     "output_type": "stream",
     "text": [
      "SA\n",
      "None\n"
     ]
    }
   ],
   "source": [
    "def get_continent(cntry):\n",
    "    for key, value in continent.items():\n",
    "        if cntry in value:\n",
    "            return key\n",
    "\n",
    "#Tests:\n",
    "print(get_continent(\"Argentina\"))\n",
    "print(get_continent(\"Belarus\"))"
   ]
  },
  {
   "cell_type": "code",
   "execution_count": 56,
   "id": "d522e186-8761-417d-b2f7-2016e4f6ed9a",
   "metadata": {},
   "outputs": [],
   "source": [
    "data[\"continent\"] = None\n",
    "data[\"continent\"] = data.apply(lambda row: get_continent(row.contry_of_res), axis=1)"
   ]
  },
  {
   "cell_type": "code",
   "execution_count": 57,
   "id": "59af056d-5f35-428f-91f2-c042b5902a84",
   "metadata": {},
   "outputs": [
    {
     "data": {
      "text/html": [
       "<div>\n",
       "<style scoped>\n",
       "    .dataframe tbody tr th:only-of-type {\n",
       "        vertical-align: middle;\n",
       "    }\n",
       "\n",
       "    .dataframe tbody tr th {\n",
       "        vertical-align: top;\n",
       "    }\n",
       "\n",
       "    .dataframe thead th {\n",
       "        text-align: right;\n",
       "    }\n",
       "</style>\n",
       "<table border=\"1\" class=\"dataframe\">\n",
       "  <thead>\n",
       "    <tr style=\"text-align: right;\">\n",
       "      <th></th>\n",
       "      <th>contry_of_res</th>\n",
       "      <th>continent</th>\n",
       "    </tr>\n",
       "  </thead>\n",
       "  <tbody>\n",
       "    <tr>\n",
       "      <th>0</th>\n",
       "      <td>'United States'</td>\n",
       "      <td>NA</td>\n",
       "    </tr>\n",
       "    <tr>\n",
       "      <th>1</th>\n",
       "      <td>Brazil</td>\n",
       "      <td>SA</td>\n",
       "    </tr>\n",
       "    <tr>\n",
       "      <th>2</th>\n",
       "      <td>Spain</td>\n",
       "      <td>EU</td>\n",
       "    </tr>\n",
       "    <tr>\n",
       "      <th>3</th>\n",
       "      <td>'United States'</td>\n",
       "      <td>NA</td>\n",
       "    </tr>\n",
       "    <tr>\n",
       "      <th>4</th>\n",
       "      <td>Egypt</td>\n",
       "      <td>AF</td>\n",
       "    </tr>\n",
       "    <tr>\n",
       "      <th>5</th>\n",
       "      <td>'United States'</td>\n",
       "      <td>NA</td>\n",
       "    </tr>\n",
       "    <tr>\n",
       "      <th>6</th>\n",
       "      <td>'United States'</td>\n",
       "      <td>NA</td>\n",
       "    </tr>\n",
       "    <tr>\n",
       "      <th>7</th>\n",
       "      <td>'New Zealand'</td>\n",
       "      <td>AU</td>\n",
       "    </tr>\n",
       "    <tr>\n",
       "      <th>8</th>\n",
       "      <td>'United States'</td>\n",
       "      <td>NA</td>\n",
       "    </tr>\n",
       "    <tr>\n",
       "      <th>9</th>\n",
       "      <td>Bahamas</td>\n",
       "      <td>NA</td>\n",
       "    </tr>\n",
       "    <tr>\n",
       "      <th>10</th>\n",
       "      <td>'United States'</td>\n",
       "      <td>NA</td>\n",
       "    </tr>\n",
       "    <tr>\n",
       "      <th>11</th>\n",
       "      <td>Burundi</td>\n",
       "      <td>AF</td>\n",
       "    </tr>\n",
       "    <tr>\n",
       "      <th>12</th>\n",
       "      <td>Bahamas</td>\n",
       "      <td>NA</td>\n",
       "    </tr>\n",
       "    <tr>\n",
       "      <th>13</th>\n",
       "      <td>Austria</td>\n",
       "      <td>EU</td>\n",
       "    </tr>\n",
       "    <tr>\n",
       "      <th>14</th>\n",
       "      <td>Argentina</td>\n",
       "      <td>SA</td>\n",
       "    </tr>\n",
       "  </tbody>\n",
       "</table>\n",
       "</div>"
      ],
      "text/plain": [
       "      contry_of_res continent\n",
       "0   'United States'        NA\n",
       "1            Brazil        SA\n",
       "2             Spain        EU\n",
       "3   'United States'        NA\n",
       "4             Egypt        AF\n",
       "5   'United States'        NA\n",
       "6   'United States'        NA\n",
       "7     'New Zealand'        AU\n",
       "8   'United States'        NA\n",
       "9           Bahamas        NA\n",
       "10  'United States'        NA\n",
       "11          Burundi        AF\n",
       "12          Bahamas        NA\n",
       "13          Austria        EU\n",
       "14        Argentina        SA"
      ]
     },
     "execution_count": 57,
     "metadata": {},
     "output_type": "execute_result"
    }
   ],
   "source": [
    "data.loc[:,[\"contry_of_res\", \"continent\"]].head(15)"
   ]
  },
  {
   "cell_type": "code",
   "execution_count": 58,
   "id": "d20365d2-676d-49bc-87c7-5c627aa910ef",
   "metadata": {},
   "outputs": [
    {
     "data": {
      "text/plain": [
       "False"
      ]
     },
     "execution_count": 58,
     "metadata": {},
     "output_type": "execute_result"
    }
   ],
   "source": [
    "data.continent.isnull().any()"
   ]
  },
  {
   "cell_type": "code",
   "execution_count": 59,
   "id": "cc788765-f8e4-4693-aff3-42af5679154c",
   "metadata": {},
   "outputs": [
    {
     "data": {
      "text/html": [
       "<div>\n",
       "<style scoped>\n",
       "    .dataframe tbody tr th:only-of-type {\n",
       "        vertical-align: middle;\n",
       "    }\n",
       "\n",
       "    .dataframe tbody tr th {\n",
       "        vertical-align: top;\n",
       "    }\n",
       "\n",
       "    .dataframe thead th {\n",
       "        text-align: right;\n",
       "    }\n",
       "</style>\n",
       "<table border=\"1\" class=\"dataframe\">\n",
       "  <thead>\n",
       "    <tr style=\"text-align: right;\">\n",
       "      <th>ASD</th>\n",
       "      <th>NO</th>\n",
       "      <th>YES</th>\n",
       "    </tr>\n",
       "    <tr>\n",
       "      <th>continent</th>\n",
       "      <th></th>\n",
       "      <th></th>\n",
       "    </tr>\n",
       "  </thead>\n",
       "  <tbody>\n",
       "    <tr>\n",
       "      <th>AF</th>\n",
       "      <td>8</td>\n",
       "      <td>3</td>\n",
       "    </tr>\n",
       "    <tr>\n",
       "      <th>AS</th>\n",
       "      <td>260</td>\n",
       "      <td>24</td>\n",
       "    </tr>\n",
       "    <tr>\n",
       "      <th>AU</th>\n",
       "      <td>83</td>\n",
       "      <td>28</td>\n",
       "    </tr>\n",
       "    <tr>\n",
       "      <th>EU</th>\n",
       "      <td>83</td>\n",
       "      <td>59</td>\n",
       "    </tr>\n",
       "    <tr>\n",
       "      <th>NA</th>\n",
       "      <td>72</td>\n",
       "      <td>68</td>\n",
       "    </tr>\n",
       "    <tr>\n",
       "      <th>SA</th>\n",
       "      <td>9</td>\n",
       "      <td>7</td>\n",
       "    </tr>\n",
       "  </tbody>\n",
       "</table>\n",
       "</div>"
      ],
      "text/plain": [
       "ASD         NO  YES\n",
       "continent          \n",
       "AF           8    3\n",
       "AS         260   24\n",
       "AU          83   28\n",
       "EU          83   59\n",
       "NA          72   68\n",
       "SA           9    7"
      ]
     },
     "execution_count": 59,
     "metadata": {},
     "output_type": "execute_result"
    }
   ],
   "source": [
    "pd.crosstab(data.continent, data.ASD)"
   ]
  },
  {
   "cell_type": "code",
   "execution_count": 60,
   "id": "2f2127f0-a0fc-46ab-a726-7bba10d745fe",
   "metadata": {},
   "outputs": [
    {
     "data": {
      "text/plain": [
       "Text(0, 0.5, 'Count')"
      ]
     },
     "execution_count": 60,
     "metadata": {},
     "output_type": "execute_result"
    },
    {
     "data": {
      "image/png": "[encoded data removed]",
      "text/plain": [
       "<Figure size 432x288 with 1 Axes>"
      ]
     },
     "metadata": {
      "needs_background": "light"
     },
     "output_type": "display_data"
    }
   ],
   "source": [
    "pd.crosstab(data[\"continent\"], data[\"ASD\"]).plot(kind='bar', stacked=True, rot=0)\n",
    "plt.xlabel(\"Continent\")\n",
    "plt.ylabel(\"Count\")"
   ]
  },
  {
   "cell_type": "markdown",
   "id": "ba7bce4c-8de5-4520-8fb4-4795f6ad6aea",
   "metadata": {},
   "source": [
    "В Европе и Северной Америке распределение близко к 50 на 50, а в Азии число аутистов меньше 10%. По Африке и Южная Америке недостаточно данных для достоверных выводов. А вот результат по Австралии существенно отличается, если сравнить цифры по континенту и стране. Как вариант можно попробовать разбить континент Австралию на 2 : Австралию и Океанию, но я на этой сейчас время тратить не хочу.\n",
    "\n",
    "Вывод: заменим **contry_of_res** на категориальный признак **continent**. Также уберем из данных связанную со страной этническую принадлежность **ethnicity**."
   ]
  },
  {
   "cell_type": "markdown",
   "id": "50f3784b-e74c-4952-98fd-acce1481a6d4",
   "metadata": {
    "tags": []
   },
   "source": [
    "## Желтушка"
   ]
  },
  {
   "cell_type": "code",
   "execution_count": 61,
   "id": "214f23ec-814c-494c-9646-ed5b6e8d0b2a",
   "metadata": {},
   "outputs": [
    {
     "data": {
      "text/plain": [
       "jaundice  ASD\n",
       "no        NO     474\n",
       "          YES    161\n",
       "yes       NO      41\n",
       "          YES     28\n",
       "Name: ASD, dtype: int64"
      ]
     },
     "execution_count": 61,
     "metadata": {},
     "output_type": "execute_result"
    }
   ],
   "source": [
    "data.groupby(\"jaundice\")[\"ASD\"].value_counts()"
   ]
  },
  {
   "cell_type": "markdown",
   "id": "ad86d975-68ca-4fdd-9007-9a153f144d7f",
   "metadata": {},
   "source": [
    "На первый взгляд желтушка новорожденных увеличивает вероятность возникновения аутизма. Но данных, кажется, не достаточно много, чобы говорить об этом с уверенностью."
   ]
  },
  {
   "cell_type": "code",
   "execution_count": 62,
   "id": "75f1eb2c-c068-42ae-8fc1-ad9344888dd1",
   "metadata": {
    "tags": []
   },
   "outputs": [
    {
     "data": {
      "text/html": [
       "<div>\n",
       "<style scoped>\n",
       "    .dataframe tbody tr th:only-of-type {\n",
       "        vertical-align: middle;\n",
       "    }\n",
       "\n",
       "    .dataframe tbody tr th {\n",
       "        vertical-align: top;\n",
       "    }\n",
       "\n",
       "    .dataframe thead th {\n",
       "        text-align: right;\n",
       "    }\n",
       "</style>\n",
       "<table border=\"1\" class=\"dataframe\">\n",
       "  <thead>\n",
       "    <tr style=\"text-align: right;\">\n",
       "      <th>gender</th>\n",
       "      <th>f</th>\n",
       "      <th>m</th>\n",
       "    </tr>\n",
       "    <tr>\n",
       "      <th>jaundice</th>\n",
       "      <th></th>\n",
       "      <th></th>\n",
       "    </tr>\n",
       "  </thead>\n",
       "  <tbody>\n",
       "    <tr>\n",
       "      <th>no</th>\n",
       "      <td>302</td>\n",
       "      <td>333</td>\n",
       "    </tr>\n",
       "    <tr>\n",
       "      <th>yes</th>\n",
       "      <td>35</td>\n",
       "      <td>34</td>\n",
       "    </tr>\n",
       "  </tbody>\n",
       "</table>\n",
       "</div>"
      ],
      "text/plain": [
       "gender      f    m\n",
       "jaundice          \n",
       "no        302  333\n",
       "yes        35   34"
      ]
     },
     "execution_count": 62,
     "metadata": {},
     "output_type": "execute_result"
    }
   ],
   "source": [
    "pd.crosstab(data[\"jaundice\"], data[\"gender\"])"
   ]
  },
  {
   "cell_type": "markdown",
   "id": "b59c0b92-fd6f-43ce-a0db-2b5b58a319eb",
   "metadata": {},
   "source": [
    "**_Вывод:_** \n",
    "Желтушкой болеют независимо от пола."
   ]
  },
  {
   "cell_type": "code",
   "execution_count": 63,
   "id": "02f196aa-8bea-4082-a8c9-70723d1d8395",
   "metadata": {},
   "outputs": [
    {
     "data": {
      "text/html": [
       "<div>\n",
       "<style scoped>\n",
       "    .dataframe tbody tr th:only-of-type {\n",
       "        vertical-align: middle;\n",
       "    }\n",
       "\n",
       "    .dataframe tbody tr th {\n",
       "        vertical-align: top;\n",
       "    }\n",
       "\n",
       "    .dataframe thead th {\n",
       "        text-align: right;\n",
       "    }\n",
       "</style>\n",
       "<table border=\"1\" class=\"dataframe\">\n",
       "  <thead>\n",
       "    <tr style=\"text-align: right;\">\n",
       "      <th>jaundice</th>\n",
       "      <th>no</th>\n",
       "      <th>yes</th>\n",
       "    </tr>\n",
       "    <tr>\n",
       "      <th>age</th>\n",
       "      <th></th>\n",
       "      <th></th>\n",
       "    </tr>\n",
       "  </thead>\n",
       "  <tbody>\n",
       "    <tr>\n",
       "      <th>17</th>\n",
       "      <td>15</td>\n",
       "      <td>3</td>\n",
       "    </tr>\n",
       "    <tr>\n",
       "      <th>18</th>\n",
       "      <td>28</td>\n",
       "      <td>3</td>\n",
       "    </tr>\n",
       "    <tr>\n",
       "      <th>19</th>\n",
       "      <td>31</td>\n",
       "      <td>4</td>\n",
       "    </tr>\n",
       "    <tr>\n",
       "      <th>20</th>\n",
       "      <td>44</td>\n",
       "      <td>2</td>\n",
       "    </tr>\n",
       "    <tr>\n",
       "      <th>21</th>\n",
       "      <td>46</td>\n",
       "      <td>3</td>\n",
       "    </tr>\n",
       "    <tr>\n",
       "      <th>22</th>\n",
       "      <td>36</td>\n",
       "      <td>1</td>\n",
       "    </tr>\n",
       "    <tr>\n",
       "      <th>23</th>\n",
       "      <td>37</td>\n",
       "      <td>0</td>\n",
       "    </tr>\n",
       "    <tr>\n",
       "      <th>24</th>\n",
       "      <td>32</td>\n",
       "      <td>2</td>\n",
       "    </tr>\n",
       "    <tr>\n",
       "      <th>25</th>\n",
       "      <td>26</td>\n",
       "      <td>1</td>\n",
       "    </tr>\n",
       "    <tr>\n",
       "      <th>26</th>\n",
       "      <td>27</td>\n",
       "      <td>1</td>\n",
       "    </tr>\n",
       "    <tr>\n",
       "      <th>27</th>\n",
       "      <td>26</td>\n",
       "      <td>5</td>\n",
       "    </tr>\n",
       "    <tr>\n",
       "      <th>28</th>\n",
       "      <td>23</td>\n",
       "      <td>1</td>\n",
       "    </tr>\n",
       "    <tr>\n",
       "      <th>29</th>\n",
       "      <td>26</td>\n",
       "      <td>1</td>\n",
       "    </tr>\n",
       "    <tr>\n",
       "      <th>30</th>\n",
       "      <td>27</td>\n",
       "      <td>3</td>\n",
       "    </tr>\n",
       "    <tr>\n",
       "      <th>31</th>\n",
       "      <td>19</td>\n",
       "      <td>2</td>\n",
       "    </tr>\n",
       "    <tr>\n",
       "      <th>32</th>\n",
       "      <td>16</td>\n",
       "      <td>2</td>\n",
       "    </tr>\n",
       "    <tr>\n",
       "      <th>33</th>\n",
       "      <td>14</td>\n",
       "      <td>2</td>\n",
       "    </tr>\n",
       "    <tr>\n",
       "      <th>34</th>\n",
       "      <td>11</td>\n",
       "      <td>1</td>\n",
       "    </tr>\n",
       "    <tr>\n",
       "      <th>35</th>\n",
       "      <td>12</td>\n",
       "      <td>5</td>\n",
       "    </tr>\n",
       "    <tr>\n",
       "      <th>36</th>\n",
       "      <td>10</td>\n",
       "      <td>3</td>\n",
       "    </tr>\n",
       "    <tr>\n",
       "      <th>37</th>\n",
       "      <td>16</td>\n",
       "      <td>1</td>\n",
       "    </tr>\n",
       "    <tr>\n",
       "      <th>38</th>\n",
       "      <td>12</td>\n",
       "      <td>0</td>\n",
       "    </tr>\n",
       "    <tr>\n",
       "      <th>383</th>\n",
       "      <td>1</td>\n",
       "      <td>0</td>\n",
       "    </tr>\n",
       "    <tr>\n",
       "      <th>39</th>\n",
       "      <td>7</td>\n",
       "      <td>0</td>\n",
       "    </tr>\n",
       "    <tr>\n",
       "      <th>40</th>\n",
       "      <td>9</td>\n",
       "      <td>7</td>\n",
       "    </tr>\n",
       "    <tr>\n",
       "      <th>41</th>\n",
       "      <td>2</td>\n",
       "      <td>1</td>\n",
       "    </tr>\n",
       "    <tr>\n",
       "      <th>42</th>\n",
       "      <td>12</td>\n",
       "      <td>3</td>\n",
       "    </tr>\n",
       "    <tr>\n",
       "      <th>43</th>\n",
       "      <td>10</td>\n",
       "      <td>1</td>\n",
       "    </tr>\n",
       "    <tr>\n",
       "      <th>44</th>\n",
       "      <td>10</td>\n",
       "      <td>0</td>\n",
       "    </tr>\n",
       "    <tr>\n",
       "      <th>45</th>\n",
       "      <td>3</td>\n",
       "      <td>1</td>\n",
       "    </tr>\n",
       "    <tr>\n",
       "      <th>46</th>\n",
       "      <td>4</td>\n",
       "      <td>2</td>\n",
       "    </tr>\n",
       "    <tr>\n",
       "      <th>47</th>\n",
       "      <td>6</td>\n",
       "      <td>2</td>\n",
       "    </tr>\n",
       "    <tr>\n",
       "      <th>48</th>\n",
       "      <td>4</td>\n",
       "      <td>0</td>\n",
       "    </tr>\n",
       "    <tr>\n",
       "      <th>49</th>\n",
       "      <td>2</td>\n",
       "      <td>1</td>\n",
       "    </tr>\n",
       "    <tr>\n",
       "      <th>50</th>\n",
       "      <td>4</td>\n",
       "      <td>1</td>\n",
       "    </tr>\n",
       "    <tr>\n",
       "      <th>51</th>\n",
       "      <td>0</td>\n",
       "      <td>1</td>\n",
       "    </tr>\n",
       "    <tr>\n",
       "      <th>52</th>\n",
       "      <td>4</td>\n",
       "      <td>1</td>\n",
       "    </tr>\n",
       "    <tr>\n",
       "      <th>53</th>\n",
       "      <td>6</td>\n",
       "      <td>0</td>\n",
       "    </tr>\n",
       "    <tr>\n",
       "      <th>54</th>\n",
       "      <td>2</td>\n",
       "      <td>0</td>\n",
       "    </tr>\n",
       "    <tr>\n",
       "      <th>55</th>\n",
       "      <td>6</td>\n",
       "      <td>0</td>\n",
       "    </tr>\n",
       "    <tr>\n",
       "      <th>56</th>\n",
       "      <td>1</td>\n",
       "      <td>1</td>\n",
       "    </tr>\n",
       "    <tr>\n",
       "      <th>58</th>\n",
       "      <td>2</td>\n",
       "      <td>0</td>\n",
       "    </tr>\n",
       "    <tr>\n",
       "      <th>59</th>\n",
       "      <td>1</td>\n",
       "      <td>0</td>\n",
       "    </tr>\n",
       "    <tr>\n",
       "      <th>60</th>\n",
       "      <td>1</td>\n",
       "      <td>0</td>\n",
       "    </tr>\n",
       "    <tr>\n",
       "      <th>61</th>\n",
       "      <td>1</td>\n",
       "      <td>1</td>\n",
       "    </tr>\n",
       "    <tr>\n",
       "      <th>64</th>\n",
       "      <td>1</td>\n",
       "      <td>0</td>\n",
       "    </tr>\n",
       "    <tr>\n",
       "      <th>?</th>\n",
       "      <td>2</td>\n",
       "      <td>0</td>\n",
       "    </tr>\n",
       "  </tbody>\n",
       "</table>\n",
       "</div>"
      ],
      "text/plain": [
       "jaundice  no  yes\n",
       "age              \n",
       "17        15    3\n",
       "18        28    3\n",
       "19        31    4\n",
       "20        44    2\n",
       "21        46    3\n",
       "22        36    1\n",
       "23        37    0\n",
       "24        32    2\n",
       "25        26    1\n",
       "26        27    1\n",
       "27        26    5\n",
       "28        23    1\n",
       "29        26    1\n",
       "30        27    3\n",
       "31        19    2\n",
       "32        16    2\n",
       "33        14    2\n",
       "34        11    1\n",
       "35        12    5\n",
       "36        10    3\n",
       "37        16    1\n",
       "38        12    0\n",
       "383        1    0\n",
       "39         7    0\n",
       "40         9    7\n",
       "41         2    1\n",
       "42        12    3\n",
       "43        10    1\n",
       "44        10    0\n",
       "45         3    1\n",
       "46         4    2\n",
       "47         6    2\n",
       "48         4    0\n",
       "49         2    1\n",
       "50         4    1\n",
       "51         0    1\n",
       "52         4    1\n",
       "53         6    0\n",
       "54         2    0\n",
       "55         6    0\n",
       "56         1    1\n",
       "58         2    0\n",
       "59         1    0\n",
       "60         1    0\n",
       "61         1    1\n",
       "64         1    0\n",
       "?          2    0"
      ]
     },
     "execution_count": 63,
     "metadata": {},
     "output_type": "execute_result"
    }
   ],
   "source": [
    "pd.crosstab(data[\"jaundice\"], data[\"age\"]).T"
   ]
  },
  {
   "cell_type": "code",
   "execution_count": 64,
   "id": "5c606f10-2a2c-4148-a058-1305eeeca7a8",
   "metadata": {},
   "outputs": [
    {
     "data": {
      "text/html": [
       "<div>\n",
       "<style scoped>\n",
       "    .dataframe tbody tr th:only-of-type {\n",
       "        vertical-align: middle;\n",
       "    }\n",
       "\n",
       "    .dataframe tbody tr th {\n",
       "        vertical-align: top;\n",
       "    }\n",
       "\n",
       "    .dataframe thead th {\n",
       "        text-align: right;\n",
       "    }\n",
       "</style>\n",
       "<table border=\"1\" class=\"dataframe\">\n",
       "  <thead>\n",
       "    <tr style=\"text-align: right;\">\n",
       "      <th>relation</th>\n",
       "      <th>'Health care professional'</th>\n",
       "      <th>?</th>\n",
       "      <th>Others</th>\n",
       "      <th>Parent</th>\n",
       "      <th>Relative</th>\n",
       "      <th>Self</th>\n",
       "    </tr>\n",
       "    <tr>\n",
       "      <th>jaundice</th>\n",
       "      <th></th>\n",
       "      <th></th>\n",
       "      <th></th>\n",
       "      <th></th>\n",
       "      <th></th>\n",
       "      <th></th>\n",
       "    </tr>\n",
       "  </thead>\n",
       "  <tbody>\n",
       "    <tr>\n",
       "      <th>no</th>\n",
       "      <td>3</td>\n",
       "      <td>85</td>\n",
       "      <td>5</td>\n",
       "      <td>40</td>\n",
       "      <td>23</td>\n",
       "      <td>479</td>\n",
       "    </tr>\n",
       "    <tr>\n",
       "      <th>yes</th>\n",
       "      <td>1</td>\n",
       "      <td>10</td>\n",
       "      <td>0</td>\n",
       "      <td>10</td>\n",
       "      <td>5</td>\n",
       "      <td>43</td>\n",
       "    </tr>\n",
       "  </tbody>\n",
       "</table>\n",
       "</div>"
      ],
      "text/plain": [
       "relation  'Health care professional'   ?  Others  Parent  Relative  Self\n",
       "jaundice                                                                \n",
       "no                                 3  85       5      40        23   479\n",
       "yes                                1  10       0      10         5    43"
      ]
     },
     "execution_count": 64,
     "metadata": {},
     "output_type": "execute_result"
    }
   ],
   "source": [
    "pd.crosstab(data[\"jaundice\"], data[\"relation\"])"
   ]
  },
  {
   "cell_type": "markdown",
   "id": "1df61375-d5d7-4ad0-89c0-c986225c621c",
   "metadata": {},
   "source": [
    "Среди анкет, заполненных родственниками, а особенно родителями, процент болевших желтушкой выше, что логично. Можно предположить, что люди, заполнявшие анкеты сами, не знают, была ли у них желтушка новорожденных. Тогда не стоит достоверно полагаться на это поле."
   ]
  },
  {
   "cell_type": "markdown",
   "id": "a0f46058-c330-4845-b9b3-70355b897b8e",
   "metadata": {
    "tags": []
   },
   "source": [
    "## Влияние аутизма у близких родственников"
   ]
  },
  {
   "cell_type": "code",
   "execution_count": 65,
   "id": "5e03fb34-18d5-4767-84b4-ee48395b05a9",
   "metadata": {
    "tags": []
   },
   "outputs": [
    {
     "data": {
      "text/plain": [
       "autism  ASD\n",
       "no      NO     467\n",
       "        YES    146\n",
       "yes     NO      48\n",
       "        YES     43\n",
       "Name: ASD, dtype: int64"
      ]
     },
     "execution_count": 65,
     "metadata": {},
     "output_type": "execute_result"
    }
   ],
   "source": [
    "data.groupby(\"autism\")[\"ASD\"].value_counts()"
   ]
  },
  {
   "cell_type": "markdown",
   "id": "5108348f-a8ee-4b6d-8963-86c4181e34d4",
   "metadata": {},
   "source": [
    "Похоже, что наличие больных родственников почти в 2 раза увеличивает вероятность заболевания.\n",
    "\n",
    "Можно ли утверждать, что оно обусловлено генетически?\n",
    "Есть ли  да, то существует ли зависимость от пола? У кого скорее проявится этот ген?\n",
    "\n",
    "Чтобы понять это воспользуемся factorplot, но для этого нам придется временно заменить целевую переменную числом."
   ]
  },
  {
   "cell_type": "code",
   "execution_count": 66,
   "id": "e1bce5e1-2182-4fa2-b7fc-373d645131ea",
   "metadata": {},
   "outputs": [],
   "source": [
    "data[\"asd\"] = 0\n",
    "data.loc[data[\"ASD\"]==\"YES\", \"asd\"] = 1 #int(data[\"ASD\"] == \"YES\" )"
   ]
  },
  {
   "cell_type": "code",
   "execution_count": 67,
   "id": "fe92347e-3d77-4124-be36-46b7de7a8877",
   "metadata": {},
   "outputs": [
    {
     "data": {
      "text/html": [
       "<div>\n",
       "<style scoped>\n",
       "    .dataframe tbody tr th:only-of-type {\n",
       "        vertical-align: middle;\n",
       "    }\n",
       "\n",
       "    .dataframe tbody tr th {\n",
       "        vertical-align: top;\n",
       "    }\n",
       "\n",
       "    .dataframe thead th {\n",
       "        text-align: right;\n",
       "    }\n",
       "</style>\n",
       "<table border=\"1\" class=\"dataframe\">\n",
       "  <thead>\n",
       "    <tr style=\"text-align: right;\">\n",
       "      <th></th>\n",
       "      <th>0</th>\n",
       "      <th>1</th>\n",
       "      <th>2</th>\n",
       "      <th>3</th>\n",
       "      <th>4</th>\n",
       "    </tr>\n",
       "  </thead>\n",
       "  <tbody>\n",
       "    <tr>\n",
       "      <th>A1_Score</th>\n",
       "      <td>1</td>\n",
       "      <td>1</td>\n",
       "      <td>1</td>\n",
       "      <td>1</td>\n",
       "      <td>1</td>\n",
       "    </tr>\n",
       "    <tr>\n",
       "      <th>A2_Score</th>\n",
       "      <td>1</td>\n",
       "      <td>1</td>\n",
       "      <td>1</td>\n",
       "      <td>1</td>\n",
       "      <td>0</td>\n",
       "    </tr>\n",
       "    <tr>\n",
       "      <th>A3_Score</th>\n",
       "      <td>1</td>\n",
       "      <td>0</td>\n",
       "      <td>0</td>\n",
       "      <td>0</td>\n",
       "      <td>0</td>\n",
       "    </tr>\n",
       "    <tr>\n",
       "      <th>A4_Score</th>\n",
       "      <td>1</td>\n",
       "      <td>1</td>\n",
       "      <td>1</td>\n",
       "      <td>1</td>\n",
       "      <td>0</td>\n",
       "    </tr>\n",
       "    <tr>\n",
       "      <th>A5_Score</th>\n",
       "      <td>0</td>\n",
       "      <td>0</td>\n",
       "      <td>1</td>\n",
       "      <td>0</td>\n",
       "      <td>0</td>\n",
       "    </tr>\n",
       "    <tr>\n",
       "      <th>A6_Score</th>\n",
       "      <td>0</td>\n",
       "      <td>0</td>\n",
       "      <td>0</td>\n",
       "      <td>0</td>\n",
       "      <td>0</td>\n",
       "    </tr>\n",
       "    <tr>\n",
       "      <th>A7_Score</th>\n",
       "      <td>1</td>\n",
       "      <td>0</td>\n",
       "      <td>1</td>\n",
       "      <td>1</td>\n",
       "      <td>0</td>\n",
       "    </tr>\n",
       "    <tr>\n",
       "      <th>A8_Score</th>\n",
       "      <td>1</td>\n",
       "      <td>1</td>\n",
       "      <td>1</td>\n",
       "      <td>1</td>\n",
       "      <td>1</td>\n",
       "    </tr>\n",
       "    <tr>\n",
       "      <th>A9_Score</th>\n",
       "      <td>0</td>\n",
       "      <td>0</td>\n",
       "      <td>1</td>\n",
       "      <td>0</td>\n",
       "      <td>0</td>\n",
       "    </tr>\n",
       "    <tr>\n",
       "      <th>A10_Score</th>\n",
       "      <td>0</td>\n",
       "      <td>1</td>\n",
       "      <td>1</td>\n",
       "      <td>1</td>\n",
       "      <td>0</td>\n",
       "    </tr>\n",
       "    <tr>\n",
       "      <th>age</th>\n",
       "      <td>26</td>\n",
       "      <td>24</td>\n",
       "      <td>27</td>\n",
       "      <td>35</td>\n",
       "      <td>40</td>\n",
       "    </tr>\n",
       "    <tr>\n",
       "      <th>gender</th>\n",
       "      <td>f</td>\n",
       "      <td>m</td>\n",
       "      <td>m</td>\n",
       "      <td>f</td>\n",
       "      <td>f</td>\n",
       "    </tr>\n",
       "    <tr>\n",
       "      <th>ethnicity</th>\n",
       "      <td>White-European</td>\n",
       "      <td>Latino</td>\n",
       "      <td>Latino</td>\n",
       "      <td>White-European</td>\n",
       "      <td>'Middle Eastern '</td>\n",
       "    </tr>\n",
       "    <tr>\n",
       "      <th>jaundice</th>\n",
       "      <td>no</td>\n",
       "      <td>no</td>\n",
       "      <td>yes</td>\n",
       "      <td>no</td>\n",
       "      <td>no</td>\n",
       "    </tr>\n",
       "    <tr>\n",
       "      <th>autism</th>\n",
       "      <td>no</td>\n",
       "      <td>yes</td>\n",
       "      <td>yes</td>\n",
       "      <td>yes</td>\n",
       "      <td>no</td>\n",
       "    </tr>\n",
       "    <tr>\n",
       "      <th>contry_of_res</th>\n",
       "      <td>'United States'</td>\n",
       "      <td>Brazil</td>\n",
       "      <td>Spain</td>\n",
       "      <td>'United States'</td>\n",
       "      <td>Egypt</td>\n",
       "    </tr>\n",
       "    <tr>\n",
       "      <th>used_app_before</th>\n",
       "      <td>no</td>\n",
       "      <td>no</td>\n",
       "      <td>no</td>\n",
       "      <td>no</td>\n",
       "      <td>no</td>\n",
       "    </tr>\n",
       "    <tr>\n",
       "      <th>result</th>\n",
       "      <td>6</td>\n",
       "      <td>5</td>\n",
       "      <td>8</td>\n",
       "      <td>6</td>\n",
       "      <td>2</td>\n",
       "    </tr>\n",
       "    <tr>\n",
       "      <th>age_desc</th>\n",
       "      <td>'18 and more'</td>\n",
       "      <td>'18 and more'</td>\n",
       "      <td>'18 and more'</td>\n",
       "      <td>'18 and more'</td>\n",
       "      <td>'18 and more'</td>\n",
       "    </tr>\n",
       "    <tr>\n",
       "      <th>relation</th>\n",
       "      <td>Self</td>\n",
       "      <td>Self</td>\n",
       "      <td>Parent</td>\n",
       "      <td>Self</td>\n",
       "      <td>?</td>\n",
       "    </tr>\n",
       "    <tr>\n",
       "      <th>ASD</th>\n",
       "      <td>NO</td>\n",
       "      <td>NO</td>\n",
       "      <td>YES</td>\n",
       "      <td>NO</td>\n",
       "      <td>NO</td>\n",
       "    </tr>\n",
       "    <tr>\n",
       "      <th>continent</th>\n",
       "      <td>NA</td>\n",
       "      <td>SA</td>\n",
       "      <td>EU</td>\n",
       "      <td>NA</td>\n",
       "      <td>AF</td>\n",
       "    </tr>\n",
       "    <tr>\n",
       "      <th>asd</th>\n",
       "      <td>0</td>\n",
       "      <td>0</td>\n",
       "      <td>1</td>\n",
       "      <td>0</td>\n",
       "      <td>0</td>\n",
       "    </tr>\n",
       "  </tbody>\n",
       "</table>\n",
       "</div>"
      ],
      "text/plain": [
       "                               0              1              2  \\\n",
       "A1_Score                       1              1              1   \n",
       "A2_Score                       1              1              1   \n",
       "A3_Score                       1              0              0   \n",
       "A4_Score                       1              1              1   \n",
       "A5_Score                       0              0              1   \n",
       "A6_Score                       0              0              0   \n",
       "A7_Score                       1              0              1   \n",
       "A8_Score                       1              1              1   \n",
       "A9_Score                       0              0              1   \n",
       "A10_Score                      0              1              1   \n",
       "age                           26             24             27   \n",
       "gender                         f              m              m   \n",
       "ethnicity         White-European         Latino         Latino   \n",
       "jaundice                      no             no            yes   \n",
       "autism                        no            yes            yes   \n",
       "contry_of_res    'United States'         Brazil          Spain   \n",
       "used_app_before               no             no             no   \n",
       "result                         6              5              8   \n",
       "age_desc           '18 and more'  '18 and more'  '18 and more'   \n",
       "relation                    Self           Self         Parent   \n",
       "ASD                           NO             NO            YES   \n",
       "continent                     NA             SA             EU   \n",
       "asd                            0              0              1   \n",
       "\n",
       "                               3                  4  \n",
       "A1_Score                       1                  1  \n",
       "A2_Score                       1                  0  \n",
       "A3_Score                       0                  0  \n",
       "A4_Score                       1                  0  \n",
       "A5_Score                       0                  0  \n",
       "A6_Score                       0                  0  \n",
       "A7_Score                       1                  0  \n",
       "A8_Score                       1                  1  \n",
       "A9_Score                       0                  0  \n",
       "A10_Score                      1                  0  \n",
       "age                           35                 40  \n",
       "gender                         f                  f  \n",
       "ethnicity         White-European  'Middle Eastern '  \n",
       "jaundice                      no                 no  \n",
       "autism                       yes                 no  \n",
       "contry_of_res    'United States'              Egypt  \n",
       "used_app_before               no                 no  \n",
       "result                         6                  2  \n",
       "age_desc           '18 and more'      '18 and more'  \n",
       "relation                    Self                  ?  \n",
       "ASD                           NO                 NO  \n",
       "continent                     NA                 AF  \n",
       "asd                            0                  0  "
      ]
     },
     "execution_count": 67,
     "metadata": {},
     "output_type": "execute_result"
    }
   ],
   "source": [
    "data.head().T"
   ]
  },
  {
   "cell_type": "code",
   "execution_count": 68,
   "id": "d7580c09-09d4-4e89-a92b-851f6be5f499",
   "metadata": {},
   "outputs": [
    {
     "data": {
      "image/png": "[encoded data removed]",
      "text/plain": [
       "<Figure size 720x360 with 2 Axes>"
      ]
     },
     "metadata": {
      "needs_background": "light"
     },
     "output_type": "display_data"
    }
   ],
   "source": [
    "sns.factorplot(\"autism\", \"asd\", hue = \"autism\",col=\"gender\", data=data)\n",
    "plt.show()"
   ]
  },
  {
   "cell_type": "markdown",
   "id": "5c6eded6-30c7-4d9e-a6e3-bf01fad28f95",
   "metadata": {},
   "source": [
    "Как уже было замечено выше, женщины страдают аутизмом чуть чаще, но вряд ли это как-то связано с наличием больных родственников."
   ]
  },
  {
   "cell_type": "markdown",
   "id": "863a3080-7a0b-497c-b37d-5dcd66ee8ab8",
   "metadata": {
    "tags": []
   },
   "source": [
    "## Relation"
   ]
  },
  {
   "cell_type": "code",
   "execution_count": 69,
   "id": "3aa0dd52-5d41-49a7-a415-d9783505e056",
   "metadata": {},
   "outputs": [
    {
     "data": {
      "text/plain": [
       "Self                          522\n",
       "?                              95\n",
       "Parent                         50\n",
       "Relative                       28\n",
       "Others                          5\n",
       "'Health care professional'      4\n",
       "Name: relation, dtype: int64"
      ]
     },
     "execution_count": 69,
     "metadata": {},
     "output_type": "execute_result"
    }
   ],
   "source": [
    "data.relation.value_counts()"
   ]
  },
  {
   "cell_type": "code",
   "execution_count": 70,
   "id": "ac2d49b2-7e1e-4851-bd73-ad6c0d46bbc9",
   "metadata": {},
   "outputs": [],
   "source": [
    "data[\"asd\"] = 0\n",
    "data.loc[data[\"ASD\"]==\"YES\", \"asd\"] = 1 #int(data[\"ASD\"] == \"YES\" )"
   ]
  },
  {
   "cell_type": "code",
   "execution_count": 71,
   "id": "945fe2b0-4812-4620-b772-785f0a93efdd",
   "metadata": {},
   "outputs": [
    {
     "data": {
      "image/png": "[encoded data removed]",
      "text/plain": [
       "<Figure size 360x360 with 1 Axes>"
      ]
     },
     "metadata": {
      "needs_background": "light"
     },
     "output_type": "display_data"
    }
   ],
   "source": [
    "sns.factorplot('relation','asd',data=data)#,col='relation')#,hue=\"gender\"\n",
    "plt.show()"
   ]
  },
  {
   "cell_type": "markdown",
   "id": "41b8251c-3c17-44f2-8435-42ba68de21ff",
   "metadata": {},
   "source": [
    "Памятуя, что ethnicity и relation были заполнены ? одновременно, логично предположить, что такой человек заполняли тест не сами. Его родственники тоже смогли определить его этническую принадлежность. Поэтому будет считать записи с \"?\" аналогичными *\"Others\"*."
   ]
  },
  {
   "cell_type": "markdown",
   "id": "01d6b3d3-2b70-43a6-b50e-16d8c52f0c12",
   "metadata": {},
   "source": [
    "Попробуем уменьшить область значений признака **relation**: сам опрашиваемый заполнял тест или не сам. Сразу воспользуемся для этого бинарной переменной."
   ]
  },
  {
   "cell_type": "code",
   "execution_count": 72,
   "id": "29632d75-a07c-4c8b-a917-95bbdc5b561e",
   "metadata": {},
   "outputs": [],
   "source": [
    "data[\"rel\"] = 0\n",
    "data.loc[data[\"relation\"]==\"Self\", \"rel\"] = 1"
   ]
  },
  {
   "cell_type": "code",
   "execution_count": 73,
   "id": "1762b004-4846-47d8-8622-3613853629c9",
   "metadata": {},
   "outputs": [
    {
     "data": {
      "image/png": "[encoded data removed]",
      "text/plain": [
       "<Figure size 360x360 with 1 Axes>"
      ]
     },
     "metadata": {
      "needs_background": "light"
     },
     "output_type": "display_data"
    }
   ],
   "source": [
    "sns.factorplot('rel','asd',data=data, kind=\"point\")#,col='relation')#,hue=\"gender\"\n",
    "plt.show()"
   ]
  },
  {
   "cell_type": "markdown",
   "id": "45c6f2db-1082-4b9f-aa37-ede37fba3904",
   "metadata": {},
   "source": [
    "Видно, что если опрашиваемый сам заполнял тест, то результат теста чаще выдавал наличие аутизма. Возможно, что в этом случае ответы более объективны и достоверны. Тогда родственники заполнят опросник более качественно, чем неродственники. Попробуем объединить родителей и родственников в отдельное значение. Тогда наша бинарная переменная превратится в порядковую."
   ]
  },
  {
   "cell_type": "code",
   "execution_count": 74,
   "id": "d7f35776-6055-4997-9384-bee776d7185f",
   "metadata": {},
   "outputs": [],
   "source": [
    "data.loc[(data[\"relation\"]==\"Parent\") |(data[\"relation\"]==\"Relative\"), \"rel\"]=2"
   ]
  },
  {
   "cell_type": "code",
   "execution_count": 75,
   "id": "232e95c1-1f45-4586-8867-88ffab8bf645",
   "metadata": {},
   "outputs": [
    {
     "data": {
      "image/png": "[encoded data removed]",
      "text/plain": [
       "<Figure size 360x360 with 1 Axes>"
      ]
     },
     "metadata": {
      "needs_background": "light"
     },
     "output_type": "display_data"
    }
   ],
   "source": [
    "sns.factorplot('rel','asd',data=data)#,col='relation')#,hue=\"gender\"\n",
    "plt.show()"
   ]
  },
  {
   "cell_type": "markdown",
   "id": "977501de-d308-437a-af81-49ac1dd46aa5",
   "metadata": {},
   "source": [
    "Предположение оправдалось. Тогда сократим признак relation до 3 значений: Self, Relative и  Others:"
   ]
  },
  {
   "cell_type": "code",
   "execution_count": 76,
   "id": "db44228f-8e35-400c-ac35-8e6a8039e85f",
   "metadata": {},
   "outputs": [],
   "source": [
    "data.loc[(data[\"relation\"]==\"Parent\"), \"relation\"] = \"Relative\"\n",
    "data.loc[(data[\"relation\"]==\"?\") |(data[\"relation\"]==\"'Health care professional'\"), \"relation\"] = \"Others\""
   ]
  },
  {
   "cell_type": "code",
   "execution_count": 77,
   "id": "aefa94ce-0052-4d43-a6bf-08766f65c95d",
   "metadata": {},
   "outputs": [
    {
     "data": {
      "text/plain": [
       "Self        522\n",
       "Others      104\n",
       "Relative     78\n",
       "Name: relation, dtype: int64"
      ]
     },
     "execution_count": 77,
     "metadata": {},
     "output_type": "execute_result"
    }
   ],
   "source": [
    "data.relation.value_counts()"
   ]
  },
  {
   "cell_type": "code",
   "execution_count": 78,
   "id": "d61b6261-31be-475d-b25a-de8f3b151a35",
   "metadata": {},
   "outputs": [
    {
     "data": {
      "text/plain": [
       "age  gender\n",
       "17   m         11\n",
       "     f          7\n",
       "18   m         20\n",
       "     f         11\n",
       "19   f         22\n",
       "               ..\n",
       "61   f          1\n",
       "     m          1\n",
       "64   m          1\n",
       "?    f          1\n",
       "     m          1\n",
       "Name: gender, Length: 86, dtype: int64"
      ]
     },
     "execution_count": 78,
     "metadata": {},
     "output_type": "execute_result"
    }
   ],
   "source": [
    "data.groupby(\"age\")[\"gender\"].value_counts()"
   ]
  },
  {
   "cell_type": "code",
   "execution_count": 79,
   "id": "9c3cc02b-6e2d-46f3-a8a1-b967ff9dec0a",
   "metadata": {},
   "outputs": [
    {
     "data": {
      "text/html": [
       "<div>\n",
       "<style scoped>\n",
       "    .dataframe tbody tr th:only-of-type {\n",
       "        vertical-align: middle;\n",
       "    }\n",
       "\n",
       "    .dataframe tbody tr th {\n",
       "        vertical-align: top;\n",
       "    }\n",
       "\n",
       "    .dataframe thead th {\n",
       "        text-align: right;\n",
       "    }\n",
       "</style>\n",
       "<table border=\"1\" class=\"dataframe\">\n",
       "  <thead>\n",
       "    <tr style=\"text-align: right;\">\n",
       "      <th></th>\n",
       "      <th>A1_Score</th>\n",
       "      <th>A2_Score</th>\n",
       "      <th>A3_Score</th>\n",
       "      <th>A4_Score</th>\n",
       "      <th>A5_Score</th>\n",
       "      <th>A6_Score</th>\n",
       "      <th>A7_Score</th>\n",
       "      <th>A8_Score</th>\n",
       "      <th>A9_Score</th>\n",
       "      <th>A10_Score</th>\n",
       "      <th>...</th>\n",
       "      <th>autism</th>\n",
       "      <th>contry_of_res</th>\n",
       "      <th>used_app_before</th>\n",
       "      <th>result</th>\n",
       "      <th>age_desc</th>\n",
       "      <th>relation</th>\n",
       "      <th>ASD</th>\n",
       "      <th>continent</th>\n",
       "      <th>asd</th>\n",
       "      <th>rel</th>\n",
       "    </tr>\n",
       "  </thead>\n",
       "  <tbody>\n",
       "    <tr>\n",
       "      <th>6</th>\n",
       "      <td>0</td>\n",
       "      <td>1</td>\n",
       "      <td>0</td>\n",
       "      <td>0</td>\n",
       "      <td>0</td>\n",
       "      <td>0</td>\n",
       "      <td>0</td>\n",
       "      <td>1</td>\n",
       "      <td>0</td>\n",
       "      <td>0</td>\n",
       "      <td>...</td>\n",
       "      <td>no</td>\n",
       "      <td>'United States'</td>\n",
       "      <td>no</td>\n",
       "      <td>2</td>\n",
       "      <td>'18 and more'</td>\n",
       "      <td>Self</td>\n",
       "      <td>NO</td>\n",
       "      <td>NA</td>\n",
       "      <td>0</td>\n",
       "      <td>1</td>\n",
       "    </tr>\n",
       "    <tr>\n",
       "      <th>9</th>\n",
       "      <td>1</td>\n",
       "      <td>1</td>\n",
       "      <td>1</td>\n",
       "      <td>1</td>\n",
       "      <td>0</td>\n",
       "      <td>1</td>\n",
       "      <td>1</td>\n",
       "      <td>1</td>\n",
       "      <td>1</td>\n",
       "      <td>0</td>\n",
       "      <td>...</td>\n",
       "      <td>yes</td>\n",
       "      <td>Bahamas</td>\n",
       "      <td>no</td>\n",
       "      <td>8</td>\n",
       "      <td>'18 and more'</td>\n",
       "      <td>Others</td>\n",
       "      <td>YES</td>\n",
       "      <td>NA</td>\n",
       "      <td>1</td>\n",
       "      <td>0</td>\n",
       "    </tr>\n",
       "    <tr>\n",
       "      <th>12</th>\n",
       "      <td>0</td>\n",
       "      <td>1</td>\n",
       "      <td>1</td>\n",
       "      <td>1</td>\n",
       "      <td>1</td>\n",
       "      <td>1</td>\n",
       "      <td>0</td>\n",
       "      <td>0</td>\n",
       "      <td>1</td>\n",
       "      <td>0</td>\n",
       "      <td>...</td>\n",
       "      <td>no</td>\n",
       "      <td>Bahamas</td>\n",
       "      <td>no</td>\n",
       "      <td>6</td>\n",
       "      <td>'18 and more'</td>\n",
       "      <td>Others</td>\n",
       "      <td>NO</td>\n",
       "      <td>NA</td>\n",
       "      <td>0</td>\n",
       "      <td>0</td>\n",
       "    </tr>\n",
       "    <tr>\n",
       "      <th>13</th>\n",
       "      <td>1</td>\n",
       "      <td>0</td>\n",
       "      <td>0</td>\n",
       "      <td>0</td>\n",
       "      <td>0</td>\n",
       "      <td>0</td>\n",
       "      <td>1</td>\n",
       "      <td>1</td>\n",
       "      <td>0</td>\n",
       "      <td>1</td>\n",
       "      <td>...</td>\n",
       "      <td>no</td>\n",
       "      <td>Austria</td>\n",
       "      <td>no</td>\n",
       "      <td>4</td>\n",
       "      <td>'18 and more'</td>\n",
       "      <td>Others</td>\n",
       "      <td>NO</td>\n",
       "      <td>EU</td>\n",
       "      <td>0</td>\n",
       "      <td>0</td>\n",
       "    </tr>\n",
       "    <tr>\n",
       "      <th>14</th>\n",
       "      <td>1</td>\n",
       "      <td>0</td>\n",
       "      <td>0</td>\n",
       "      <td>0</td>\n",
       "      <td>0</td>\n",
       "      <td>0</td>\n",
       "      <td>1</td>\n",
       "      <td>1</td>\n",
       "      <td>0</td>\n",
       "      <td>1</td>\n",
       "      <td>...</td>\n",
       "      <td>no</td>\n",
       "      <td>Argentina</td>\n",
       "      <td>no</td>\n",
       "      <td>4</td>\n",
       "      <td>'18 and more'</td>\n",
       "      <td>Others</td>\n",
       "      <td>NO</td>\n",
       "      <td>SA</td>\n",
       "      <td>0</td>\n",
       "      <td>0</td>\n",
       "    </tr>\n",
       "    <tr>\n",
       "      <th>84</th>\n",
       "      <td>1</td>\n",
       "      <td>1</td>\n",
       "      <td>0</td>\n",
       "      <td>0</td>\n",
       "      <td>0</td>\n",
       "      <td>0</td>\n",
       "      <td>0</td>\n",
       "      <td>0</td>\n",
       "      <td>0</td>\n",
       "      <td>0</td>\n",
       "      <td>...</td>\n",
       "      <td>no</td>\n",
       "      <td>'New Zealand'</td>\n",
       "      <td>no</td>\n",
       "      <td>2</td>\n",
       "      <td>'18 and more'</td>\n",
       "      <td>Self</td>\n",
       "      <td>NO</td>\n",
       "      <td>AU</td>\n",
       "      <td>0</td>\n",
       "      <td>1</td>\n",
       "    </tr>\n",
       "    <tr>\n",
       "      <th>90</th>\n",
       "      <td>1</td>\n",
       "      <td>0</td>\n",
       "      <td>1</td>\n",
       "      <td>1</td>\n",
       "      <td>0</td>\n",
       "      <td>0</td>\n",
       "      <td>0</td>\n",
       "      <td>0</td>\n",
       "      <td>0</td>\n",
       "      <td>1</td>\n",
       "      <td>...</td>\n",
       "      <td>yes</td>\n",
       "      <td>Romania</td>\n",
       "      <td>no</td>\n",
       "      <td>4</td>\n",
       "      <td>'18 and more'</td>\n",
       "      <td>Self</td>\n",
       "      <td>NO</td>\n",
       "      <td>EU</td>\n",
       "      <td>0</td>\n",
       "      <td>1</td>\n",
       "    </tr>\n",
       "    <tr>\n",
       "      <th>121</th>\n",
       "      <td>1</td>\n",
       "      <td>0</td>\n",
       "      <td>1</td>\n",
       "      <td>1</td>\n",
       "      <td>1</td>\n",
       "      <td>1</td>\n",
       "      <td>1</td>\n",
       "      <td>1</td>\n",
       "      <td>1</td>\n",
       "      <td>1</td>\n",
       "      <td>...</td>\n",
       "      <td>no</td>\n",
       "      <td>'United States'</td>\n",
       "      <td>no</td>\n",
       "      <td>9</td>\n",
       "      <td>'18 and more'</td>\n",
       "      <td>Self</td>\n",
       "      <td>YES</td>\n",
       "      <td>NA</td>\n",
       "      <td>1</td>\n",
       "      <td>1</td>\n",
       "    </tr>\n",
       "    <tr>\n",
       "      <th>226</th>\n",
       "      <td>1</td>\n",
       "      <td>1</td>\n",
       "      <td>1</td>\n",
       "      <td>1</td>\n",
       "      <td>1</td>\n",
       "      <td>1</td>\n",
       "      <td>1</td>\n",
       "      <td>0</td>\n",
       "      <td>1</td>\n",
       "      <td>1</td>\n",
       "      <td>...</td>\n",
       "      <td>no</td>\n",
       "      <td>India</td>\n",
       "      <td>no</td>\n",
       "      <td>9</td>\n",
       "      <td>'18 and more'</td>\n",
       "      <td>Relative</td>\n",
       "      <td>YES</td>\n",
       "      <td>AS</td>\n",
       "      <td>1</td>\n",
       "      <td>2</td>\n",
       "    </tr>\n",
       "    <tr>\n",
       "      <th>237</th>\n",
       "      <td>1</td>\n",
       "      <td>0</td>\n",
       "      <td>0</td>\n",
       "      <td>0</td>\n",
       "      <td>0</td>\n",
       "      <td>0</td>\n",
       "      <td>0</td>\n",
       "      <td>0</td>\n",
       "      <td>0</td>\n",
       "      <td>1</td>\n",
       "      <td>...</td>\n",
       "      <td>no</td>\n",
       "      <td>'New Zealand'</td>\n",
       "      <td>no</td>\n",
       "      <td>2</td>\n",
       "      <td>'18 and more'</td>\n",
       "      <td>Self</td>\n",
       "      <td>NO</td>\n",
       "      <td>AU</td>\n",
       "      <td>0</td>\n",
       "      <td>1</td>\n",
       "    </tr>\n",
       "    <tr>\n",
       "      <th>273</th>\n",
       "      <td>1</td>\n",
       "      <td>1</td>\n",
       "      <td>0</td>\n",
       "      <td>0</td>\n",
       "      <td>0</td>\n",
       "      <td>0</td>\n",
       "      <td>0</td>\n",
       "      <td>0</td>\n",
       "      <td>0</td>\n",
       "      <td>0</td>\n",
       "      <td>...</td>\n",
       "      <td>no</td>\n",
       "      <td>'United Kingdom'</td>\n",
       "      <td>no</td>\n",
       "      <td>2</td>\n",
       "      <td>'18 and more'</td>\n",
       "      <td>Others</td>\n",
       "      <td>NO</td>\n",
       "      <td>EU</td>\n",
       "      <td>0</td>\n",
       "      <td>0</td>\n",
       "    </tr>\n",
       "    <tr>\n",
       "      <th>440</th>\n",
       "      <td>1</td>\n",
       "      <td>0</td>\n",
       "      <td>1</td>\n",
       "      <td>1</td>\n",
       "      <td>1</td>\n",
       "      <td>0</td>\n",
       "      <td>1</td>\n",
       "      <td>0</td>\n",
       "      <td>0</td>\n",
       "      <td>1</td>\n",
       "      <td>...</td>\n",
       "      <td>no</td>\n",
       "      <td>'United States'</td>\n",
       "      <td>no</td>\n",
       "      <td>6</td>\n",
       "      <td>'18 and more'</td>\n",
       "      <td>Relative</td>\n",
       "      <td>NO</td>\n",
       "      <td>NA</td>\n",
       "      <td>0</td>\n",
       "      <td>2</td>\n",
       "    </tr>\n",
       "    <tr>\n",
       "      <th>454</th>\n",
       "      <td>1</td>\n",
       "      <td>1</td>\n",
       "      <td>0</td>\n",
       "      <td>0</td>\n",
       "      <td>0</td>\n",
       "      <td>0</td>\n",
       "      <td>1</td>\n",
       "      <td>0</td>\n",
       "      <td>0</td>\n",
       "      <td>0</td>\n",
       "      <td>...</td>\n",
       "      <td>no</td>\n",
       "      <td>'United Arab Emirates'</td>\n",
       "      <td>no</td>\n",
       "      <td>3</td>\n",
       "      <td>'18 and more'</td>\n",
       "      <td>Self</td>\n",
       "      <td>NO</td>\n",
       "      <td>AS</td>\n",
       "      <td>0</td>\n",
       "      <td>1</td>\n",
       "    </tr>\n",
       "    <tr>\n",
       "      <th>467</th>\n",
       "      <td>1</td>\n",
       "      <td>0</td>\n",
       "      <td>1</td>\n",
       "      <td>1</td>\n",
       "      <td>0</td>\n",
       "      <td>1</td>\n",
       "      <td>0</td>\n",
       "      <td>0</td>\n",
       "      <td>0</td>\n",
       "      <td>1</td>\n",
       "      <td>...</td>\n",
       "      <td>no</td>\n",
       "      <td>Netherlands</td>\n",
       "      <td>no</td>\n",
       "      <td>5</td>\n",
       "      <td>'18 and more'</td>\n",
       "      <td>Relative</td>\n",
       "      <td>NO</td>\n",
       "      <td>EU</td>\n",
       "      <td>0</td>\n",
       "      <td>2</td>\n",
       "    </tr>\n",
       "    <tr>\n",
       "      <th>561</th>\n",
       "      <td>1</td>\n",
       "      <td>0</td>\n",
       "      <td>0</td>\n",
       "      <td>1</td>\n",
       "      <td>1</td>\n",
       "      <td>1</td>\n",
       "      <td>1</td>\n",
       "      <td>1</td>\n",
       "      <td>1</td>\n",
       "      <td>1</td>\n",
       "      <td>...</td>\n",
       "      <td>no</td>\n",
       "      <td>'United States'</td>\n",
       "      <td>no</td>\n",
       "      <td>8</td>\n",
       "      <td>'18 and more'</td>\n",
       "      <td>Self</td>\n",
       "      <td>YES</td>\n",
       "      <td>NA</td>\n",
       "      <td>1</td>\n",
       "      <td>1</td>\n",
       "    </tr>\n",
       "    <tr>\n",
       "      <th>644</th>\n",
       "      <td>1</td>\n",
       "      <td>0</td>\n",
       "      <td>1</td>\n",
       "      <td>1</td>\n",
       "      <td>1</td>\n",
       "      <td>0</td>\n",
       "      <td>0</td>\n",
       "      <td>1</td>\n",
       "      <td>0</td>\n",
       "      <td>1</td>\n",
       "      <td>...</td>\n",
       "      <td>no</td>\n",
       "      <td>'New Zealand'</td>\n",
       "      <td>no</td>\n",
       "      <td>6</td>\n",
       "      <td>'18 and more'</td>\n",
       "      <td>Relative</td>\n",
       "      <td>NO</td>\n",
       "      <td>AU</td>\n",
       "      <td>0</td>\n",
       "      <td>2</td>\n",
       "    </tr>\n",
       "    <tr>\n",
       "      <th>645</th>\n",
       "      <td>1</td>\n",
       "      <td>0</td>\n",
       "      <td>1</td>\n",
       "      <td>1</td>\n",
       "      <td>0</td>\n",
       "      <td>0</td>\n",
       "      <td>1</td>\n",
       "      <td>1</td>\n",
       "      <td>1</td>\n",
       "      <td>1</td>\n",
       "      <td>...</td>\n",
       "      <td>yes</td>\n",
       "      <td>'New Zealand'</td>\n",
       "      <td>no</td>\n",
       "      <td>7</td>\n",
       "      <td>'18 and more'</td>\n",
       "      <td>Others</td>\n",
       "      <td>YES</td>\n",
       "      <td>AU</td>\n",
       "      <td>1</td>\n",
       "      <td>0</td>\n",
       "    </tr>\n",
       "    <tr>\n",
       "      <th>664</th>\n",
       "      <td>0</td>\n",
       "      <td>0</td>\n",
       "      <td>0</td>\n",
       "      <td>0</td>\n",
       "      <td>0</td>\n",
       "      <td>0</td>\n",
       "      <td>1</td>\n",
       "      <td>1</td>\n",
       "      <td>0</td>\n",
       "      <td>1</td>\n",
       "      <td>...</td>\n",
       "      <td>no</td>\n",
       "      <td>Canada</td>\n",
       "      <td>no</td>\n",
       "      <td>3</td>\n",
       "      <td>'18 and more'</td>\n",
       "      <td>Self</td>\n",
       "      <td>NO</td>\n",
       "      <td>NA</td>\n",
       "      <td>0</td>\n",
       "      <td>1</td>\n",
       "    </tr>\n",
       "  </tbody>\n",
       "</table>\n",
       "<p>18 rows × 24 columns</p>\n",
       "</div>"
      ],
      "text/plain": [
       "     A1_Score  A2_Score  A3_Score  A4_Score  A5_Score  A6_Score  A7_Score  \\\n",
       "6           0         1         0         0         0         0         0   \n",
       "9           1         1         1         1         0         1         1   \n",
       "12          0         1         1         1         1         1         0   \n",
       "13          1         0         0         0         0         0         1   \n",
       "14          1         0         0         0         0         0         1   \n",
       "84          1         1         0         0         0         0         0   \n",
       "90          1         0         1         1         0         0         0   \n",
       "121         1         0         1         1         1         1         1   \n",
       "226         1         1         1         1         1         1         1   \n",
       "237         1         0         0         0         0         0         0   \n",
       "273         1         1         0         0         0         0         0   \n",
       "440         1         0         1         1         1         0         1   \n",
       "454         1         1         0         0         0         0         1   \n",
       "467         1         0         1         1         0         1         0   \n",
       "561         1         0         0         1         1         1         1   \n",
       "644         1         0         1         1         1         0         0   \n",
       "645         1         0         1         1         0         0         1   \n",
       "664         0         0         0         0         0         0         1   \n",
       "\n",
       "     A8_Score  A9_Score  A10_Score  ... autism           contry_of_res  \\\n",
       "6           1         0          0  ...     no         'United States'   \n",
       "9           1         1          0  ...    yes                 Bahamas   \n",
       "12          0         1          0  ...     no                 Bahamas   \n",
       "13          1         0          1  ...     no                 Austria   \n",
       "14          1         0          1  ...     no               Argentina   \n",
       "84          0         0          0  ...     no           'New Zealand'   \n",
       "90          0         0          1  ...    yes                 Romania   \n",
       "121         1         1          1  ...     no         'United States'   \n",
       "226         0         1          1  ...     no                   India   \n",
       "237         0         0          1  ...     no           'New Zealand'   \n",
       "273         0         0          0  ...     no        'United Kingdom'   \n",
       "440         0         0          1  ...     no         'United States'   \n",
       "454         0         0          0  ...     no  'United Arab Emirates'   \n",
       "467         0         0          1  ...     no             Netherlands   \n",
       "561         1         1          1  ...     no         'United States'   \n",
       "644         1         0          1  ...     no           'New Zealand'   \n",
       "645         1         1          1  ...    yes           'New Zealand'   \n",
       "664         1         0          1  ...     no                  Canada   \n",
       "\n",
       "    used_app_before result       age_desc  relation  ASD  continent asd rel  \n",
       "6                no      2  '18 and more'      Self   NO         NA   0   1  \n",
       "9                no      8  '18 and more'    Others  YES         NA   1   0  \n",
       "12               no      6  '18 and more'    Others   NO         NA   0   0  \n",
       "13               no      4  '18 and more'    Others   NO         EU   0   0  \n",
       "14               no      4  '18 and more'    Others   NO         SA   0   0  \n",
       "84               no      2  '18 and more'      Self   NO         AU   0   1  \n",
       "90               no      4  '18 and more'      Self   NO         EU   0   1  \n",
       "121              no      9  '18 and more'      Self  YES         NA   1   1  \n",
       "226              no      9  '18 and more'  Relative  YES         AS   1   2  \n",
       "237              no      2  '18 and more'      Self   NO         AU   0   1  \n",
       "273              no      2  '18 and more'    Others   NO         EU   0   0  \n",
       "440              no      6  '18 and more'  Relative   NO         NA   0   2  \n",
       "454              no      3  '18 and more'      Self   NO         AS   0   1  \n",
       "467              no      5  '18 and more'  Relative   NO         EU   0   2  \n",
       "561              no      8  '18 and more'      Self  YES         NA   1   1  \n",
       "644              no      6  '18 and more'  Relative   NO         AU   0   2  \n",
       "645              no      7  '18 and more'    Others  YES         AU   1   0  \n",
       "664              no      3  '18 and more'      Self   NO         NA   0   1  \n",
       "\n",
       "[18 rows x 24 columns]"
      ]
     },
     "execution_count": 79,
     "metadata": {},
     "output_type": "execute_result"
    }
   ],
   "source": [
    "data[data[\"age\"]=='17']"
   ]
  },
  {
   "cell_type": "markdown",
   "id": "0cddd702-939e-433c-8e72-6dbd78658140",
   "metadata": {
    "tags": []
   },
   "source": [
    "## Возраст"
   ]
  },
  {
   "cell_type": "code",
   "execution_count": 80,
   "id": "98ff8911-0ef0-4b5c-aa24-fc894b38e92e",
   "metadata": {},
   "outputs": [
    {
     "data": {
      "text/plain": [
       "False"
      ]
     },
     "execution_count": 80,
     "metadata": {},
     "output_type": "execute_result"
    }
   ],
   "source": [
    "any(data[\"age_desc\"].isnull())"
   ]
  },
  {
   "cell_type": "code",
   "execution_count": 81,
   "id": "5b62d27c-1a90-460a-b4c8-3633b95bb874",
   "metadata": {},
   "outputs": [
    {
     "data": {
      "text/plain": [
       "array([\"'18 and more'\"], dtype=object)"
      ]
     },
     "execution_count": 81,
     "metadata": {},
     "output_type": "execute_result"
    }
   ],
   "source": [
    "data[\"age_desc\"].unique()"
   ]
  },
  {
   "cell_type": "code",
   "execution_count": 82,
   "id": "ba704a8a-758e-4952-9666-cadc8dd3e47f",
   "metadata": {},
   "outputs": [
    {
     "data": {
      "text/plain": [
       "['17',\n",
       " '18',\n",
       " '19',\n",
       " '20',\n",
       " '21',\n",
       " '22',\n",
       " '23',\n",
       " '24',\n",
       " '25',\n",
       " '26',\n",
       " '27',\n",
       " '28',\n",
       " '29',\n",
       " '30',\n",
       " '31',\n",
       " '32',\n",
       " '33',\n",
       " '34',\n",
       " '35',\n",
       " '36',\n",
       " '37',\n",
       " '38',\n",
       " '383',\n",
       " '39',\n",
       " '40',\n",
       " '41',\n",
       " '42',\n",
       " '43',\n",
       " '44',\n",
       " '45',\n",
       " '46',\n",
       " '47',\n",
       " '48',\n",
       " '49',\n",
       " '50',\n",
       " '51',\n",
       " '52',\n",
       " '53',\n",
       " '54',\n",
       " '55',\n",
       " '56',\n",
       " '58',\n",
       " '59',\n",
       " '60',\n",
       " '61',\n",
       " '64',\n",
       " '?']"
      ]
     },
     "execution_count": 82,
     "metadata": {},
     "output_type": "execute_result"
    }
   ],
   "source": [
    "sorted(data[\"age\"].unique())"
   ]
  },
  {
   "cell_type": "markdown",
   "id": "e8bee17d-0844-4641-b3fc-f69403653e61",
   "metadata": {},
   "source": [
    "Поле **age_desc** не информативно, т. к. оно одинаковое для всех полей и противоречиво, потому что значение *\"18 and more\"* прописано и для возраста 17 лет. Поэтому **age_desc** - кандидат на удаление.\n",
    "\n",
    "В поле возраст есть подозрительные значения 383 и ?. Проверим их."
   ]
  },
  {
   "cell_type": "code",
   "execution_count": 83,
   "id": "5d248916-20bf-4150-89c8-8d275d0fa778",
   "metadata": {},
   "outputs": [
    {
     "data": {
      "text/plain": [
       "21     49\n",
       "20     46\n",
       "23     37\n",
       "22     37\n",
       "19     35\n",
       "24     34\n",
       "27     31\n",
       "18     31\n",
       "30     30\n",
       "26     28\n",
       "25     27\n",
       "29     27\n",
       "28     24\n",
       "31     21\n",
       "17     18\n",
       "32     18\n",
       "35     17\n",
       "37     17\n",
       "33     16\n",
       "40     16\n",
       "42     15\n",
       "36     13\n",
       "38     12\n",
       "34     12\n",
       "43     11\n",
       "44     10\n",
       "47      8\n",
       "39      7\n",
       "55      6\n",
       "53      6\n",
       "46      6\n",
       "50      5\n",
       "52      5\n",
       "48      4\n",
       "45      4\n",
       "49      3\n",
       "41      3\n",
       "54      2\n",
       "58      2\n",
       "?       2\n",
       "56      2\n",
       "61      2\n",
       "59      1\n",
       "64      1\n",
       "60      1\n",
       "383     1\n",
       "51      1\n",
       "Name: age, dtype: int64"
      ]
     },
     "execution_count": 83,
     "metadata": {},
     "output_type": "execute_result"
    }
   ],
   "source": [
    "data[\"age\"].value_counts()"
   ]
  },
  {
   "cell_type": "code",
   "execution_count": 84,
   "id": "1378773c-8e5a-4015-a0d2-9f68354cdada",
   "metadata": {},
   "outputs": [
    {
     "data": {
      "text/html": [
       "<div>\n",
       "<style scoped>\n",
       "    .dataframe tbody tr th:only-of-type {\n",
       "        vertical-align: middle;\n",
       "    }\n",
       "\n",
       "    .dataframe tbody tr th {\n",
       "        vertical-align: top;\n",
       "    }\n",
       "\n",
       "    .dataframe thead th {\n",
       "        text-align: right;\n",
       "    }\n",
       "</style>\n",
       "<table border=\"1\" class=\"dataframe\">\n",
       "  <thead>\n",
       "    <tr style=\"text-align: right;\">\n",
       "      <th></th>\n",
       "      <th>62</th>\n",
       "      <th>91</th>\n",
       "    </tr>\n",
       "  </thead>\n",
       "  <tbody>\n",
       "    <tr>\n",
       "      <th>A1_Score</th>\n",
       "      <td>0</td>\n",
       "      <td>0</td>\n",
       "    </tr>\n",
       "    <tr>\n",
       "      <th>A2_Score</th>\n",
       "      <td>0</td>\n",
       "      <td>1</td>\n",
       "    </tr>\n",
       "    <tr>\n",
       "      <th>A3_Score</th>\n",
       "      <td>0</td>\n",
       "      <td>0</td>\n",
       "    </tr>\n",
       "    <tr>\n",
       "      <th>A4_Score</th>\n",
       "      <td>0</td>\n",
       "      <td>0</td>\n",
       "    </tr>\n",
       "    <tr>\n",
       "      <th>A5_Score</th>\n",
       "      <td>0</td>\n",
       "      <td>1</td>\n",
       "    </tr>\n",
       "    <tr>\n",
       "      <th>A6_Score</th>\n",
       "      <td>0</td>\n",
       "      <td>0</td>\n",
       "    </tr>\n",
       "    <tr>\n",
       "      <th>A7_Score</th>\n",
       "      <td>0</td>\n",
       "      <td>1</td>\n",
       "    </tr>\n",
       "    <tr>\n",
       "      <th>A8_Score</th>\n",
       "      <td>0</td>\n",
       "      <td>0</td>\n",
       "    </tr>\n",
       "    <tr>\n",
       "      <th>A9_Score</th>\n",
       "      <td>0</td>\n",
       "      <td>0</td>\n",
       "    </tr>\n",
       "    <tr>\n",
       "      <th>A10_Score</th>\n",
       "      <td>0</td>\n",
       "      <td>1</td>\n",
       "    </tr>\n",
       "    <tr>\n",
       "      <th>age</th>\n",
       "      <td>?</td>\n",
       "      <td>?</td>\n",
       "    </tr>\n",
       "    <tr>\n",
       "      <th>gender</th>\n",
       "      <td>m</td>\n",
       "      <td>f</td>\n",
       "    </tr>\n",
       "    <tr>\n",
       "      <th>ethnicity</th>\n",
       "      <td>'Middle Eastern '</td>\n",
       "      <td>'Middle Eastern '</td>\n",
       "    </tr>\n",
       "    <tr>\n",
       "      <th>jaundice</th>\n",
       "      <td>no</td>\n",
       "      <td>no</td>\n",
       "    </tr>\n",
       "    <tr>\n",
       "      <th>autism</th>\n",
       "      <td>no</td>\n",
       "      <td>no</td>\n",
       "    </tr>\n",
       "    <tr>\n",
       "      <th>contry_of_res</th>\n",
       "      <td>'Saudi Arabia'</td>\n",
       "      <td>Jordan</td>\n",
       "    </tr>\n",
       "    <tr>\n",
       "      <th>used_app_before</th>\n",
       "      <td>no</td>\n",
       "      <td>no</td>\n",
       "    </tr>\n",
       "    <tr>\n",
       "      <th>result</th>\n",
       "      <td>0</td>\n",
       "      <td>4</td>\n",
       "    </tr>\n",
       "    <tr>\n",
       "      <th>age_desc</th>\n",
       "      <td>'18 and more'</td>\n",
       "      <td>'18 and more'</td>\n",
       "    </tr>\n",
       "    <tr>\n",
       "      <th>relation</th>\n",
       "      <td>Others</td>\n",
       "      <td>Others</td>\n",
       "    </tr>\n",
       "    <tr>\n",
       "      <th>ASD</th>\n",
       "      <td>NO</td>\n",
       "      <td>NO</td>\n",
       "    </tr>\n",
       "    <tr>\n",
       "      <th>continent</th>\n",
       "      <td>AS</td>\n",
       "      <td>AS</td>\n",
       "    </tr>\n",
       "    <tr>\n",
       "      <th>asd</th>\n",
       "      <td>0</td>\n",
       "      <td>0</td>\n",
       "    </tr>\n",
       "    <tr>\n",
       "      <th>rel</th>\n",
       "      <td>0</td>\n",
       "      <td>0</td>\n",
       "    </tr>\n",
       "  </tbody>\n",
       "</table>\n",
       "</div>"
      ],
      "text/plain": [
       "                                62                 91\n",
       "A1_Score                         0                  0\n",
       "A2_Score                         0                  1\n",
       "A3_Score                         0                  0\n",
       "A4_Score                         0                  0\n",
       "A5_Score                         0                  1\n",
       "A6_Score                         0                  0\n",
       "A7_Score                         0                  1\n",
       "A8_Score                         0                  0\n",
       "A9_Score                         0                  0\n",
       "A10_Score                        0                  1\n",
       "age                              ?                  ?\n",
       "gender                           m                  f\n",
       "ethnicity        'Middle Eastern '  'Middle Eastern '\n",
       "jaundice                        no                 no\n",
       "autism                          no                 no\n",
       "contry_of_res       'Saudi Arabia'             Jordan\n",
       "used_app_before                 no                 no\n",
       "result                           0                  4\n",
       "age_desc             '18 and more'      '18 and more'\n",
       "relation                    Others             Others\n",
       "ASD                             NO                 NO\n",
       "continent                       AS                 AS\n",
       "asd                              0                  0\n",
       "rel                              0                  0"
      ]
     },
     "execution_count": 84,
     "metadata": {},
     "output_type": "execute_result"
    }
   ],
   "source": [
    "data[data['age']=='?'].T"
   ]
  },
  {
   "cell_type": "markdown",
   "id": "cf8a9ba6-a1e4-4422-b860-4fad29e5869b",
   "metadata": {},
   "source": [
    "Похоже, что знак вопроса \"?\" используется для обозначения пропущенных данных. Для удобства работы заменим его на NaN:"
   ]
  },
  {
   "cell_type": "code",
   "execution_count": 85,
   "id": "650db12f-e890-4ac4-a8a2-65446ee59fd0",
   "metadata": {},
   "outputs": [],
   "source": [
    "data.replace('?', np.NaN, inplace=True)"
   ]
  },
  {
   "cell_type": "code",
   "execution_count": 86,
   "id": "fcbde66f-7355-45e1-8928-5d0b48b8854a",
   "metadata": {},
   "outputs": [
    {
     "data": {
      "text/html": [
       "<div>\n",
       "<style scoped>\n",
       "    .dataframe tbody tr th:only-of-type {\n",
       "        vertical-align: middle;\n",
       "    }\n",
       "\n",
       "    .dataframe tbody tr th {\n",
       "        vertical-align: top;\n",
       "    }\n",
       "\n",
       "    .dataframe thead th {\n",
       "        text-align: right;\n",
       "    }\n",
       "</style>\n",
       "<table border=\"1\" class=\"dataframe\">\n",
       "  <thead>\n",
       "    <tr style=\"text-align: right;\">\n",
       "      <th></th>\n",
       "      <th>A1_Score</th>\n",
       "      <th>A2_Score</th>\n",
       "      <th>A3_Score</th>\n",
       "      <th>A4_Score</th>\n",
       "      <th>A5_Score</th>\n",
       "      <th>A6_Score</th>\n",
       "      <th>A7_Score</th>\n",
       "      <th>A8_Score</th>\n",
       "      <th>A9_Score</th>\n",
       "      <th>A10_Score</th>\n",
       "      <th>...</th>\n",
       "      <th>autism</th>\n",
       "      <th>contry_of_res</th>\n",
       "      <th>used_app_before</th>\n",
       "      <th>result</th>\n",
       "      <th>age_desc</th>\n",
       "      <th>relation</th>\n",
       "      <th>ASD</th>\n",
       "      <th>continent</th>\n",
       "      <th>asd</th>\n",
       "      <th>rel</th>\n",
       "    </tr>\n",
       "  </thead>\n",
       "  <tbody>\n",
       "  </tbody>\n",
       "</table>\n",
       "<p>0 rows × 24 columns</p>\n",
       "</div>"
      ],
      "text/plain": [
       "Empty DataFrame\n",
       "Columns: [A1_Score, A2_Score, A3_Score, A4_Score, A5_Score, A6_Score, A7_Score, A8_Score, A9_Score, A10_Score, age, gender, ethnicity, jaundice, autism, contry_of_res, used_app_before, result, age_desc, relation, ASD, continent, asd, rel]\n",
       "Index: []\n",
       "\n",
       "[0 rows x 24 columns]"
      ]
     },
     "execution_count": 86,
     "metadata": {},
     "output_type": "execute_result"
    }
   ],
   "source": [
    "data[data[\"age\"]==\"?\"]"
   ]
  },
  {
   "cell_type": "markdown",
   "id": "d071d1ed-1b5b-4d85-87c1-78095c46a838",
   "metadata": {},
   "source": [
    "Проверим еще раз пустые значения:"
   ]
  },
  {
   "cell_type": "code",
   "execution_count": 87,
   "id": "8bf371c9-8e95-4126-9cc2-de0e77928e60",
   "metadata": {},
   "outputs": [
    {
     "data": {
      "text/plain": [
       "A1_Score           0\n",
       "A2_Score           0\n",
       "A3_Score           0\n",
       "A4_Score           0\n",
       "A5_Score           0\n",
       "A6_Score           0\n",
       "A7_Score           0\n",
       "A8_Score           0\n",
       "A9_Score           0\n",
       "A10_Score          0\n",
       "age                2\n",
       "gender             0\n",
       "ethnicity          0\n",
       "jaundice           0\n",
       "autism             0\n",
       "contry_of_res      0\n",
       "used_app_before    0\n",
       "result             0\n",
       "age_desc           0\n",
       "relation           0\n",
       "ASD                0\n",
       "continent          0\n",
       "asd                0\n",
       "rel                0\n",
       "dtype: int64"
      ]
     },
     "execution_count": 87,
     "metadata": {},
     "output_type": "execute_result"
    }
   ],
   "source": [
    "data.isnull().sum()"
   ]
  },
  {
   "cell_type": "markdown",
   "id": "4f564dad-2175-4bb9-9af6-1a6e37c47af8",
   "metadata": {},
   "source": [
    "Преобразуем возраст из строки сначала в вещественное число float. Такой вариант будет работать с NaN в отличие от int."
   ]
  },
  {
   "cell_type": "code",
   "execution_count": 88,
   "id": "87a07193-d389-47f3-8ba1-b2d793069293",
   "metadata": {},
   "outputs": [],
   "source": [
    "data[\"age\"] = data[\"age\"].apply(float)"
   ]
  },
  {
   "cell_type": "code",
   "execution_count": 89,
   "id": "0d84bdc6-ab58-4d17-93c5-75722ddfc16d",
   "metadata": {},
   "outputs": [
    {
     "data": {
      "text/plain": [
       "0      26.0\n",
       "1      24.0\n",
       "2      27.0\n",
       "3      35.0\n",
       "4      40.0\n",
       "       ... \n",
       "699    25.0\n",
       "700    34.0\n",
       "701    24.0\n",
       "702    35.0\n",
       "703    26.0\n",
       "Name: age, Length: 704, dtype: float64"
      ]
     },
     "execution_count": 89,
     "metadata": {},
     "output_type": "execute_result"
    }
   ],
   "source": [
    "data[\"age\"]"
   ]
  },
  {
   "cell_type": "markdown",
   "id": "3f347351-e838-476b-adb6-6fb718470b67",
   "metadata": {},
   "source": [
    "Ура! Теперь можно нормально работать с возрастом:"
   ]
  },
  {
   "cell_type": "code",
   "execution_count": 90,
   "id": "310c8e0e-e279-4ddb-ac11-20ccf01c40a8",
   "metadata": {},
   "outputs": [
    {
     "name": "stdout",
     "output_type": "stream",
     "text": [
      "Oldest person: 383.0 years\n",
      "Youngest person: 17.0 years\n",
      "Average age: 30 years\n"
     ]
    }
   ],
   "source": [
    "print('Oldest person:',data['age'].max(),'years')\n",
    "print('Youngest person:',data['age'].min(),'years')\n",
    "print('Average age:', round(data['age'].mean()),'years')"
   ]
  },
  {
   "cell_type": "markdown",
   "id": "6676767e-bad4-405d-bfc7-b2e768320824",
   "metadata": {},
   "source": [
    "Заменим выброс *383* на среднее, но беда в том, что сам этот выброс влияет на среднее. Наверное, стоит его выкинуть. "
   ]
  },
  {
   "cell_type": "code",
   "execution_count": 91,
   "id": "046943c4-d9de-4df7-b585-2a80c9f3b39c",
   "metadata": {},
   "outputs": [
    {
     "data": {
      "text/html": [
       "<div>\n",
       "<style scoped>\n",
       "    .dataframe tbody tr th:only-of-type {\n",
       "        vertical-align: middle;\n",
       "    }\n",
       "\n",
       "    .dataframe tbody tr th {\n",
       "        vertical-align: top;\n",
       "    }\n",
       "\n",
       "    .dataframe thead th {\n",
       "        text-align: right;\n",
       "    }\n",
       "</style>\n",
       "<table border=\"1\" class=\"dataframe\">\n",
       "  <thead>\n",
       "    <tr style=\"text-align: right;\">\n",
       "      <th></th>\n",
       "      <th>52</th>\n",
       "    </tr>\n",
       "  </thead>\n",
       "  <tbody>\n",
       "    <tr>\n",
       "      <th>A1_Score</th>\n",
       "      <td>1</td>\n",
       "    </tr>\n",
       "    <tr>\n",
       "      <th>A2_Score</th>\n",
       "      <td>0</td>\n",
       "    </tr>\n",
       "    <tr>\n",
       "      <th>A3_Score</th>\n",
       "      <td>0</td>\n",
       "    </tr>\n",
       "    <tr>\n",
       "      <th>A4_Score</th>\n",
       "      <td>0</td>\n",
       "    </tr>\n",
       "    <tr>\n",
       "      <th>A5_Score</th>\n",
       "      <td>0</td>\n",
       "    </tr>\n",
       "    <tr>\n",
       "      <th>A6_Score</th>\n",
       "      <td>0</td>\n",
       "    </tr>\n",
       "    <tr>\n",
       "      <th>A7_Score</th>\n",
       "      <td>0</td>\n",
       "    </tr>\n",
       "    <tr>\n",
       "      <th>A8_Score</th>\n",
       "      <td>0</td>\n",
       "    </tr>\n",
       "    <tr>\n",
       "      <th>A9_Score</th>\n",
       "      <td>0</td>\n",
       "    </tr>\n",
       "    <tr>\n",
       "      <th>A10_Score</th>\n",
       "      <td>0</td>\n",
       "    </tr>\n",
       "    <tr>\n",
       "      <th>age</th>\n",
       "      <td>383.0</td>\n",
       "    </tr>\n",
       "    <tr>\n",
       "      <th>gender</th>\n",
       "      <td>f</td>\n",
       "    </tr>\n",
       "    <tr>\n",
       "      <th>ethnicity</th>\n",
       "      <td>Pasifika</td>\n",
       "    </tr>\n",
       "    <tr>\n",
       "      <th>jaundice</th>\n",
       "      <td>no</td>\n",
       "    </tr>\n",
       "    <tr>\n",
       "      <th>autism</th>\n",
       "      <td>no</td>\n",
       "    </tr>\n",
       "    <tr>\n",
       "      <th>contry_of_res</th>\n",
       "      <td>'New Zealand'</td>\n",
       "    </tr>\n",
       "    <tr>\n",
       "      <th>used_app_before</th>\n",
       "      <td>no</td>\n",
       "    </tr>\n",
       "    <tr>\n",
       "      <th>result</th>\n",
       "      <td>1</td>\n",
       "    </tr>\n",
       "    <tr>\n",
       "      <th>age_desc</th>\n",
       "      <td>'18 and more'</td>\n",
       "    </tr>\n",
       "    <tr>\n",
       "      <th>relation</th>\n",
       "      <td>Self</td>\n",
       "    </tr>\n",
       "    <tr>\n",
       "      <th>ASD</th>\n",
       "      <td>NO</td>\n",
       "    </tr>\n",
       "    <tr>\n",
       "      <th>continent</th>\n",
       "      <td>AU</td>\n",
       "    </tr>\n",
       "    <tr>\n",
       "      <th>asd</th>\n",
       "      <td>0</td>\n",
       "    </tr>\n",
       "    <tr>\n",
       "      <th>rel</th>\n",
       "      <td>1</td>\n",
       "    </tr>\n",
       "  </tbody>\n",
       "</table>\n",
       "</div>"
      ],
      "text/plain": [
       "                            52\n",
       "A1_Score                     1\n",
       "A2_Score                     0\n",
       "A3_Score                     0\n",
       "A4_Score                     0\n",
       "A5_Score                     0\n",
       "A6_Score                     0\n",
       "A7_Score                     0\n",
       "A8_Score                     0\n",
       "A9_Score                     0\n",
       "A10_Score                    0\n",
       "age                      383.0\n",
       "gender                       f\n",
       "ethnicity             Pasifika\n",
       "jaundice                    no\n",
       "autism                      no\n",
       "contry_of_res    'New Zealand'\n",
       "used_app_before             no\n",
       "result                       1\n",
       "age_desc         '18 and more'\n",
       "relation                  Self\n",
       "ASD                         NO\n",
       "continent                   AU\n",
       "asd                          0\n",
       "rel                          1"
      ]
     },
     "execution_count": 91,
     "metadata": {},
     "output_type": "execute_result"
    }
   ],
   "source": [
    "data[data.age==383].T"
   ]
  },
  {
   "cell_type": "code",
   "execution_count": 92,
   "id": "5ca9ddab-8a37-4120-a13d-c27ce6f9c52c",
   "metadata": {},
   "outputs": [
    {
     "name": "stdout",
     "output_type": "stream",
     "text": [
      "Average age = 29\n"
     ]
    }
   ],
   "source": [
    "data1 = data[data.age!=383]\n",
    "avg_age = round(data1.age.mean())\n",
    "print(f\"Average age = {avg_age}\")\n",
    "data.loc[data.age==383, \"age\"] = avg_age"
   ]
  },
  {
   "cell_type": "code",
   "execution_count": 93,
   "id": "4ab5a353-4a4f-49d8-94a7-abb7d3ebbcb6",
   "metadata": {},
   "outputs": [],
   "source": [
    "data['age'].fillna(avg_age,inplace=True)"
   ]
  },
  {
   "cell_type": "code",
   "execution_count": 94,
   "id": "b6378948-f9d8-4a6f-8bc5-2fbcc9b3d661",
   "metadata": {},
   "outputs": [
    {
     "data": {
      "text/plain": [
       "A1_Score           0\n",
       "A2_Score           0\n",
       "A3_Score           0\n",
       "A4_Score           0\n",
       "A5_Score           0\n",
       "A6_Score           0\n",
       "A7_Score           0\n",
       "A8_Score           0\n",
       "A9_Score           0\n",
       "A10_Score          0\n",
       "age                0\n",
       "gender             0\n",
       "ethnicity          0\n",
       "jaundice           0\n",
       "autism             0\n",
       "contry_of_res      0\n",
       "used_app_before    0\n",
       "result             0\n",
       "age_desc           0\n",
       "relation           0\n",
       "ASD                0\n",
       "continent          0\n",
       "asd                0\n",
       "rel                0\n",
       "dtype: int64"
      ]
     },
     "execution_count": 94,
     "metadata": {},
     "output_type": "execute_result"
    }
   ],
   "source": [
    "data.isnull().sum()"
   ]
  },
  {
   "cell_type": "markdown",
   "id": "7f0f77ef-9422-440f-ae6d-874d7c874f38",
   "metadata": {},
   "source": [
    "Пробелы в возрасте ликвидировали."
   ]
  },
  {
   "cell_type": "code",
   "execution_count": 95,
   "id": "c26784c1-2d62-4ff3-863f-b47670d7c244",
   "metadata": {
    "tags": []
   },
   "outputs": [
    {
     "data": {
      "text/plain": [
       "count    704.000000\n",
       "mean      29.193182\n",
       "std        9.690790\n",
       "min       17.000000\n",
       "25%       21.000000\n",
       "50%       27.000000\n",
       "75%       35.000000\n",
       "max       64.000000\n",
       "Name: age, dtype: float64"
      ]
     },
     "execution_count": 95,
     "metadata": {},
     "output_type": "execute_result"
    }
   ],
   "source": [
    "data[\"age\"].describe()"
   ]
  },
  {
   "cell_type": "code",
   "execution_count": 96,
   "id": "a584a9db-1987-4f54-90b5-25bac20d2ce9",
   "metadata": {},
   "outputs": [
    {
     "data": {
      "text/plain": [
       "<AxesSubplot:>"
      ]
     },
     "execution_count": 96,
     "metadata": {},
     "output_type": "execute_result"
    },
    {
     "data": {
      "image/png": "[encoded data removed]",
      "text/plain": [
       "<Figure size 432x288 with 1 Axes>"
      ]
     },
     "metadata": {
      "needs_background": "light"
     },
     "output_type": "display_data"
    }
   ],
   "source": [
    "data.age.hist()"
   ]
  },
  {
   "cell_type": "code",
   "execution_count": 97,
   "id": "42bbbabf-4a50-4c20-8e0f-23eb0fc5b6f8",
   "metadata": {},
   "outputs": [
    {
     "name": "stdout",
     "output_type": "stream",
     "text": [
      "Number of ages: 48\n"
     ]
    },
    {
     "data": {
      "image/png": "[encoded data removed]",
      "text/plain": [
       "<Figure size 1440x720 with 2 Axes>"
      ]
     },
     "metadata": {
      "needs_background": "light"
     },
     "output_type": "display_data"
    }
   ],
   "source": [
    "nof_ages = int(data[\"age\"].max() - data[\"age\"].min() + 1)\n",
    "print(f\"Number of ages: {nof_ages}\")\n",
    "\n",
    "f,ax=plt.subplots(1,2,figsize=(20,10))\n",
    "data[data['ASD']=='YES'].age.plot.hist(ax=ax[0],bins=nof_ages,edgecolor='black',color='red')\n",
    "ax[0].set_title('ASD = YES')\n",
    "x1=list(range(0,70,5))\n",
    "ax[0].set_xticks(x1)\n",
    "data[data['ASD']=='NO'].age.plot.hist(ax=ax[1],color='green',bins=nof_ages,edgecolor='black')\n",
    "ax[1].set_title('ASD = NO')\n",
    "x2=list(range(0,70,5))\n",
    "ax[1].set_xticks(x2)\n",
    "plt.show()"
   ]
  },
  {
   "cell_type": "code",
   "execution_count": 98,
   "id": "178ac31d-3031-483a-9620-8335e474c72e",
   "metadata": {},
   "outputs": [
    {
     "data": {
      "image/png": "[encoded data removed]",
      "text/plain": [
       "<Figure size 432x288 with 2 Axes>"
      ]
     },
     "metadata": {
      "needs_background": "light"
     },
     "output_type": "display_data"
    }
   ],
   "source": [
    "# То же самое другим способом:\n",
    "data.plot.hist(column=[\"age\"], bins=nof_ages,edgecolor='black',by=\"ASD\", color='red')\n",
    "plt.show()"
   ]
  },
  {
   "cell_type": "markdown",
   "id": "0953154c-6236-48e7-bd75-49a05948550d",
   "metadata": {},
   "source": [
    "Распределение по возрасту очень не равномерное. Поэтому лучше посмотреть частоту случаев аутизма в каждом возрасте."
   ]
  },
  {
   "cell_type": "code",
   "execution_count": 99,
   "id": "82f3a236-2be9-4b4f-8daf-08545b64a89c",
   "metadata": {},
   "outputs": [
    {
     "data": {
      "text/plain": [
       "<AxesSubplot:xlabel='age'>"
      ]
     },
     "execution_count": 99,
     "metadata": {},
     "output_type": "execute_result"
    },
    {
     "data": {
      "image/png": "[encoded data removed]",
      "text/plain": [
       "<Figure size 1440x720 with 1 Axes>"
      ]
     },
     "metadata": {
      "needs_background": "light"
     },
     "output_type": "display_data"
    }
   ],
   "source": [
    "f,ax=plt.subplots(1,1,figsize=(20,10))\n",
    "\n",
    "freq_asd_per_age =pd.crosstab(data[\"age\"], data[\"ASD\"])\n",
    "freq_asd_per_age.div(freq_asd_per_age.sum(1), axis=0).plot.bar(ax=ax, stacked=True)\n",
    "\n",
    "#plt.show()"
   ]
  },
  {
   "cell_type": "markdown",
   "id": "49d8bfbf-4d8e-41d3-bc5c-4c60e348c621",
   "metadata": {},
   "source": [
    "После того как возраст переведен в число можно построить  violinplots:"
   ]
  },
  {
   "cell_type": "code",
   "execution_count": 100,
   "id": "4e2b7edb-dfc5-4949-aab6-b3e8c8b3dac8",
   "metadata": {},
   "outputs": [
    {
     "data": {
      "image/png": "[encoded data removed]",
      "text/plain": [
       "<Figure size 1296x576 with 2 Axes>"
      ]
     },
     "metadata": {
      "needs_background": "light"
     },
     "output_type": "display_data"
    }
   ],
   "source": [
    "f,ax=plt.subplots(1,2,figsize=(18,8))\n",
    "sns.violinplot(\"relation\",\"age\", hue=\"ASD\", data=data,split=True,ax=ax[0])\n",
    "ax[0].set_title('Relation and age vs ASD')\n",
    "ax[0].set_yticks(range(0,70,5))\n",
    "sns.violinplot(\"gender\",\"age\", hue=\"ASD\", data=data,split=True,ax=ax[1])\n",
    "ax[1].set_title('Gender and age vs ASD')\n",
    "ax[1].set_yticks(range(0,70,5))\n",
    "plt.show()"
   ]
  },
  {
   "cell_type": "markdown",
   "id": "708be1cc-a223-4702-a469-7745341e91f8",
   "metadata": {},
   "source": [
    "Из-за неравномерности мне трудно сделать какие-либо выводы из таких графиков. Попробуем разбить всех опрошенных на 6 корзин по 8 возрастов в каждой. "
   ]
  },
  {
   "cell_type": "code",
   "execution_count": 101,
   "id": "dbe76172-8bb9-460e-9c1a-2241e27ba9b2",
   "metadata": {},
   "outputs": [
    {
     "data": {
      "text/html": [
       "<div>\n",
       "<style scoped>\n",
       "    .dataframe tbody tr th:only-of-type {\n",
       "        vertical-align: middle;\n",
       "    }\n",
       "\n",
       "    .dataframe tbody tr th {\n",
       "        vertical-align: top;\n",
       "    }\n",
       "\n",
       "    .dataframe thead th {\n",
       "        text-align: right;\n",
       "    }\n",
       "</style>\n",
       "<table border=\"1\" class=\"dataframe\">\n",
       "  <thead>\n",
       "    <tr style=\"text-align: right;\">\n",
       "      <th></th>\n",
       "      <th>0</th>\n",
       "      <th>1</th>\n",
       "      <th>2</th>\n",
       "      <th>3</th>\n",
       "      <th>4</th>\n",
       "    </tr>\n",
       "  </thead>\n",
       "  <tbody>\n",
       "    <tr>\n",
       "      <th>A1_Score</th>\n",
       "      <td>1</td>\n",
       "      <td>1</td>\n",
       "      <td>1</td>\n",
       "      <td>1</td>\n",
       "      <td>1</td>\n",
       "    </tr>\n",
       "    <tr>\n",
       "      <th>A2_Score</th>\n",
       "      <td>1</td>\n",
       "      <td>1</td>\n",
       "      <td>1</td>\n",
       "      <td>1</td>\n",
       "      <td>0</td>\n",
       "    </tr>\n",
       "    <tr>\n",
       "      <th>A3_Score</th>\n",
       "      <td>1</td>\n",
       "      <td>0</td>\n",
       "      <td>0</td>\n",
       "      <td>0</td>\n",
       "      <td>0</td>\n",
       "    </tr>\n",
       "    <tr>\n",
       "      <th>A4_Score</th>\n",
       "      <td>1</td>\n",
       "      <td>1</td>\n",
       "      <td>1</td>\n",
       "      <td>1</td>\n",
       "      <td>0</td>\n",
       "    </tr>\n",
       "    <tr>\n",
       "      <th>A5_Score</th>\n",
       "      <td>0</td>\n",
       "      <td>0</td>\n",
       "      <td>1</td>\n",
       "      <td>0</td>\n",
       "      <td>0</td>\n",
       "    </tr>\n",
       "    <tr>\n",
       "      <th>A6_Score</th>\n",
       "      <td>0</td>\n",
       "      <td>0</td>\n",
       "      <td>0</td>\n",
       "      <td>0</td>\n",
       "      <td>0</td>\n",
       "    </tr>\n",
       "    <tr>\n",
       "      <th>A7_Score</th>\n",
       "      <td>1</td>\n",
       "      <td>0</td>\n",
       "      <td>1</td>\n",
       "      <td>1</td>\n",
       "      <td>0</td>\n",
       "    </tr>\n",
       "    <tr>\n",
       "      <th>A8_Score</th>\n",
       "      <td>1</td>\n",
       "      <td>1</td>\n",
       "      <td>1</td>\n",
       "      <td>1</td>\n",
       "      <td>1</td>\n",
       "    </tr>\n",
       "    <tr>\n",
       "      <th>A9_Score</th>\n",
       "      <td>0</td>\n",
       "      <td>0</td>\n",
       "      <td>1</td>\n",
       "      <td>0</td>\n",
       "      <td>0</td>\n",
       "    </tr>\n",
       "    <tr>\n",
       "      <th>A10_Score</th>\n",
       "      <td>0</td>\n",
       "      <td>1</td>\n",
       "      <td>1</td>\n",
       "      <td>1</td>\n",
       "      <td>0</td>\n",
       "    </tr>\n",
       "    <tr>\n",
       "      <th>age</th>\n",
       "      <td>26.0</td>\n",
       "      <td>24.0</td>\n",
       "      <td>27.0</td>\n",
       "      <td>35.0</td>\n",
       "      <td>40.0</td>\n",
       "    </tr>\n",
       "    <tr>\n",
       "      <th>gender</th>\n",
       "      <td>f</td>\n",
       "      <td>m</td>\n",
       "      <td>m</td>\n",
       "      <td>f</td>\n",
       "      <td>f</td>\n",
       "    </tr>\n",
       "    <tr>\n",
       "      <th>ethnicity</th>\n",
       "      <td>White-European</td>\n",
       "      <td>Latino</td>\n",
       "      <td>Latino</td>\n",
       "      <td>White-European</td>\n",
       "      <td>'Middle Eastern '</td>\n",
       "    </tr>\n",
       "    <tr>\n",
       "      <th>jaundice</th>\n",
       "      <td>no</td>\n",
       "      <td>no</td>\n",
       "      <td>yes</td>\n",
       "      <td>no</td>\n",
       "      <td>no</td>\n",
       "    </tr>\n",
       "    <tr>\n",
       "      <th>autism</th>\n",
       "      <td>no</td>\n",
       "      <td>yes</td>\n",
       "      <td>yes</td>\n",
       "      <td>yes</td>\n",
       "      <td>no</td>\n",
       "    </tr>\n",
       "    <tr>\n",
       "      <th>contry_of_res</th>\n",
       "      <td>'United States'</td>\n",
       "      <td>Brazil</td>\n",
       "      <td>Spain</td>\n",
       "      <td>'United States'</td>\n",
       "      <td>Egypt</td>\n",
       "    </tr>\n",
       "    <tr>\n",
       "      <th>used_app_before</th>\n",
       "      <td>no</td>\n",
       "      <td>no</td>\n",
       "      <td>no</td>\n",
       "      <td>no</td>\n",
       "      <td>no</td>\n",
       "    </tr>\n",
       "    <tr>\n",
       "      <th>result</th>\n",
       "      <td>6</td>\n",
       "      <td>5</td>\n",
       "      <td>8</td>\n",
       "      <td>6</td>\n",
       "      <td>2</td>\n",
       "    </tr>\n",
       "    <tr>\n",
       "      <th>age_desc</th>\n",
       "      <td>'18 and more'</td>\n",
       "      <td>'18 and more'</td>\n",
       "      <td>'18 and more'</td>\n",
       "      <td>'18 and more'</td>\n",
       "      <td>'18 and more'</td>\n",
       "    </tr>\n",
       "    <tr>\n",
       "      <th>relation</th>\n",
       "      <td>Self</td>\n",
       "      <td>Self</td>\n",
       "      <td>Relative</td>\n",
       "      <td>Self</td>\n",
       "      <td>Others</td>\n",
       "    </tr>\n",
       "    <tr>\n",
       "      <th>ASD</th>\n",
       "      <td>NO</td>\n",
       "      <td>NO</td>\n",
       "      <td>YES</td>\n",
       "      <td>NO</td>\n",
       "      <td>NO</td>\n",
       "    </tr>\n",
       "    <tr>\n",
       "      <th>continent</th>\n",
       "      <td>NA</td>\n",
       "      <td>SA</td>\n",
       "      <td>EU</td>\n",
       "      <td>NA</td>\n",
       "      <td>AF</td>\n",
       "    </tr>\n",
       "    <tr>\n",
       "      <th>asd</th>\n",
       "      <td>0</td>\n",
       "      <td>0</td>\n",
       "      <td>1</td>\n",
       "      <td>0</td>\n",
       "      <td>0</td>\n",
       "    </tr>\n",
       "    <tr>\n",
       "      <th>rel</th>\n",
       "      <td>1</td>\n",
       "      <td>1</td>\n",
       "      <td>2</td>\n",
       "      <td>1</td>\n",
       "      <td>0</td>\n",
       "    </tr>\n",
       "    <tr>\n",
       "      <th>age_band</th>\n",
       "      <td>1</td>\n",
       "      <td>0</td>\n",
       "      <td>1</td>\n",
       "      <td>2</td>\n",
       "      <td>2</td>\n",
       "    </tr>\n",
       "  </tbody>\n",
       "</table>\n",
       "</div>"
      ],
      "text/plain": [
       "                               0              1              2  \\\n",
       "A1_Score                       1              1              1   \n",
       "A2_Score                       1              1              1   \n",
       "A3_Score                       1              0              0   \n",
       "A4_Score                       1              1              1   \n",
       "A5_Score                       0              0              1   \n",
       "A6_Score                       0              0              0   \n",
       "A7_Score                       1              0              1   \n",
       "A8_Score                       1              1              1   \n",
       "A9_Score                       0              0              1   \n",
       "A10_Score                      0              1              1   \n",
       "age                         26.0           24.0           27.0   \n",
       "gender                         f              m              m   \n",
       "ethnicity         White-European         Latino         Latino   \n",
       "jaundice                      no             no            yes   \n",
       "autism                        no            yes            yes   \n",
       "contry_of_res    'United States'         Brazil          Spain   \n",
       "used_app_before               no             no             no   \n",
       "result                         6              5              8   \n",
       "age_desc           '18 and more'  '18 and more'  '18 and more'   \n",
       "relation                    Self           Self       Relative   \n",
       "ASD                           NO             NO            YES   \n",
       "continent                     NA             SA             EU   \n",
       "asd                            0              0              1   \n",
       "rel                            1              1              2   \n",
       "age_band                       1              0              1   \n",
       "\n",
       "                               3                  4  \n",
       "A1_Score                       1                  1  \n",
       "A2_Score                       1                  0  \n",
       "A3_Score                       0                  0  \n",
       "A4_Score                       1                  0  \n",
       "A5_Score                       0                  0  \n",
       "A6_Score                       0                  0  \n",
       "A7_Score                       1                  0  \n",
       "A8_Score                       1                  1  \n",
       "A9_Score                       0                  0  \n",
       "A10_Score                      1                  0  \n",
       "age                         35.0               40.0  \n",
       "gender                         f                  f  \n",
       "ethnicity         White-European  'Middle Eastern '  \n",
       "jaundice                      no                 no  \n",
       "autism                       yes                 no  \n",
       "contry_of_res    'United States'              Egypt  \n",
       "used_app_before               no                 no  \n",
       "result                         6                  2  \n",
       "age_desc           '18 and more'      '18 and more'  \n",
       "relation                    Self             Others  \n",
       "ASD                           NO                 NO  \n",
       "continent                     NA                 AF  \n",
       "asd                            0                  0  \n",
       "rel                            1                  0  \n",
       "age_band                       2                  2  "
      ]
     },
     "execution_count": 101,
     "metadata": {},
     "output_type": "execute_result"
    }
   ],
   "source": [
    "def age_to_bins(nof_bins):\n",
    "    delta = nof_ages / nof_bins\n",
    "\n",
    "    data['age_band']=0\n",
    "    for i in range(1, nof_bins):\n",
    "        data.loc[(data['age']>=17 + i*delta)&(data['age']< 17 + (i+1)*delta),'age_band']= i\n",
    "        \n",
    "age_to_bins(6)\n",
    "data.head().T"
   ]
  },
  {
   "cell_type": "code",
   "execution_count": 102,
   "id": "235955d0-6f12-47d7-9dfa-b4be08042e88",
   "metadata": {},
   "outputs": [
    {
     "data": {
      "image/png": "[encoded data removed]",
      "text/plain": [
       "<Figure size 360x360 with 1 Axes>"
      ]
     },
     "metadata": {
      "needs_background": "light"
     },
     "output_type": "display_data"
    }
   ],
   "source": [
    "sns.factorplot('age_band','asd',data=data)\n",
    "plt.show()"
   ]
  },
  {
   "cell_type": "markdown",
   "id": "0dc2b527-ec48-4791-ac4a-eaa5332b95af",
   "metadata": {},
   "source": [
    "Похоже, что имеет смысл сократить число корзин до 3:"
   ]
  },
  {
   "cell_type": "code",
   "execution_count": 103,
   "id": "f18de3e7-5f25-4e0e-a3e8-403f86ed60af",
   "metadata": {},
   "outputs": [
    {
     "data": {
      "text/html": [
       "<div>\n",
       "<style scoped>\n",
       "    .dataframe tbody tr th:only-of-type {\n",
       "        vertical-align: middle;\n",
       "    }\n",
       "\n",
       "    .dataframe tbody tr th {\n",
       "        vertical-align: top;\n",
       "    }\n",
       "\n",
       "    .dataframe thead th {\n",
       "        text-align: right;\n",
       "    }\n",
       "</style>\n",
       "<table border=\"1\" class=\"dataframe\">\n",
       "  <thead>\n",
       "    <tr style=\"text-align: right;\">\n",
       "      <th></th>\n",
       "      <th>0</th>\n",
       "      <th>1</th>\n",
       "      <th>2</th>\n",
       "      <th>3</th>\n",
       "      <th>4</th>\n",
       "    </tr>\n",
       "  </thead>\n",
       "  <tbody>\n",
       "    <tr>\n",
       "      <th>A1_Score</th>\n",
       "      <td>1</td>\n",
       "      <td>1</td>\n",
       "      <td>1</td>\n",
       "      <td>1</td>\n",
       "      <td>1</td>\n",
       "    </tr>\n",
       "    <tr>\n",
       "      <th>A2_Score</th>\n",
       "      <td>1</td>\n",
       "      <td>1</td>\n",
       "      <td>1</td>\n",
       "      <td>1</td>\n",
       "      <td>0</td>\n",
       "    </tr>\n",
       "    <tr>\n",
       "      <th>A3_Score</th>\n",
       "      <td>1</td>\n",
       "      <td>0</td>\n",
       "      <td>0</td>\n",
       "      <td>0</td>\n",
       "      <td>0</td>\n",
       "    </tr>\n",
       "    <tr>\n",
       "      <th>A4_Score</th>\n",
       "      <td>1</td>\n",
       "      <td>1</td>\n",
       "      <td>1</td>\n",
       "      <td>1</td>\n",
       "      <td>0</td>\n",
       "    </tr>\n",
       "    <tr>\n",
       "      <th>A5_Score</th>\n",
       "      <td>0</td>\n",
       "      <td>0</td>\n",
       "      <td>1</td>\n",
       "      <td>0</td>\n",
       "      <td>0</td>\n",
       "    </tr>\n",
       "    <tr>\n",
       "      <th>A6_Score</th>\n",
       "      <td>0</td>\n",
       "      <td>0</td>\n",
       "      <td>0</td>\n",
       "      <td>0</td>\n",
       "      <td>0</td>\n",
       "    </tr>\n",
       "    <tr>\n",
       "      <th>A7_Score</th>\n",
       "      <td>1</td>\n",
       "      <td>0</td>\n",
       "      <td>1</td>\n",
       "      <td>1</td>\n",
       "      <td>0</td>\n",
       "    </tr>\n",
       "    <tr>\n",
       "      <th>A8_Score</th>\n",
       "      <td>1</td>\n",
       "      <td>1</td>\n",
       "      <td>1</td>\n",
       "      <td>1</td>\n",
       "      <td>1</td>\n",
       "    </tr>\n",
       "    <tr>\n",
       "      <th>A9_Score</th>\n",
       "      <td>0</td>\n",
       "      <td>0</td>\n",
       "      <td>1</td>\n",
       "      <td>0</td>\n",
       "      <td>0</td>\n",
       "    </tr>\n",
       "    <tr>\n",
       "      <th>A10_Score</th>\n",
       "      <td>0</td>\n",
       "      <td>1</td>\n",
       "      <td>1</td>\n",
       "      <td>1</td>\n",
       "      <td>0</td>\n",
       "    </tr>\n",
       "    <tr>\n",
       "      <th>age</th>\n",
       "      <td>26.0</td>\n",
       "      <td>24.0</td>\n",
       "      <td>27.0</td>\n",
       "      <td>35.0</td>\n",
       "      <td>40.0</td>\n",
       "    </tr>\n",
       "    <tr>\n",
       "      <th>gender</th>\n",
       "      <td>f</td>\n",
       "      <td>m</td>\n",
       "      <td>m</td>\n",
       "      <td>f</td>\n",
       "      <td>f</td>\n",
       "    </tr>\n",
       "    <tr>\n",
       "      <th>ethnicity</th>\n",
       "      <td>White-European</td>\n",
       "      <td>Latino</td>\n",
       "      <td>Latino</td>\n",
       "      <td>White-European</td>\n",
       "      <td>'Middle Eastern '</td>\n",
       "    </tr>\n",
       "    <tr>\n",
       "      <th>jaundice</th>\n",
       "      <td>no</td>\n",
       "      <td>no</td>\n",
       "      <td>yes</td>\n",
       "      <td>no</td>\n",
       "      <td>no</td>\n",
       "    </tr>\n",
       "    <tr>\n",
       "      <th>autism</th>\n",
       "      <td>no</td>\n",
       "      <td>yes</td>\n",
       "      <td>yes</td>\n",
       "      <td>yes</td>\n",
       "      <td>no</td>\n",
       "    </tr>\n",
       "    <tr>\n",
       "      <th>contry_of_res</th>\n",
       "      <td>'United States'</td>\n",
       "      <td>Brazil</td>\n",
       "      <td>Spain</td>\n",
       "      <td>'United States'</td>\n",
       "      <td>Egypt</td>\n",
       "    </tr>\n",
       "    <tr>\n",
       "      <th>used_app_before</th>\n",
       "      <td>no</td>\n",
       "      <td>no</td>\n",
       "      <td>no</td>\n",
       "      <td>no</td>\n",
       "      <td>no</td>\n",
       "    </tr>\n",
       "    <tr>\n",
       "      <th>result</th>\n",
       "      <td>6</td>\n",
       "      <td>5</td>\n",
       "      <td>8</td>\n",
       "      <td>6</td>\n",
       "      <td>2</td>\n",
       "    </tr>\n",
       "    <tr>\n",
       "      <th>age_desc</th>\n",
       "      <td>'18 and more'</td>\n",
       "      <td>'18 and more'</td>\n",
       "      <td>'18 and more'</td>\n",
       "      <td>'18 and more'</td>\n",
       "      <td>'18 and more'</td>\n",
       "    </tr>\n",
       "    <tr>\n",
       "      <th>relation</th>\n",
       "      <td>Self</td>\n",
       "      <td>Self</td>\n",
       "      <td>Relative</td>\n",
       "      <td>Self</td>\n",
       "      <td>Others</td>\n",
       "    </tr>\n",
       "    <tr>\n",
       "      <th>ASD</th>\n",
       "      <td>NO</td>\n",
       "      <td>NO</td>\n",
       "      <td>YES</td>\n",
       "      <td>NO</td>\n",
       "      <td>NO</td>\n",
       "    </tr>\n",
       "    <tr>\n",
       "      <th>continent</th>\n",
       "      <td>NA</td>\n",
       "      <td>SA</td>\n",
       "      <td>EU</td>\n",
       "      <td>NA</td>\n",
       "      <td>AF</td>\n",
       "    </tr>\n",
       "    <tr>\n",
       "      <th>asd</th>\n",
       "      <td>0</td>\n",
       "      <td>0</td>\n",
       "      <td>1</td>\n",
       "      <td>0</td>\n",
       "      <td>0</td>\n",
       "    </tr>\n",
       "    <tr>\n",
       "      <th>rel</th>\n",
       "      <td>1</td>\n",
       "      <td>1</td>\n",
       "      <td>2</td>\n",
       "      <td>1</td>\n",
       "      <td>0</td>\n",
       "    </tr>\n",
       "    <tr>\n",
       "      <th>age_band</th>\n",
       "      <td>0</td>\n",
       "      <td>0</td>\n",
       "      <td>0</td>\n",
       "      <td>1</td>\n",
       "      <td>1</td>\n",
       "    </tr>\n",
       "  </tbody>\n",
       "</table>\n",
       "</div>"
      ],
      "text/plain": [
       "                               0              1              2  \\\n",
       "A1_Score                       1              1              1   \n",
       "A2_Score                       1              1              1   \n",
       "A3_Score                       1              0              0   \n",
       "A4_Score                       1              1              1   \n",
       "A5_Score                       0              0              1   \n",
       "A6_Score                       0              0              0   \n",
       "A7_Score                       1              0              1   \n",
       "A8_Score                       1              1              1   \n",
       "A9_Score                       0              0              1   \n",
       "A10_Score                      0              1              1   \n",
       "age                         26.0           24.0           27.0   \n",
       "gender                         f              m              m   \n",
       "ethnicity         White-European         Latino         Latino   \n",
       "jaundice                      no             no            yes   \n",
       "autism                        no            yes            yes   \n",
       "contry_of_res    'United States'         Brazil          Spain   \n",
       "used_app_before               no             no             no   \n",
       "result                         6              5              8   \n",
       "age_desc           '18 and more'  '18 and more'  '18 and more'   \n",
       "relation                    Self           Self       Relative   \n",
       "ASD                           NO             NO            YES   \n",
       "continent                     NA             SA             EU   \n",
       "asd                            0              0              1   \n",
       "rel                            1              1              2   \n",
       "age_band                       0              0              0   \n",
       "\n",
       "                               3                  4  \n",
       "A1_Score                       1                  1  \n",
       "A2_Score                       1                  0  \n",
       "A3_Score                       0                  0  \n",
       "A4_Score                       1                  0  \n",
       "A5_Score                       0                  0  \n",
       "A6_Score                       0                  0  \n",
       "A7_Score                       1                  0  \n",
       "A8_Score                       1                  1  \n",
       "A9_Score                       0                  0  \n",
       "A10_Score                      1                  0  \n",
       "age                         35.0               40.0  \n",
       "gender                         f                  f  \n",
       "ethnicity         White-European  'Middle Eastern '  \n",
       "jaundice                      no                 no  \n",
       "autism                       yes                 no  \n",
       "contry_of_res    'United States'              Egypt  \n",
       "used_app_before               no                 no  \n",
       "result                         6                  2  \n",
       "age_desc           '18 and more'      '18 and more'  \n",
       "relation                    Self             Others  \n",
       "ASD                           NO                 NO  \n",
       "continent                     NA                 AF  \n",
       "asd                            0                  0  \n",
       "rel                            1                  0  \n",
       "age_band                       1                  1  "
      ]
     },
     "execution_count": 103,
     "metadata": {},
     "output_type": "execute_result"
    }
   ],
   "source": [
    "age_to_bins(3)\n",
    "data.head().T"
   ]
  },
  {
   "cell_type": "code",
   "execution_count": 104,
   "id": "67f7cc61-5e89-47ee-96bc-0269205d32f0",
   "metadata": {},
   "outputs": [
    {
     "data": {
      "image/png": "[encoded data removed]",
      "text/plain": [
       "<Figure size 360x360 with 1 Axes>"
      ]
     },
     "metadata": {
      "needs_background": "light"
     },
     "output_type": "display_data"
    }
   ],
   "source": [
    "sns.factorplot('age_band','asd',data=data)\n",
    "plt.show()"
   ]
  },
  {
   "cell_type": "markdown",
   "id": "c28eb3f8-c174-46dd-a556-4109b5e4a3db",
   "metadata": {},
   "source": [
    "Поскольку мы ввели корзины, исходное поле  **age** можно будет удалить."
   ]
  },
  {
   "cell_type": "markdown",
   "id": "8674e17a-a919-44b5-a7f0-e0761292a7a5",
   "metadata": {
    "tags": []
   },
   "source": [
    "## Used_app_before"
   ]
  },
  {
   "cell_type": "code",
   "execution_count": 105,
   "id": "64d284f7-9f47-435e-a255-7185667c225d",
   "metadata": {},
   "outputs": [
    {
     "data": {
      "text/html": [
       "<div>\n",
       "<style scoped>\n",
       "    .dataframe tbody tr th:only-of-type {\n",
       "        vertical-align: middle;\n",
       "    }\n",
       "\n",
       "    .dataframe tbody tr th {\n",
       "        vertical-align: top;\n",
       "    }\n",
       "\n",
       "    .dataframe thead th {\n",
       "        text-align: right;\n",
       "    }\n",
       "</style>\n",
       "<table border=\"1\" class=\"dataframe\">\n",
       "  <thead>\n",
       "    <tr style=\"text-align: right;\">\n",
       "      <th>used_app_before</th>\n",
       "      <th>no</th>\n",
       "      <th>yes</th>\n",
       "    </tr>\n",
       "    <tr>\n",
       "      <th>ASD</th>\n",
       "      <th></th>\n",
       "      <th></th>\n",
       "    </tr>\n",
       "  </thead>\n",
       "  <tbody>\n",
       "    <tr>\n",
       "      <th>NO</th>\n",
       "      <td>508</td>\n",
       "      <td>7</td>\n",
       "    </tr>\n",
       "    <tr>\n",
       "      <th>YES</th>\n",
       "      <td>184</td>\n",
       "      <td>5</td>\n",
       "    </tr>\n",
       "  </tbody>\n",
       "</table>\n",
       "</div>"
      ],
      "text/plain": [
       "used_app_before   no  yes\n",
       "ASD                      \n",
       "NO               508    7\n",
       "YES              184    5"
      ]
     },
     "execution_count": 105,
     "metadata": {},
     "output_type": "execute_result"
    }
   ],
   "source": [
    "pd.crosstab(data[\"ASD\"], data[\"used_app_before\"])"
   ]
  },
  {
   "cell_type": "markdown",
   "id": "3b450ef8-45b0-4333-a213-8ff5501c1faf",
   "metadata": {},
   "source": [
    "Нет какой-либо значимой связи с тем, был ли у человека опыт использования скринингового приложения или нет.\n",
    "Это поле - кандидат на удаление."
   ]
  },
  {
   "cell_type": "markdown",
   "id": "c0da46a6-1817-4b11-952f-4132094f1b5f",
   "metadata": {},
   "source": [
    "# AQs"
   ]
  },
  {
   "cell_type": "markdown",
   "id": "71a51336-681f-4f02-9ee9-3426b24ed9fb",
   "metadata": {},
   "source": [
    "Поведенческие характеристики [AQ10](https://docs.autismresearchcentre.com/tests/AQ10.pdf) уже представляют собой бинарные переменные. "
   ]
  },
  {
   "cell_type": "markdown",
   "id": "4b21a848-238c-471b-b328-cc66bfbc76b0",
   "metadata": {
    "tags": []
   },
   "source": [
    "### Верификация данных"
   ]
  },
  {
   "cell_type": "markdown",
   "id": "1bb03ea7-49ef-40e4-97c5-0c91c09c517b",
   "metadata": {},
   "source": [
    "Проверим утверждение, что поле result представляет собой сумму полей A*_Score:"
   ]
  },
  {
   "cell_type": "code",
   "execution_count": 106,
   "id": "b1b60483-53a2-49b9-83ca-31f3b297874d",
   "metadata": {},
   "outputs": [
    {
     "data": {
      "text/plain": [
       "True"
      ]
     },
     "execution_count": 106,
     "metadata": {},
     "output_type": "execute_result"
    }
   ],
   "source": [
    "any(data[data.columns[0:10]].sum(axis=1)==data[\"result\"])"
   ]
  },
  {
   "cell_type": "markdown",
   "id": "bb8ae0f9-650a-46b5-b0b4-2318514d1695",
   "metadata": {},
   "source": [
    "_Вывод:_\n",
    "\n",
    "Данные корректны\n",
    "\n",
    "Интересно, в равной ли степени, каждое из этих полей влияет на результат. Построим матрицу корреляций:"
   ]
  },
  {
   "cell_type": "code",
   "execution_count": 107,
   "id": "50177b59-234b-4401-a7ee-a59e7531a44d",
   "metadata": {},
   "outputs": [
    {
     "data": {
      "image/png": "[encoded data removed]",
      "text/plain": [
       "<Figure size 720x576 with 2 Axes>"
      ]
     },
     "metadata": {
      "needs_background": "light"
     },
     "output_type": "display_data"
    }
   ],
   "source": [
    "sns.heatmap(data.corr(),annot=True,cmap='RdYlGn',linewidths=0.2) #data.corr()-->correlation matrix\n",
    "fig=plt.gcf()\n",
    "fig.set_size_inches(10,8)\n",
    "plt.show()"
   ]
  },
  {
   "cell_type": "markdown",
   "id": "148dda6e-2d5c-4aae-8912-caae47a619c6",
   "metadata": {},
   "source": [
    "Значения корреляции между **A*_Score** и **result** близки к 1/2.\n",
    "Значит, эти признаки важны.\n",
    "\n",
    "Интересно, если поставить задачу регрессии предсказания значения **result** по поведенческим характеристикам **A*_Store***и решать ее линейной регрессией, насколько близки будут коэффициенты к 1?\n",
    "\n",
    "А **asd** и **result** высоко коррелируют между собой."
   ]
  },
  {
   "cell_type": "markdown",
   "id": "5b098047-546d-4beb-b5ec-3ea5156f05c3",
   "metadata": {},
   "source": [
    "### Result"
   ]
  },
  {
   "cell_type": "code",
   "execution_count": 108,
   "id": "d71a0558-910a-43a6-a6bc-ecc11b70666f",
   "metadata": {},
   "outputs": [
    {
     "data": {
      "text/html": [
       "<div>\n",
       "<style scoped>\n",
       "    .dataframe tbody tr th:only-of-type {\n",
       "        vertical-align: middle;\n",
       "    }\n",
       "\n",
       "    .dataframe tbody tr th {\n",
       "        vertical-align: top;\n",
       "    }\n",
       "\n",
       "    .dataframe thead th {\n",
       "        text-align: right;\n",
       "    }\n",
       "</style>\n",
       "<table border=\"1\" class=\"dataframe\">\n",
       "  <thead>\n",
       "    <tr style=\"text-align: right;\">\n",
       "      <th>ASD</th>\n",
       "      <th>NO</th>\n",
       "      <th>YES</th>\n",
       "    </tr>\n",
       "    <tr>\n",
       "      <th>result</th>\n",
       "      <th></th>\n",
       "      <th></th>\n",
       "    </tr>\n",
       "  </thead>\n",
       "  <tbody>\n",
       "    <tr>\n",
       "      <th>False</th>\n",
       "      <td>515</td>\n",
       "      <td>0</td>\n",
       "    </tr>\n",
       "    <tr>\n",
       "      <th>True</th>\n",
       "      <td>0</td>\n",
       "      <td>189</td>\n",
       "    </tr>\n",
       "  </tbody>\n",
       "</table>\n",
       "</div>"
      ],
      "text/plain": [
       "ASD      NO  YES\n",
       "result          \n",
       "False   515    0\n",
       "True      0  189"
      ]
     },
     "execution_count": 108,
     "metadata": {},
     "output_type": "execute_result"
    }
   ],
   "source": [
    "pd.crosstab(data[\"result\"]>=7, data[\"ASD\"])"
   ]
  },
  {
   "cell_type": "code",
   "execution_count": 109,
   "id": "29a30d40-d892-43ab-82c6-5479e4d35492",
   "metadata": {},
   "outputs": [
    {
     "data": {
      "text/plain": [
       "<seaborn.axisgrid.FacetGrid at 0x2320e500760>"
      ]
     },
     "execution_count": 109,
     "metadata": {},
     "output_type": "execute_result"
    },
    {
     "data": {
      "image/png": "[encoded data removed]",
      "text/plain": [
       "<Figure size 360x360 with 1 Axes>"
      ]
     },
     "metadata": {
      "needs_background": "light"
     },
     "output_type": "display_data"
    }
   ],
   "source": [
    "sns.factorplot(\"result\", \"asd\", data=data)"
   ]
  },
  {
   "cell_type": "markdown",
   "id": "5034d847-7933-49c4-a2f1-8c59416a8f47",
   "metadata": {},
   "source": [
    "Вывод: все данные по сумме баллов опросника можно разделить на 2 категории:\n",
    " - result <= 6: 100% не страдают аутизмом\n",
    " - result > 6: 100% имеют расстройства аутестического спектра\n",
    " \n",
    " Интересно, что граничное значение 6 для данных трактуется, как отсутствие аутизма. В то время как в [документе](https://docs.autismresearchcentre.com/tests/AQ10.pdf) - это повод пройти дополнительное обследование. При достаточной количестве данных было бы интересно рассмотреть именно этот граничный случай. Как индивидуальные характеристики влияют на наличие аутизма при result == 6? \n",
    "\n",
    " Но пока получается, что что значение **asd** практически однозначно определяется величиной поля **result**, индивидуальные характеристики не влияют на результат, а все поведенческие характеристики влияют на результат в равной степени.\n",
    "\n",
    "Возможно, что есть какая-то корреляция между индивидуальными и поведенческими характеристиками?\n",
    "Тогда интересно было бы рассмотреть задачу регрессии для предсказания значения **result** только по индивидуальным характеристикам.\n",
    " "
   ]
  },
  {
   "cell_type": "markdown",
   "id": "722362fc-476a-4b83-9c04-e8be207d4271",
   "metadata": {},
   "source": [
    "## Конвертация бинарных признаков в числовые"
   ]
  },
  {
   "cell_type": "code",
   "execution_count": 110,
   "id": "6df2ade5-f7e9-427a-8518-da0affe7854e",
   "metadata": {},
   "outputs": [
    {
     "data": {
      "text/html": [
       "<div>\n",
       "<style scoped>\n",
       "    .dataframe tbody tr th:only-of-type {\n",
       "        vertical-align: middle;\n",
       "    }\n",
       "\n",
       "    .dataframe tbody tr th {\n",
       "        vertical-align: top;\n",
       "    }\n",
       "\n",
       "    .dataframe thead th {\n",
       "        text-align: right;\n",
       "    }\n",
       "</style>\n",
       "<table border=\"1\" class=\"dataframe\">\n",
       "  <thead>\n",
       "    <tr style=\"text-align: right;\">\n",
       "      <th></th>\n",
       "      <th>0</th>\n",
       "      <th>1</th>\n",
       "      <th>2</th>\n",
       "    </tr>\n",
       "  </thead>\n",
       "  <tbody>\n",
       "    <tr>\n",
       "      <th>A1_Score</th>\n",
       "      <td>1</td>\n",
       "      <td>1</td>\n",
       "      <td>1</td>\n",
       "    </tr>\n",
       "    <tr>\n",
       "      <th>A2_Score</th>\n",
       "      <td>1</td>\n",
       "      <td>1</td>\n",
       "      <td>1</td>\n",
       "    </tr>\n",
       "    <tr>\n",
       "      <th>A3_Score</th>\n",
       "      <td>1</td>\n",
       "      <td>0</td>\n",
       "      <td>0</td>\n",
       "    </tr>\n",
       "    <tr>\n",
       "      <th>A4_Score</th>\n",
       "      <td>1</td>\n",
       "      <td>1</td>\n",
       "      <td>1</td>\n",
       "    </tr>\n",
       "    <tr>\n",
       "      <th>A5_Score</th>\n",
       "      <td>0</td>\n",
       "      <td>0</td>\n",
       "      <td>1</td>\n",
       "    </tr>\n",
       "    <tr>\n",
       "      <th>A6_Score</th>\n",
       "      <td>0</td>\n",
       "      <td>0</td>\n",
       "      <td>0</td>\n",
       "    </tr>\n",
       "    <tr>\n",
       "      <th>A7_Score</th>\n",
       "      <td>1</td>\n",
       "      <td>0</td>\n",
       "      <td>1</td>\n",
       "    </tr>\n",
       "    <tr>\n",
       "      <th>A8_Score</th>\n",
       "      <td>1</td>\n",
       "      <td>1</td>\n",
       "      <td>1</td>\n",
       "    </tr>\n",
       "    <tr>\n",
       "      <th>A9_Score</th>\n",
       "      <td>0</td>\n",
       "      <td>0</td>\n",
       "      <td>1</td>\n",
       "    </tr>\n",
       "    <tr>\n",
       "      <th>A10_Score</th>\n",
       "      <td>0</td>\n",
       "      <td>1</td>\n",
       "      <td>1</td>\n",
       "    </tr>\n",
       "    <tr>\n",
       "      <th>age</th>\n",
       "      <td>26.0</td>\n",
       "      <td>24.0</td>\n",
       "      <td>27.0</td>\n",
       "    </tr>\n",
       "    <tr>\n",
       "      <th>gender</th>\n",
       "      <td>1</td>\n",
       "      <td>0</td>\n",
       "      <td>0</td>\n",
       "    </tr>\n",
       "    <tr>\n",
       "      <th>ethnicity</th>\n",
       "      <td>White-European</td>\n",
       "      <td>Latino</td>\n",
       "      <td>Latino</td>\n",
       "    </tr>\n",
       "    <tr>\n",
       "      <th>jaundice</th>\n",
       "      <td>0</td>\n",
       "      <td>0</td>\n",
       "      <td>1</td>\n",
       "    </tr>\n",
       "    <tr>\n",
       "      <th>autism</th>\n",
       "      <td>0</td>\n",
       "      <td>1</td>\n",
       "      <td>1</td>\n",
       "    </tr>\n",
       "    <tr>\n",
       "      <th>contry_of_res</th>\n",
       "      <td>'United States'</td>\n",
       "      <td>Brazil</td>\n",
       "      <td>Spain</td>\n",
       "    </tr>\n",
       "    <tr>\n",
       "      <th>used_app_before</th>\n",
       "      <td>no</td>\n",
       "      <td>no</td>\n",
       "      <td>no</td>\n",
       "    </tr>\n",
       "    <tr>\n",
       "      <th>result</th>\n",
       "      <td>6</td>\n",
       "      <td>5</td>\n",
       "      <td>8</td>\n",
       "    </tr>\n",
       "    <tr>\n",
       "      <th>age_desc</th>\n",
       "      <td>'18 and more'</td>\n",
       "      <td>'18 and more'</td>\n",
       "      <td>'18 and more'</td>\n",
       "    </tr>\n",
       "    <tr>\n",
       "      <th>relation</th>\n",
       "      <td>Self</td>\n",
       "      <td>Self</td>\n",
       "      <td>Relative</td>\n",
       "    </tr>\n",
       "    <tr>\n",
       "      <th>ASD</th>\n",
       "      <td>0</td>\n",
       "      <td>0</td>\n",
       "      <td>1</td>\n",
       "    </tr>\n",
       "    <tr>\n",
       "      <th>continent</th>\n",
       "      <td>NA</td>\n",
       "      <td>SA</td>\n",
       "      <td>EU</td>\n",
       "    </tr>\n",
       "    <tr>\n",
       "      <th>asd</th>\n",
       "      <td>0</td>\n",
       "      <td>0</td>\n",
       "      <td>1</td>\n",
       "    </tr>\n",
       "    <tr>\n",
       "      <th>rel</th>\n",
       "      <td>1</td>\n",
       "      <td>1</td>\n",
       "      <td>2</td>\n",
       "    </tr>\n",
       "    <tr>\n",
       "      <th>age_band</th>\n",
       "      <td>0</td>\n",
       "      <td>0</td>\n",
       "      <td>0</td>\n",
       "    </tr>\n",
       "  </tbody>\n",
       "</table>\n",
       "</div>"
      ],
      "text/plain": [
       "                               0              1              2\n",
       "A1_Score                       1              1              1\n",
       "A2_Score                       1              1              1\n",
       "A3_Score                       1              0              0\n",
       "A4_Score                       1              1              1\n",
       "A5_Score                       0              0              1\n",
       "A6_Score                       0              0              0\n",
       "A7_Score                       1              0              1\n",
       "A8_Score                       1              1              1\n",
       "A9_Score                       0              0              1\n",
       "A10_Score                      0              1              1\n",
       "age                         26.0           24.0           27.0\n",
       "gender                         1              0              0\n",
       "ethnicity         White-European         Latino         Latino\n",
       "jaundice                       0              0              1\n",
       "autism                         0              1              1\n",
       "contry_of_res    'United States'         Brazil          Spain\n",
       "used_app_before               no             no             no\n",
       "result                         6              5              8\n",
       "age_desc           '18 and more'  '18 and more'  '18 and more'\n",
       "relation                    Self           Self       Relative\n",
       "ASD                            0              0              1\n",
       "continent                     NA             SA             EU\n",
       "asd                            0              0              1\n",
       "rel                            1              1              2\n",
       "age_band                       0              0              0"
      ]
     },
     "execution_count": 110,
     "metadata": {},
     "output_type": "execute_result"
    }
   ],
   "source": [
    "data['gender'].replace(['m','f'],[0,1],inplace=True)\n",
    "data['autism'].replace(['no','yes'],[0,1],inplace=True)\n",
    "data['jaundice'].replace(['no','yes'],[0,1],inplace=True)\n",
    "data['ASD'].replace(['NO','YES'],[0,1],inplace=True)\n",
    "\n",
    "data.head(3).T"
   ]
  },
  {
   "cell_type": "markdown",
   "id": "89949691-2880-478b-96ca-341f97f37fb1",
   "metadata": {},
   "source": [
    "## Конвертация категориальных признаков"
   ]
  },
  {
   "cell_type": "markdown",
   "id": "6b53b75c-26da-4985-8b09-2b9f967ffee0",
   "metadata": {},
   "source": [
    "Ниже \n",
    "```python\n",
    "drop_first=True\n",
    "```\n",
    "нужен, чтобы избежать [ловушки фиктивных переменных](https://www.codecamp.ru/blog/dummy-variable-trap/).\n",
    "Правда, в этом случае мне не очень понятно,как тогда для новых переменных правильно интерпертировать матрицу корреляции и, например, коэффициенты в линейной регрессии?"
   ]
  },
  {
   "cell_type": "code",
   "execution_count": 111,
   "id": "e32c50d2-458b-45b4-a7b5-f885dea50c2e",
   "metadata": {},
   "outputs": [],
   "source": [
    "data = pd.get_dummies(data, columns=['relation', 'continent'], drop_first=True)"
   ]
  },
  {
   "cell_type": "code",
   "execution_count": 112,
   "id": "0da6a4e7-c5d7-4042-b688-7e4ef06d543d",
   "metadata": {},
   "outputs": [
    {
     "data": {
      "text/html": [
       "<div>\n",
       "<style scoped>\n",
       "    .dataframe tbody tr th:only-of-type {\n",
       "        vertical-align: middle;\n",
       "    }\n",
       "\n",
       "    .dataframe tbody tr th {\n",
       "        vertical-align: top;\n",
       "    }\n",
       "\n",
       "    .dataframe thead th {\n",
       "        text-align: right;\n",
       "    }\n",
       "</style>\n",
       "<table border=\"1\" class=\"dataframe\">\n",
       "  <thead>\n",
       "    <tr style=\"text-align: right;\">\n",
       "      <th></th>\n",
       "      <th>0</th>\n",
       "      <th>1</th>\n",
       "    </tr>\n",
       "  </thead>\n",
       "  <tbody>\n",
       "    <tr>\n",
       "      <th>A1_Score</th>\n",
       "      <td>1</td>\n",
       "      <td>1</td>\n",
       "    </tr>\n",
       "    <tr>\n",
       "      <th>A2_Score</th>\n",
       "      <td>1</td>\n",
       "      <td>1</td>\n",
       "    </tr>\n",
       "    <tr>\n",
       "      <th>A3_Score</th>\n",
       "      <td>1</td>\n",
       "      <td>0</td>\n",
       "    </tr>\n",
       "    <tr>\n",
       "      <th>A4_Score</th>\n",
       "      <td>1</td>\n",
       "      <td>1</td>\n",
       "    </tr>\n",
       "    <tr>\n",
       "      <th>A5_Score</th>\n",
       "      <td>0</td>\n",
       "      <td>0</td>\n",
       "    </tr>\n",
       "    <tr>\n",
       "      <th>A6_Score</th>\n",
       "      <td>0</td>\n",
       "      <td>0</td>\n",
       "    </tr>\n",
       "    <tr>\n",
       "      <th>A7_Score</th>\n",
       "      <td>1</td>\n",
       "      <td>0</td>\n",
       "    </tr>\n",
       "    <tr>\n",
       "      <th>A8_Score</th>\n",
       "      <td>1</td>\n",
       "      <td>1</td>\n",
       "    </tr>\n",
       "    <tr>\n",
       "      <th>A9_Score</th>\n",
       "      <td>0</td>\n",
       "      <td>0</td>\n",
       "    </tr>\n",
       "    <tr>\n",
       "      <th>A10_Score</th>\n",
       "      <td>0</td>\n",
       "      <td>1</td>\n",
       "    </tr>\n",
       "    <tr>\n",
       "      <th>age</th>\n",
       "      <td>26.0</td>\n",
       "      <td>24.0</td>\n",
       "    </tr>\n",
       "    <tr>\n",
       "      <th>gender</th>\n",
       "      <td>1</td>\n",
       "      <td>0</td>\n",
       "    </tr>\n",
       "    <tr>\n",
       "      <th>ethnicity</th>\n",
       "      <td>White-European</td>\n",
       "      <td>Latino</td>\n",
       "    </tr>\n",
       "    <tr>\n",
       "      <th>jaundice</th>\n",
       "      <td>0</td>\n",
       "      <td>0</td>\n",
       "    </tr>\n",
       "    <tr>\n",
       "      <th>autism</th>\n",
       "      <td>0</td>\n",
       "      <td>1</td>\n",
       "    </tr>\n",
       "    <tr>\n",
       "      <th>contry_of_res</th>\n",
       "      <td>'United States'</td>\n",
       "      <td>Brazil</td>\n",
       "    </tr>\n",
       "    <tr>\n",
       "      <th>used_app_before</th>\n",
       "      <td>no</td>\n",
       "      <td>no</td>\n",
       "    </tr>\n",
       "    <tr>\n",
       "      <th>result</th>\n",
       "      <td>6</td>\n",
       "      <td>5</td>\n",
       "    </tr>\n",
       "    <tr>\n",
       "      <th>age_desc</th>\n",
       "      <td>'18 and more'</td>\n",
       "      <td>'18 and more'</td>\n",
       "    </tr>\n",
       "    <tr>\n",
       "      <th>ASD</th>\n",
       "      <td>0</td>\n",
       "      <td>0</td>\n",
       "    </tr>\n",
       "    <tr>\n",
       "      <th>asd</th>\n",
       "      <td>0</td>\n",
       "      <td>0</td>\n",
       "    </tr>\n",
       "    <tr>\n",
       "      <th>rel</th>\n",
       "      <td>1</td>\n",
       "      <td>1</td>\n",
       "    </tr>\n",
       "    <tr>\n",
       "      <th>age_band</th>\n",
       "      <td>0</td>\n",
       "      <td>0</td>\n",
       "    </tr>\n",
       "    <tr>\n",
       "      <th>relation_Relative</th>\n",
       "      <td>0</td>\n",
       "      <td>0</td>\n",
       "    </tr>\n",
       "    <tr>\n",
       "      <th>relation_Self</th>\n",
       "      <td>1</td>\n",
       "      <td>1</td>\n",
       "    </tr>\n",
       "    <tr>\n",
       "      <th>continent_AS</th>\n",
       "      <td>0</td>\n",
       "      <td>0</td>\n",
       "    </tr>\n",
       "    <tr>\n",
       "      <th>continent_AU</th>\n",
       "      <td>0</td>\n",
       "      <td>0</td>\n",
       "    </tr>\n",
       "    <tr>\n",
       "      <th>continent_EU</th>\n",
       "      <td>0</td>\n",
       "      <td>0</td>\n",
       "    </tr>\n",
       "    <tr>\n",
       "      <th>continent_NA</th>\n",
       "      <td>1</td>\n",
       "      <td>0</td>\n",
       "    </tr>\n",
       "    <tr>\n",
       "      <th>continent_SA</th>\n",
       "      <td>0</td>\n",
       "      <td>1</td>\n",
       "    </tr>\n",
       "  </tbody>\n",
       "</table>\n",
       "</div>"
      ],
      "text/plain": [
       "                                 0              1\n",
       "A1_Score                         1              1\n",
       "A2_Score                         1              1\n",
       "A3_Score                         1              0\n",
       "A4_Score                         1              1\n",
       "A5_Score                         0              0\n",
       "A6_Score                         0              0\n",
       "A7_Score                         1              0\n",
       "A8_Score                         1              1\n",
       "A9_Score                         0              0\n",
       "A10_Score                        0              1\n",
       "age                           26.0           24.0\n",
       "gender                           1              0\n",
       "ethnicity           White-European         Latino\n",
       "jaundice                         0              0\n",
       "autism                           0              1\n",
       "contry_of_res      'United States'         Brazil\n",
       "used_app_before                 no             no\n",
       "result                           6              5\n",
       "age_desc             '18 and more'  '18 and more'\n",
       "ASD                              0              0\n",
       "asd                              0              0\n",
       "rel                              1              1\n",
       "age_band                         0              0\n",
       "relation_Relative                0              0\n",
       "relation_Self                    1              1\n",
       "continent_AS                     0              0\n",
       "continent_AU                     0              0\n",
       "continent_EU                     0              0\n",
       "continent_NA                     1              0\n",
       "continent_SA                     0              1"
      ]
     },
     "execution_count": 112,
     "metadata": {},
     "output_type": "execute_result"
    }
   ],
   "source": [
    "data.head(2).T"
   ]
  },
  {
   "cell_type": "markdown",
   "id": "365ab6a2-81a5-44ef-abc3-4649571d5408",
   "metadata": {},
   "source": [
    "## Удаление ненужных параметров"
   ]
  },
  {
   "cell_type": "code",
   "execution_count": 113,
   "id": "658c17b2-f831-450d-ba4a-e25ae4583825",
   "metadata": {},
   "outputs": [],
   "source": [
    "data.drop(['used_app_before','age_desc','age','asd','contry_of_res', \"rel\", \"ethnicity\"],axis=1,inplace=True)"
   ]
  },
  {
   "cell_type": "code",
   "execution_count": 114,
   "id": "068e1cae-a8af-4d07-a3a5-2a587f05de22",
   "metadata": {},
   "outputs": [
    {
     "data": {
      "text/html": [
       "<div>\n",
       "<style scoped>\n",
       "    .dataframe tbody tr th:only-of-type {\n",
       "        vertical-align: middle;\n",
       "    }\n",
       "\n",
       "    .dataframe tbody tr th {\n",
       "        vertical-align: top;\n",
       "    }\n",
       "\n",
       "    .dataframe thead th {\n",
       "        text-align: right;\n",
       "    }\n",
       "</style>\n",
       "<table border=\"1\" class=\"dataframe\">\n",
       "  <thead>\n",
       "    <tr style=\"text-align: right;\">\n",
       "      <th></th>\n",
       "      <th>0</th>\n",
       "      <th>1</th>\n",
       "    </tr>\n",
       "  </thead>\n",
       "  <tbody>\n",
       "    <tr>\n",
       "      <th>A1_Score</th>\n",
       "      <td>1</td>\n",
       "      <td>1</td>\n",
       "    </tr>\n",
       "    <tr>\n",
       "      <th>A2_Score</th>\n",
       "      <td>1</td>\n",
       "      <td>1</td>\n",
       "    </tr>\n",
       "    <tr>\n",
       "      <th>A3_Score</th>\n",
       "      <td>1</td>\n",
       "      <td>0</td>\n",
       "    </tr>\n",
       "    <tr>\n",
       "      <th>A4_Score</th>\n",
       "      <td>1</td>\n",
       "      <td>1</td>\n",
       "    </tr>\n",
       "    <tr>\n",
       "      <th>A5_Score</th>\n",
       "      <td>0</td>\n",
       "      <td>0</td>\n",
       "    </tr>\n",
       "    <tr>\n",
       "      <th>A6_Score</th>\n",
       "      <td>0</td>\n",
       "      <td>0</td>\n",
       "    </tr>\n",
       "    <tr>\n",
       "      <th>A7_Score</th>\n",
       "      <td>1</td>\n",
       "      <td>0</td>\n",
       "    </tr>\n",
       "    <tr>\n",
       "      <th>A8_Score</th>\n",
       "      <td>1</td>\n",
       "      <td>1</td>\n",
       "    </tr>\n",
       "    <tr>\n",
       "      <th>A9_Score</th>\n",
       "      <td>0</td>\n",
       "      <td>0</td>\n",
       "    </tr>\n",
       "    <tr>\n",
       "      <th>A10_Score</th>\n",
       "      <td>0</td>\n",
       "      <td>1</td>\n",
       "    </tr>\n",
       "    <tr>\n",
       "      <th>gender</th>\n",
       "      <td>1</td>\n",
       "      <td>0</td>\n",
       "    </tr>\n",
       "    <tr>\n",
       "      <th>jaundice</th>\n",
       "      <td>0</td>\n",
       "      <td>0</td>\n",
       "    </tr>\n",
       "    <tr>\n",
       "      <th>autism</th>\n",
       "      <td>0</td>\n",
       "      <td>1</td>\n",
       "    </tr>\n",
       "    <tr>\n",
       "      <th>result</th>\n",
       "      <td>6</td>\n",
       "      <td>5</td>\n",
       "    </tr>\n",
       "    <tr>\n",
       "      <th>ASD</th>\n",
       "      <td>0</td>\n",
       "      <td>0</td>\n",
       "    </tr>\n",
       "    <tr>\n",
       "      <th>age_band</th>\n",
       "      <td>0</td>\n",
       "      <td>0</td>\n",
       "    </tr>\n",
       "    <tr>\n",
       "      <th>relation_Relative</th>\n",
       "      <td>0</td>\n",
       "      <td>0</td>\n",
       "    </tr>\n",
       "    <tr>\n",
       "      <th>relation_Self</th>\n",
       "      <td>1</td>\n",
       "      <td>1</td>\n",
       "    </tr>\n",
       "    <tr>\n",
       "      <th>continent_AS</th>\n",
       "      <td>0</td>\n",
       "      <td>0</td>\n",
       "    </tr>\n",
       "    <tr>\n",
       "      <th>continent_AU</th>\n",
       "      <td>0</td>\n",
       "      <td>0</td>\n",
       "    </tr>\n",
       "    <tr>\n",
       "      <th>continent_EU</th>\n",
       "      <td>0</td>\n",
       "      <td>0</td>\n",
       "    </tr>\n",
       "    <tr>\n",
       "      <th>continent_NA</th>\n",
       "      <td>1</td>\n",
       "      <td>0</td>\n",
       "    </tr>\n",
       "    <tr>\n",
       "      <th>continent_SA</th>\n",
       "      <td>0</td>\n",
       "      <td>1</td>\n",
       "    </tr>\n",
       "  </tbody>\n",
       "</table>\n",
       "</div>"
      ],
      "text/plain": [
       "                   0  1\n",
       "A1_Score           1  1\n",
       "A2_Score           1  1\n",
       "A3_Score           1  0\n",
       "A4_Score           1  1\n",
       "A5_Score           0  0\n",
       "A6_Score           0  0\n",
       "A7_Score           1  0\n",
       "A8_Score           1  1\n",
       "A9_Score           0  0\n",
       "A10_Score          0  1\n",
       "gender             1  0\n",
       "jaundice           0  0\n",
       "autism             0  1\n",
       "result             6  5\n",
       "ASD                0  0\n",
       "age_band           0  0\n",
       "relation_Relative  0  0\n",
       "relation_Self      1  1\n",
       "continent_AS       0  0\n",
       "continent_AU       0  0\n",
       "continent_EU       0  0\n",
       "continent_NA       1  0\n",
       "continent_SA       0  1"
      ]
     },
     "execution_count": 114,
     "metadata": {},
     "output_type": "execute_result"
    }
   ],
   "source": [
    "data.head(2).T"
   ]
  },
  {
   "cell_type": "markdown",
   "id": "cddd88d3-d022-4e99-8504-e7779892c594",
   "metadata": {},
   "source": [
    "Переставим **ASD** в конец."
   ]
  },
  {
   "cell_type": "code",
   "execution_count": 115,
   "id": "88197d2d-fb5b-48ca-acdd-b91352c2994d",
   "metadata": {},
   "outputs": [],
   "source": [
    "cols_at_end = ['ASD']\n",
    "data = data[[c for c in data if c not in cols_at_end] \n",
    "        + [c for c in cols_at_end if c in data]]"
   ]
  },
  {
   "cell_type": "markdown",
   "id": "283b9622-e1dc-4f0d-b7e6-b7e58659fe79",
   "metadata": {},
   "source": [
    "## Heatmap"
   ]
  },
  {
   "cell_type": "code",
   "execution_count": 116,
   "id": "6087fcbe-4118-45f0-94c6-8f359f63c11e",
   "metadata": {},
   "outputs": [],
   "source": [
    "corr_mx = data.corr()\n",
    "mask_ = np.triu(np.ones(corr_mx.shape)).astype(np.bool)"
   ]
  },
  {
   "cell_type": "code",
   "execution_count": 117,
   "id": "75eed97c-dfb5-4788-a7e9-a65ce6616cf8",
   "metadata": {},
   "outputs": [
    {
     "data": {
      "image/png": "[encoded data removed]",
      "text/plain": [
       "<Figure size 1440x1080 with 2 Axes>"
      ]
     },
     "metadata": {
      "needs_background": "light"
     },
     "output_type": "display_data"
    }
   ],
   "source": [
    "sns.heatmap(corr_mx,annot=True,cmap='RdYlGn',linewidths=0.05, fmt=\".3g\", square=True, mask=mask_) #data.corr()-->correlation matrix\n",
    "fig=plt.gcf()\n",
    "fig.set_size_inches(20,15)\n",
    "plt.show()"
   ]
  },
  {
   "cell_type": "markdown",
   "id": "379ab7a3-eaba-4739-ab5e-e3b0feb37c08",
   "metadata": {},
   "source": [
    "По такой матрице трудно понять зависимость от категориальных полей."
   ]
  },
  {
   "cell_type": "markdown",
   "id": "80d02282-5038-49c9-ac44-a865d746099b",
   "metadata": {},
   "source": [
    "# Линейная регрессия"
   ]
  },
  {
   "cell_type": "markdown",
   "id": "df5578a0-6c90-47e4-84ec-55e740d8a1a6",
   "metadata": {},
   "source": [
    "Попробуем предсказать значение **result** по поведенчиским характеристикам. Так себе задачка, но для первого раза подойдет. \n",
    "Интересно посмотреть, как близко коэффициенты окажутся равны 1."
   ]
  },
  {
   "cell_type": "code",
   "execution_count": 118,
   "id": "58f52db7-bfe5-4d61-9f32-f03c1a8444f4",
   "metadata": {},
   "outputs": [
    {
     "data": {
      "text/plain": [
       "Index(['A1_Score', 'A2_Score', 'A3_Score', 'A4_Score', 'A5_Score', 'A6_Score',\n",
       "       'A7_Score', 'A8_Score', 'A9_Score', 'A10_Score', 'gender', 'jaundice',\n",
       "       'autism', 'result', 'age_band', 'relation_Relative', 'relation_Self',\n",
       "       'continent_AS', 'continent_AU', 'continent_EU', 'continent_NA',\n",
       "       'continent_SA', 'ASD'],\n",
       "      dtype='object')"
      ]
     },
     "execution_count": 118,
     "metadata": {},
     "output_type": "execute_result"
    }
   ],
   "source": [
    "data.columns"
   ]
  },
  {
   "cell_type": "code",
   "execution_count": 119,
   "id": "e1316503-4cea-4938-8e63-ad6136bd793f",
   "metadata": {},
   "outputs": [],
   "source": [
    "X = data[[col for col in data.columns if '_Score' in col]]\n",
    "y = data[\"result\"]"
   ]
  },
  {
   "cell_type": "code",
   "execution_count": 120,
   "id": "c8a4ba26-d976-4b97-ac55-9461fdfb460b",
   "metadata": {},
   "outputs": [],
   "source": [
    "from sklearn.model_selection import train_test_split\n",
    "X_train, X_test,y_train, y_test = train_test_split(X, y, test_size=0.2)"
   ]
  },
  {
   "cell_type": "code",
   "execution_count": 121,
   "id": "2c5f8d84-ece0-49dc-8347-5bbadda5f6ce",
   "metadata": {},
   "outputs": [],
   "source": [
    "from sklearn.linear_model import LinearRegression"
   ]
  },
  {
   "cell_type": "code",
   "execution_count": 122,
   "id": "bc00dc43-6e4f-4719-8908-6a8cf60a18b8",
   "metadata": {},
   "outputs": [
    {
     "data": {
      "text/plain": [
       "LinearRegression()"
      ]
     },
     "execution_count": 122,
     "metadata": {},
     "output_type": "execute_result"
    }
   ],
   "source": [
    "lr = LinearRegression()\n",
    "lr.fit(X_train, y_train)"
   ]
  },
  {
   "cell_type": "markdown",
   "id": "4587ab42-4835-4b09-9081-899c1a3f9aab",
   "metadata": {},
   "source": [
    "Выведем коэффициенты, по идее все они должны быть близки к 1, а свободный член близок к 0:"
   ]
  },
  {
   "cell_type": "code",
   "execution_count": 123,
   "id": "7d1e3446-f555-4c39-99b3-521d951a9d8c",
   "metadata": {},
   "outputs": [
    {
     "data": {
      "text/plain": [
       "array([1., 1., 1., 1., 1., 1., 1., 1., 1., 1.])"
      ]
     },
     "execution_count": 123,
     "metadata": {},
     "output_type": "execute_result"
    }
   ],
   "source": [
    "lr.coef_"
   ]
  },
  {
   "cell_type": "code",
   "execution_count": 124,
   "id": "a1f4147f-7093-4fd0-af4b-df6e8a2f4b5c",
   "metadata": {},
   "outputs": [
    {
     "data": {
      "text/plain": [
       "8.881784197001252e-16"
      ]
     },
     "execution_count": 124,
     "metadata": {},
     "output_type": "execute_result"
    }
   ],
   "source": [
    "lr.intercept_"
   ]
  },
  {
   "cell_type": "code",
   "execution_count": 125,
   "id": "34e89c36-f538-438d-82d2-2921c820487d",
   "metadata": {},
   "outputs": [],
   "source": [
    "y_train_predicted = lr.predict(X_train)\n",
    "y_test_predicted = lr.predict(X_test)"
   ]
  },
  {
   "cell_type": "code",
   "execution_count": 126,
   "id": "50126085-544c-4818-8a7b-6e0d77967c07",
   "metadata": {},
   "outputs": [
    {
     "data": {
      "text/plain": [
       "array([ 6,  3,  7,  7,  3,  5,  5,  2,  2,  6,  6,  1,  5,  7,  6,  3,  3,\n",
       "        4,  8,  8,  9,  4,  4,  3,  9,  2,  0,  4,  2,  9,  7,  5, 10,  4,\n",
       "        6,  6,  4,  3, 10,  6,  7, 10,  3,  3,  3,  4,  2,  5,  2,  8,  8,\n",
       "        0,  9,  1,  3,  5,  4,  3, 10,  4,  6,  6,  4,  3,  4,  4,  6,  4,\n",
       "        3,  4, 10,  3,  5, 10,  4,  7,  8,  3,  8,  1,  2,  6,  3,  6,  1,\n",
       "        5,  7,  3,  1,  3,  3,  7,  6,  2,  2,  3,  6, 10,  6,  9,  9,  6,\n",
       "        9,  7,  6,  0,  2,  4,  7,  5,  3,  1,  8,  0,  3,  7,  7,  8,  8,\n",
       "        5,  3,  6,  3,  7,  2,  1,  3,  6,  5,  3,  6,  7,  9,  8,  7,  3,\n",
       "        4,  5,  4,  2,  4], dtype=int64)"
      ]
     },
     "execution_count": 126,
     "metadata": {},
     "output_type": "execute_result"
    }
   ],
   "source": [
    "np.array(y_test)"
   ]
  },
  {
   "cell_type": "code",
   "execution_count": 127,
   "id": "03a222e3-8b69-4a1a-8223-71ad7e1f26cd",
   "metadata": {},
   "outputs": [
    {
     "data": {
      "text/plain": [
       "array([6.0000000e+00, 3.0000000e+00, 7.0000000e+00, 7.0000000e+00,\n",
       "       3.0000000e+00, 5.0000000e+00, 5.0000000e+00, 2.0000000e+00,\n",
       "       2.0000000e+00, 6.0000000e+00, 6.0000000e+00, 1.0000000e+00,\n",
       "       5.0000000e+00, 7.0000000e+00, 6.0000000e+00, 3.0000000e+00,\n",
       "       3.0000000e+00, 4.0000000e+00, 8.0000000e+00, 8.0000000e+00,\n",
       "       9.0000000e+00, 4.0000000e+00, 4.0000000e+00, 3.0000000e+00,\n",
       "       9.0000000e+00, 2.0000000e+00, 8.8817842e-16, 4.0000000e+00,\n",
       "       2.0000000e+00, 9.0000000e+00, 7.0000000e+00, 5.0000000e+00,\n",
       "       1.0000000e+01, 4.0000000e+00, 6.0000000e+00, 6.0000000e+00,\n",
       "       4.0000000e+00, 3.0000000e+00, 1.0000000e+01, 6.0000000e+00,\n",
       "       7.0000000e+00, 1.0000000e+01, 3.0000000e+00, 3.0000000e+00,\n",
       "       3.0000000e+00, 4.0000000e+00, 2.0000000e+00, 5.0000000e+00,\n",
       "       2.0000000e+00, 8.0000000e+00, 8.0000000e+00, 8.8817842e-16,\n",
       "       9.0000000e+00, 1.0000000e+00, 3.0000000e+00, 5.0000000e+00,\n",
       "       4.0000000e+00, 3.0000000e+00, 1.0000000e+01, 4.0000000e+00,\n",
       "       6.0000000e+00, 6.0000000e+00, 4.0000000e+00, 3.0000000e+00,\n",
       "       4.0000000e+00, 4.0000000e+00, 6.0000000e+00, 4.0000000e+00,\n",
       "       3.0000000e+00, 4.0000000e+00, 1.0000000e+01, 3.0000000e+00,\n",
       "       5.0000000e+00, 1.0000000e+01, 4.0000000e+00, 7.0000000e+00,\n",
       "       8.0000000e+00, 3.0000000e+00, 8.0000000e+00, 1.0000000e+00,\n",
       "       2.0000000e+00, 6.0000000e+00, 3.0000000e+00, 6.0000000e+00,\n",
       "       1.0000000e+00, 5.0000000e+00, 7.0000000e+00, 3.0000000e+00,\n",
       "       1.0000000e+00, 3.0000000e+00, 3.0000000e+00, 7.0000000e+00,\n",
       "       6.0000000e+00, 2.0000000e+00, 2.0000000e+00, 3.0000000e+00,\n",
       "       6.0000000e+00, 1.0000000e+01, 6.0000000e+00, 9.0000000e+00,\n",
       "       9.0000000e+00, 6.0000000e+00, 9.0000000e+00, 7.0000000e+00,\n",
       "       6.0000000e+00, 8.8817842e-16, 2.0000000e+00, 4.0000000e+00,\n",
       "       7.0000000e+00, 5.0000000e+00, 3.0000000e+00, 1.0000000e+00,\n",
       "       8.0000000e+00, 8.8817842e-16, 3.0000000e+00, 7.0000000e+00,\n",
       "       7.0000000e+00, 8.0000000e+00, 8.0000000e+00, 5.0000000e+00,\n",
       "       3.0000000e+00, 6.0000000e+00, 3.0000000e+00, 7.0000000e+00,\n",
       "       2.0000000e+00, 1.0000000e+00, 3.0000000e+00, 6.0000000e+00,\n",
       "       5.0000000e+00, 3.0000000e+00, 6.0000000e+00, 7.0000000e+00,\n",
       "       9.0000000e+00, 8.0000000e+00, 7.0000000e+00, 3.0000000e+00,\n",
       "       4.0000000e+00, 5.0000000e+00, 4.0000000e+00, 2.0000000e+00,\n",
       "       4.0000000e+00])"
      ]
     },
     "execution_count": 127,
     "metadata": {},
     "output_type": "execute_result"
    }
   ],
   "source": [
    "np.array(y_test_predicted)"
   ]
  },
  {
   "cell_type": "code",
   "execution_count": 128,
   "id": "30a0bcc8-ac95-4e64-856c-834242ef4067",
   "metadata": {},
   "outputs": [],
   "source": [
    "from sklearn.metrics import mean_absolute_error, mean_squared_error"
   ]
  },
  {
   "cell_type": "code",
   "execution_count": 129,
   "id": "b53317b1-a54e-47eb-964c-e2d7a79134a6",
   "metadata": {},
   "outputs": [
    {
     "data": {
      "text/plain": [
       "(8.881784197001252e-16, 8.897532041322176e-16)"
      ]
     },
     "execution_count": 129,
     "metadata": {},
     "output_type": "execute_result"
    }
   ],
   "source": [
    "mean_absolute_error(y_train_predicted, y_train), mean_absolute_error(y_test_predicted, y_test)"
   ]
  },
  {
   "cell_type": "code",
   "execution_count": 130,
   "id": "d5b27d6f-4450-44c4-a97e-fe019b2982cf",
   "metadata": {},
   "outputs": [
    {
     "data": {
      "text/plain": [
       "(1.4694373400483978e-30, 1.4268381754230225e-30)"
      ]
     },
     "execution_count": 130,
     "metadata": {},
     "output_type": "execute_result"
    }
   ],
   "source": [
    "mean_squared_error(y_train_predicted, y_train), mean_squared_error(y_test_predicted, y_test)"
   ]
  },
  {
   "cell_type": "markdown",
   "id": "1cf465c9-afb8-4033-b189-ccf3e9e64a2b",
   "metadata": {
    "tags": []
   },
   "source": [
    "# KNN"
   ]
  },
  {
   "cell_type": "markdown",
   "id": "4d67032a-bac2-4c60-ad81-3f83de5fef13",
   "metadata": {},
   "source": [
    "Та же задача, решенная при помощи KNN."
   ]
  },
  {
   "cell_type": "code",
   "execution_count": 131,
   "id": "264f8c84-9920-4a58-bb04-849804e96460",
   "metadata": {},
   "outputs": [
    {
     "data": {
      "text/plain": [
       "KNeighborsRegressor()"
      ]
     },
     "execution_count": 131,
     "metadata": {},
     "output_type": "execute_result"
    }
   ],
   "source": [
    "from sklearn.neighbors import KNeighborsRegressor\n",
    "\n",
    "knn = KNeighborsRegressor()\n",
    "knn.fit(X_train, y_train)"
   ]
  },
  {
   "cell_type": "code",
   "execution_count": 132,
   "id": "cac183df-647b-4d36-8d0a-9f81875b193f",
   "metadata": {},
   "outputs": [],
   "source": [
    "y_train_predicted_knn = knn.predict(X_train)\n",
    "y_test_predicted_knn = knn.predict(X_test)"
   ]
  },
  {
   "cell_type": "code",
   "execution_count": 133,
   "id": "213cb5bb-e928-4038-906c-7eb4dfd8b76f",
   "metadata": {},
   "outputs": [
    {
     "data": {
      "text/plain": [
       "array([ 6,  3,  7,  7,  3,  5,  5,  2,  2,  6,  6,  1,  5,  7,  6,  3,  3,\n",
       "        4,  8,  8,  9,  4,  4,  3,  9,  2,  0,  4,  2,  9,  7,  5, 10,  4,\n",
       "        6,  6,  4,  3, 10,  6,  7, 10,  3,  3,  3,  4,  2,  5,  2,  8,  8,\n",
       "        0,  9,  1,  3,  5,  4,  3, 10,  4,  6,  6,  4,  3,  4,  4,  6,  4,\n",
       "        3,  4, 10,  3,  5, 10,  4,  7,  8,  3,  8,  1,  2,  6,  3,  6,  1,\n",
       "        5,  7,  3,  1,  3,  3,  7,  6,  2,  2,  3,  6, 10,  6,  9,  9,  6,\n",
       "        9,  7,  6,  0,  2,  4,  7,  5,  3,  1,  8,  0,  3,  7,  7,  8,  8,\n",
       "        5,  3,  6,  3,  7,  2,  1,  3,  6,  5,  3,  6,  7,  9,  8,  7,  3,\n",
       "        4,  5,  4,  2,  4], dtype=int64)"
      ]
     },
     "execution_count": 133,
     "metadata": {},
     "output_type": "execute_result"
    }
   ],
   "source": [
    "np.array(y_test)"
   ]
  },
  {
   "cell_type": "code",
   "execution_count": 134,
   "id": "c6455b1a-ebb1-488c-9ac3-429f603a4876",
   "metadata": {},
   "outputs": [
    {
     "data": {
      "text/plain": [
       "array([ 4.8,  2.8,  6.6,  7.2,  2.8,  4.8,  4.6,  2.2,  2. ,  6.6,  5.2,\n",
       "        1. ,  4.6,  8. ,  5.8,  3.2,  2.6,  4.2,  8.2,  8.8, 10. ,  4. ,\n",
       "        4. ,  3. ,  9. ,  2.2,  0. ,  4.4,  2.2, 10. ,  7.6,  4.2, 10. ,\n",
       "        4. ,  5.8,  6.6,  4.2,  2.8, 10. ,  5.4,  7.6, 10. ,  3.4,  2.8,\n",
       "        1.4,  4.4,  2.4,  4.2,  2.2,  8.6,  8.2,  0. ,  9. ,  1. ,  3.4,\n",
       "        4.6,  4.2,  3. , 10. ,  4. ,  6. ,  5.6,  4. ,  3. ,  4. ,  3.8,\n",
       "        5.8,  3.6,  2.8,  4. , 10. ,  2.6,  4.4, 10. ,  4.2,  7.2,  8. ,\n",
       "        2.8,  8.4,  1. ,  2. ,  5. ,  3. ,  5.4,  1. ,  4.6,  6.8,  2.2,\n",
       "        1. ,  2.8,  3.6,  7.2,  6. ,  1.8,  1.8,  2.8,  4.2, 10. ,  5.8,\n",
       "        9. ,  9. ,  6.2,  9. ,  7.6,  6. ,  0. ,  1. ,  4. ,  8.2,  5.4,\n",
       "        2.8,  1.2,  8. ,  0. ,  3. ,  7. ,  6.8,  8. ,  8.2,  4.6,  2.6,\n",
       "        6.2,  3.4,  7.2,  1.6,  1.4,  1.8,  5.2,  4.2,  1.8,  5.8,  8.2,\n",
       "        9. ,  8.6,  7.8,  3. ,  3.6,  5.2,  4. ,  2. ,  4. ])"
      ]
     },
     "execution_count": 134,
     "metadata": {},
     "output_type": "execute_result"
    }
   ],
   "source": [
    "np.array(y_test_predicted_knn)"
   ]
  },
  {
   "cell_type": "code",
   "execution_count": 135,
   "id": "2d744ade-9d30-48fb-9263-de292bbdaff3",
   "metadata": {},
   "outputs": [
    {
     "data": {
      "text/plain": [
       "(0.24085257548845473, 0.31347517730496455)"
      ]
     },
     "execution_count": 135,
     "metadata": {},
     "output_type": "execute_result"
    }
   ],
   "source": [
    "mean_absolute_error(y_train_predicted_knn, y_train), mean_absolute_error(y_test_predicted_knn, y_test)"
   ]
  },
  {
   "cell_type": "code",
   "execution_count": 136,
   "id": "9ab54387-7824-43cf-85c4-67d61b30f436",
   "metadata": {},
   "outputs": [
    {
     "data": {
      "text/plain": [
       "(0.12987566607460035, 0.2283687943262411)"
      ]
     },
     "execution_count": 136,
     "metadata": {},
     "output_type": "execute_result"
    }
   ],
   "source": [
    "mean_squared_error(y_train_predicted_knn, y_train), mean_squared_error(y_test_predicted_knn, y_test)"
   ]
  },
  {
   "cell_type": "markdown",
   "id": "2fe30b28-aa7f-4577-82aa-02ae30527e62",
   "metadata": {
    "tags": []
   },
   "source": [
    "# Линейная регрессия 2"
   ]
  },
  {
   "cell_type": "markdown",
   "id": "22d254de-5978-4edf-9ee2-2bae22defbef",
   "metadata": {},
   "source": [
    "А теперь попробуем предсказать **result** только по индивидуальным характеристикам."
   ]
  },
  {
   "cell_type": "code",
   "execution_count": 137,
   "id": "0dfda79c-d760-44c3-95b5-f6e0248bbc95",
   "metadata": {},
   "outputs": [],
   "source": [
    "X = data[[col for col in data.columns if '_Score' not in col]]\n",
    "X.drop(['result', 'ASD'], axis=1, inplace=True)\n",
    "y = data[\"result\"]"
   ]
  },
  {
   "cell_type": "code",
   "execution_count": 138,
   "id": "89c7e4df-ca78-41d9-943e-619763768ee6",
   "metadata": {},
   "outputs": [
    {
     "data": {
      "text/plain": [
       "LinearRegression()"
      ]
     },
     "execution_count": 138,
     "metadata": {},
     "output_type": "execute_result"
    }
   ],
   "source": [
    "X_train, X_test,y_train, y_test = train_test_split(X, y, test_size=0.2)\n",
    "\n",
    "lr = LinearRegression()\n",
    "lr.fit(X_train, y_train)"
   ]
  },
  {
   "cell_type": "code",
   "execution_count": 139,
   "id": "7a2417ff-4224-4635-9cc3-f9c5c1e23a90",
   "metadata": {},
   "outputs": [
    {
     "data": {
      "text/plain": [
       "array([ 0.17260278,  0.54337085,  0.83990639, -0.12708312,  0.75448698,\n",
       "        0.80749272, -1.31245746, -0.47568864,  0.12823363,  0.68508458,\n",
       "        1.11994705])"
      ]
     },
     "execution_count": 139,
     "metadata": {},
     "output_type": "execute_result"
    }
   ],
   "source": [
    "lr.coef_"
   ]
  },
  {
   "cell_type": "code",
   "execution_count": 140,
   "id": "0fa87535-d3b1-46b3-a45c-f214b8e90e5a",
   "metadata": {},
   "outputs": [
    {
     "data": {
      "text/plain": [
       "4.526645098897596"
      ]
     },
     "execution_count": 140,
     "metadata": {},
     "output_type": "execute_result"
    }
   ],
   "source": [
    "lr.intercept_"
   ]
  },
  {
   "cell_type": "code",
   "execution_count": 141,
   "id": "a5e69c16-ac91-4405-bb77-c06b26afa355",
   "metadata": {},
   "outputs": [
    {
     "name": "stdout",
     "output_type": "stream",
     "text": [
      "gender               |   k_0     |   0.17260277579115457\n",
      "jaundice             |   k_1     |   0.5433708489768077\n",
      "autism               |   k_2     |   0.8399063859727919\n",
      "age_band             |   k_3     |   -0.1270831197427295\n",
      "relation_Relative    |   k_4     |   0.7544869818394152\n",
      "relation_Self        |   k_5     |   0.8074927249434048\n",
      "continent_AS         |   k_6     |   -1.3124574588799225\n",
      "continent_AU         |   k_7     |   -0.47568864258390925\n",
      "continent_EU         |   k_8     |   0.1282336258812566\n",
      "continent_NA         |   k_9     |   0.6850845843849818\n",
      "continent_SA         |   k_10    |   1.1199470533885016\n"
     ]
    }
   ],
   "source": [
    "for i, coef in enumerate(X.columns):\n",
    "    print(coef, ' '*(17-len(coef)), '  |  ', 'k_'+str(i),' '*(1-(i//10)), '  |  ', lr.coef_[i])"
   ]
  },
  {
   "cell_type": "code",
   "execution_count": 142,
   "id": "40237a3b-271c-46a7-958e-de1a59539c88",
   "metadata": {},
   "outputs": [],
   "source": [
    "y_test_predicted = lr.predict(X_test)\n",
    "y_train_predicted = lr.predict(X_train)"
   ]
  },
  {
   "cell_type": "code",
   "execution_count": 143,
   "id": "1a7c0c2f-2d34-4d29-ac26-392a48363454",
   "metadata": {},
   "outputs": [
    {
     "data": {
      "text/plain": [
       "array([ 4,  2,  9,  3,  5,  8,  4,  2,  2,  3,  2,  7, 10,  9,  3, 10,  2,\n",
       "        3,  5,  4,  4,  6,  4,  1,  6,  7,  3,  4,  4,  4,  1,  4,  4,  4,\n",
       "        4,  7,  3,  4,  3,  4,  4,  4,  5,  2,  7,  2,  6,  6,  3,  3,  5,\n",
       "        4,  4,  2,  0,  2,  9,  8,  7,  3,  3,  3,  5,  6,  2,  8,  2,  5,\n",
       "        2,  8,  4,  3,  5,  7,  7,  3,  8,  2,  8,  1,  1,  8,  4,  6,  5,\n",
       "        2,  3,  0,  2,  5,  4,  4,  5,  8,  6,  2,  1,  1,  7,  4,  1,  6,\n",
       "        4,  3,  7,  1,  3,  5,  8,  7,  9,  1,  3,  0,  7,  7,  2,  3,  4,\n",
       "        9,  5,  4,  3,  2,  9,  6, 10,  7,  7,  6,  0,  4,  8,  2,  5,  8,\n",
       "        7,  4,  7,  1,  4], dtype=int64)"
      ]
     },
     "execution_count": 143,
     "metadata": {},
     "output_type": "execute_result"
    }
   ],
   "source": [
    "np.array(y_test)"
   ]
  },
  {
   "cell_type": "code",
   "execution_count": 144,
   "id": "15d3890b-106d-4248-b80f-6908533355dd",
   "metadata": {},
   "outputs": [
    {
     "data": {
      "text/plain": [
       "array([6.19182518, 4.19428314, 4.73136606, 4.19428314, 6.29479175,\n",
       "       5.46237145, 4.02168036, 4.85844918, 5.50789111, 3.38679042,\n",
       "       5.63497423, 6.56259326, 6.17519472, 5.93765894, 6.30227784,\n",
       "       5.75157606, 4.57216475, 6.62668765, 3.89459725, 4.02168036,\n",
       "       6.67903993, 4.85844918, 4.19428314, 7.03173157, 4.06720002,\n",
       "       6.17834507, 4.60428294, 4.02168036, 5.45488536, 5.50789111,\n",
       "       4.02168036, 4.85844918, 5.63497423, 5.33528833, 4.73136606,\n",
       "       6.19182518, 4.02168036, 4.80544344, 4.19428314, 4.19428314,\n",
       "       4.85844918, 6.90464845, 6.01922241, 3.21418764, 4.85844918,\n",
       "       4.19428314, 3.89459725, 4.85844918, 3.21418764, 3.96867462,\n",
       "       4.02168036, 7.4480193 , 5.33413782, 4.02168036, 4.01419428,\n",
       "       3.75755849, 5.03105196, 5.79746983, 6.01922241, 4.19428314,\n",
       "       4.02168036, 4.43796809, 6.06474206, 4.19428314, 4.02168036,\n",
       "       6.19182518, 5.45488536, 3.96867462, 5.46237145, 5.50789111,\n",
       "       4.19428314, 4.19428314, 5.03105196, 5.03105196, 6.06474206,\n",
       "       6.56259326, 3.38679042, 5.40936571, 6.90464845, 4.60428294,\n",
       "       6.01922241, 7.27541652, 3.38679042, 6.19182518, 3.21418764,\n",
       "       5.81919493, 5.03105196, 4.73136606, 4.19428314, 5.40936571,\n",
       "       6.57368191, 5.03105196, 5.63497423, 6.19182518, 6.85912879,\n",
       "       5.46237145, 3.38679042, 2.9600214 , 4.73136606, 4.80544344,\n",
       "       5.26725082, 5.33528833, 4.02168036, 3.21418764, 5.40936571,\n",
       "       4.73765399, 5.35195186, 4.19428314, 6.90464845, 5.63497423,\n",
       "       6.19182518, 4.73136606, 5.03105196, 4.90396884, 4.19428314,\n",
       "       6.19182518, 4.2266968 , 6.01922241, 5.33528833, 6.19182518,\n",
       "       4.02168036, 7.03173157, 3.21418764, 3.38679042, 6.05126195,\n",
       "       6.01922241, 5.33528833, 5.63497423, 6.01922241, 5.5182667 ,\n",
       "       5.63497423, 4.02168036, 5.63497423, 5.63497423, 3.38679042,\n",
       "       5.33528833, 6.01922241, 5.46237145, 6.29479175, 4.02168036,\n",
       "       4.65487872])"
      ]
     },
     "execution_count": 144,
     "metadata": {},
     "output_type": "execute_result"
    }
   ],
   "source": [
    "np.array(y_test_predicted)"
   ]
  },
  {
   "cell_type": "code",
   "execution_count": 145,
   "id": "233f2476-5a47-492a-96d7-d23940f11ea5",
   "metadata": {},
   "outputs": [
    {
     "data": {
      "text/plain": [
       "(1.8261028621412847, 1.9354088634985938)"
      ]
     },
     "execution_count": 145,
     "metadata": {},
     "output_type": "execute_result"
    }
   ],
   "source": [
    "mean_absolute_error(y_train_predicted, y_train), mean_absolute_error(y_test_predicted, y_test)"
   ]
  },
  {
   "cell_type": "code",
   "execution_count": 146,
   "id": "4c333831-5b69-4880-86cb-deb4877ad56c",
   "metadata": {},
   "outputs": [
    {
     "data": {
      "text/plain": [
       "(5.135427483164496, 5.543633629166089)"
      ]
     },
     "execution_count": 146,
     "metadata": {},
     "output_type": "execute_result"
    }
   ],
   "source": [
    "mean_squared_error(y_train_predicted, y_train), mean_squared_error(y_test_predicted, y_test)"
   ]
  },
  {
   "cell_type": "markdown",
   "id": "37a0d56d-cde8-4324-8205-3b2285dcda4a",
   "metadata": {},
   "source": [
    "# KNN 2"
   ]
  },
  {
   "cell_type": "code",
   "execution_count": 147,
   "id": "9b37b557-8438-49ff-b9ad-a10aff85d12c",
   "metadata": {},
   "outputs": [],
   "source": [
    "knn = KNeighborsRegressor(n_neighbors=2)\n",
    "knn.fit(X_train, y_train)\n",
    "\n",
    "y_train_predicted_knn = knn.predict(X_train)\n",
    "y_test_predicted_knn = knn.predict(X_test)"
   ]
  },
  {
   "cell_type": "code",
   "execution_count": 148,
   "id": "540f4ed2-e9b1-4efc-8567-be110edd4120",
   "metadata": {},
   "outputs": [
    {
     "data": {
      "text/plain": [
       "array([ 4,  2,  9,  3,  5,  8,  4,  2,  2,  3,  2,  7, 10,  9,  3, 10,  2,\n",
       "        3,  5,  4,  4,  6,  4,  1,  6,  7,  3,  4,  4,  4,  1,  4,  4,  4,\n",
       "        4,  7,  3,  4,  3,  4,  4,  4,  5,  2,  7,  2,  6,  6,  3,  3,  5,\n",
       "        4,  4,  2,  0,  2,  9,  8,  7,  3,  3,  3,  5,  6,  2,  8,  2,  5,\n",
       "        2,  8,  4,  3,  5,  7,  7,  3,  8,  2,  8,  1,  1,  8,  4,  6,  5,\n",
       "        2,  3,  0,  2,  5,  4,  4,  5,  8,  6,  2,  1,  1,  7,  4,  1,  6,\n",
       "        4,  3,  7,  1,  3,  5,  8,  7,  9,  1,  3,  0,  7,  7,  2,  3,  4,\n",
       "        9,  5,  4,  3,  2,  9,  6, 10,  7,  7,  6,  0,  4,  8,  2,  5,  8,\n",
       "        7,  4,  7,  1,  4], dtype=int64)"
      ]
     },
     "execution_count": 148,
     "metadata": {},
     "output_type": "execute_result"
    }
   ],
   "source": [
    "np.array(y_test)"
   ]
  },
  {
   "cell_type": "code",
   "execution_count": 149,
   "id": "1e1a900c-737f-4d67-b709-e258cddab875",
   "metadata": {},
   "outputs": [
    {
     "data": {
      "text/plain": [
       "array([6.5, 4. , 3.5, 4. , 5.5, 3.5, 2.5, 5. , 4. , 4.5, 6.5, 4.5, 8.5,\n",
       "       6. , 4. , 5.5, 1.5, 5. , 4. , 2.5, 6.5, 5. , 4. , 3. , 3.5, 6. ,\n",
       "       6. , 2.5, 8.5, 4. , 2.5, 5. , 6.5, 5. , 3.5, 6.5, 2.5, 5.5, 4. ,\n",
       "       4. , 5. , 7.5, 4.5, 2.5, 5. , 4. , 4. , 5. , 2.5, 3.5, 2.5, 5.5,\n",
       "       4. , 2.5, 3. , 3. , 5. , 6.5, 4.5, 4. , 2.5, 4. , 8.5, 4. , 2.5,\n",
       "       6.5, 8.5, 3.5, 3.5, 4. , 4. , 4. , 5. , 5. , 8.5, 4.5, 4.5, 2.5,\n",
       "       7.5, 6. , 4.5, 6.5, 4.5, 6.5, 2.5, 6. , 5. , 3.5, 4. , 2.5, 5. ,\n",
       "       5. , 6.5, 6.5, 6.5, 3.5, 4.5, 5. , 3.5, 5.5, 5. , 5. , 2.5, 2.5,\n",
       "       2.5, 1. , 7. , 4. , 7.5, 6.5, 6.5, 3.5, 5. , 4.5, 4. , 6.5, 3. ,\n",
       "       4.5, 5. , 6.5, 2.5, 3. , 2.5, 4.5, 8.5, 4.5, 5. , 6.5, 4.5, 3.5,\n",
       "       6.5, 2.5, 6.5, 6.5, 4.5, 5. , 4.5, 3.5, 5.5, 2.5, 2.5])"
      ]
     },
     "execution_count": 149,
     "metadata": {},
     "output_type": "execute_result"
    }
   ],
   "source": [
    "np.array(y_test_predicted_knn)"
   ]
  },
  {
   "cell_type": "code",
   "execution_count": 150,
   "id": "fab3725f-e47f-4277-a955-6b3a79b2f1a7",
   "metadata": {},
   "outputs": [
    {
     "data": {
      "text/plain": [
       "(1.800177619893428, 1.8971631205673758)"
      ]
     },
     "execution_count": 150,
     "metadata": {},
     "output_type": "execute_result"
    }
   ],
   "source": [
    "mean_absolute_error(y_train_predicted_knn, y_train), mean_absolute_error(y_test_predicted_knn, y_test)"
   ]
  },
  {
   "cell_type": "code",
   "execution_count": 151,
   "id": "97386675-968a-4bbd-944f-1e6b48a0770b",
   "metadata": {},
   "outputs": [
    {
     "data": {
      "text/plain": [
       "(5.286412078152753, 5.565602836879433)"
      ]
     },
     "execution_count": 151,
     "metadata": {},
     "output_type": "execute_result"
    }
   ],
   "source": [
    "mean_squared_error(y_train_predicted_knn, y_train), mean_squared_error(y_test_predicted_knn, y_test)"
   ]
  },
  {
   "cell_type": "markdown",
   "id": "66dd1649-abeb-42bc-8a7e-60b7c11d0235",
   "metadata": {},
   "source": [
    "Очень плохие результаты :("
   ]
  }
 ],
 "metadata": {
  "kernelspec": {
   "display_name": "Python 3 (ipykernel)",
   "language": "python",
   "name": "python3"
  },
  "language_info": {
   "codemirror_mode": {
    "name": "ipython",
    "version": 3
   },
   "file_extension": ".py",
   "mimetype": "text/x-python",
   "name": "python",
   "nbconvert_exporter": "python",
   "pygments_lexer": "ipython3",
   "version": "3.9.12"
  }
 },
 "nbformat": 4,
 "nbformat_minor": 5
}
