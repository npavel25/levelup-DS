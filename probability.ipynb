{
 "cells": [
  {
   "cell_type": "markdown",
   "id": "a4f8517b-846b-412a-8c26-aaa0fb4bb02f",
   "metadata": {},
   "source": [
    "# Задачи по теорверу:\n",
    "\n",
    "\n"
   ]
  },
  {
   "cell_type": "markdown",
   "id": "19e3f17b-68ca-48cb-928f-6cb4f1e4acb1",
   "metadata": {},
   "source": [
    "## 1. Вы открываете бутылку молока и делаете из нее глоток. Вероятность того, что молоко скисло - 0.02. С какой вероятностью молоко окажется свежим?"
   ]
  },
  {
   "cell_type": "markdown",
   "id": "407ea0bb-3560-4a21-8d21-5cc6588e1a74",
   "metadata": {},
   "source": [
    "Пусть событие $A$ - молоко скисло $\\Rightarrow P(A) = 0.02$.\n",
    "\n",
    "Тогда $\\overline A$ - молоко свежее и $P(\\overline A) = 1 - P(A)$"
   ]
  },
  {
   "cell_type": "code",
   "execution_count": 1,
   "id": "f5edfd3b-a5b7-4821-9931-9c3ffceaf9e6",
   "metadata": {},
   "outputs": [
    {
     "name": "stdout",
     "output_type": "stream",
     "text": [
      "Ответ: 0.98\n"
     ]
    }
   ],
   "source": [
    "pa = 0.02\n",
    "p_not_a = 1 - pa\n",
    "print(f\"Ответ: {p_not_a}\")"
   ]
  },
  {
   "cell_type": "markdown",
   "id": "b13c19d7-957b-4d6f-9e30-1d78d13f1fb9",
   "metadata": {},
   "source": [
    "## 2. На пешеходном переходе установлен светофор с 2 лампами. Вероятность перегорания лампы в течение года - 0.2. С какой вероятностью не перегорит хотя бы одна лампа?"
   ]
  },
  {
   "cell_type": "markdown",
   "id": "0ed5bd52-53ed-4757-b645-0bcdef33aefc",
   "metadata": {},
   "source": [
    "Пусть событие $A_i$ - перегорание $i$-й лампы, где $i=1, 2$. Тогда $P(A_i) = 0.2$.\n",
    "\n",
    "Событие $A_1 \\cap A_2$ - перегорят обе лампы. $A_1$ и $A_2$  - независимы $\\Rightarrow P(A_1 \\cap A_2) = P(A_1)P(A_2)$\n",
    "\n",
    "Обозначим за $B$ - событие \"не перегорит хотя бы одна лампа\". Тогда $P(B) = 1 - P(A_1 \\cap A_2) = 1 - P(A_1)P(A_2)$"
   ]
  },
  {
   "cell_type": "code",
   "execution_count": 2,
   "id": "6fb22b23-c42a-48cc-bdd8-8f6bad86cb6a",
   "metadata": {},
   "outputs": [
    {
     "name": "stdout",
     "output_type": "stream",
     "text": [
      "Ответ: 0.96\n"
     ]
    }
   ],
   "source": [
    "p_ai = 0.2\n",
    "p_b = 1 - p_ai*p_ai\n",
    "print(f\"Ответ: {p_b}\")\n"
   ]
  },
  {
   "cell_type": "markdown",
   "id": "13f21f19-f582-4c12-9255-57f689903674",
   "metadata": {},
   "source": [
    "## 3. Менеджер по продажам совершает сделку если знаком с клиентом с вероятностью - 0.8, а если ничего о нем не слышал с вероятностью 0.1. Начальник передает менеджеру список из 10 клиентов, 4 из которых менеджеру известны. С какой вероятностью выбрав случайного клиента из списка менеджер ничего ему не продаст?"
   ]
  },
  {
   "cell_type": "markdown",
   "id": "85398831-d2ee-4f3a-9d1e-3f6137e34193",
   "metadata": {},
   "source": [
    "Обозначения событий:\n",
    "\n",
    "$B_1$ - менеджер знаком с клиентом\n",
    "\n",
    "$B_2$ - менеджер не знаком с клиентом\n",
    "\n",
    "$A$ - менеджер совершил сделку\n",
    "\n",
    "$\\overline A$ - менеджер не совершил сделку\n",
    "\n",
    "Тогда через условную вероятность можем записать:\n",
    "\n",
    "$P(A|B_1) =0.8$\n",
    "\n",
    "$P(A|B_2) =0.1$\n",
    "\n",
    "По классической формуле вычисления вероятностей:\n",
    "\n",
    "$P(B_1) = 4/10 = 0.4$\n",
    "\n",
    "$P(B_2) = 1 - P(B_1) = 0.6$\n",
    "\n",
    "Т.к. $B_1$ и $B_2$ - несовместные и единственно возможные события, то они образуют полную группу событий. Поэтому можно применить формулу полной вероятности:\n",
    "$P(A) = P(B_1)P(A|B_1) + P(B_2)P(A|B_2)$\n",
    "\n",
    "$P(\\overline A) = 1 - P(A)$"
   ]
  },
  {
   "cell_type": "code",
   "execution_count": 3,
   "id": "514aac26-862d-4d60-8ae3-c2f443d2d1e8",
   "metadata": {},
   "outputs": [
    {
     "name": "stdout",
     "output_type": "stream",
     "text": [
      "Ответ: 0.62\n"
     ]
    }
   ],
   "source": [
    "p_ab1 = 0.8\n",
    "p_ab2 = 0.1\n",
    "\n",
    "p_b1 = 0.4\n",
    "p_b2 = 0.6\n",
    "\n",
    "p_a = p_b1*p_ab1 + p_b2*p_ab2\n",
    "p_not_a = 1 - p_a\n",
    "\n",
    "print(f\"Ответ: {p_not_a:.2}\")"
   ]
  }
 ],
 "metadata": {
  "kernelspec": {
   "display_name": "Python 3 (ipykernel)",
   "language": "python",
   "name": "python3"
  },
  "language_info": {
   "codemirror_mode": {
    "name": "ipython",
    "version": 3
   },
   "file_extension": ".py",
   "mimetype": "text/x-python",
   "name": "python",
   "nbconvert_exporter": "python",
   "pygments_lexer": "ipython3",
   "version": "3.9.12"
  }
 },
 "nbformat": 4,
 "nbformat_minor": 5
}
