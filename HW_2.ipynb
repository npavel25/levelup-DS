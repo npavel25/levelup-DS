{
 "cells": [
  {
   "cell_type": "markdown",
   "id": "4d20b408",
   "metadata": {},
   "source": [
    "## Класс человека\n",
    "Моделирование человека — классическое упражнение для людей, которые пытаются научиться писать классы. Мы все знакомы с характеристиками и поведением людей, поэтому стоит попробовать это упражнение.\n",
    "* Определите класс Person().\n",
    "* В функции __init()__ определите несколько атрибутов человека. Хорошими атрибутами, которые следует учитывать, являются имя, возраст, место рождения и все, что вам нужно знать о людях в вашей жизни. Не менее 3 атрибутов.\n",
    "* Напишите один метод. Это может быть просто introduce_yourself(). Этот метод выводит такое утверждение, как «Здравствуйте, меня зовут Эрик».\n",
    "* Вы также можете создать такой метод, как age_person(). Простая версия этого метода просто добавит 1 к возрасту человека.\n",
    "* Создайте человека, установите соответствующие значения атрибутов и выведите информацию о человеке.\n",
    "* Вызовите свой метод для человека, которого вы создали. Убедитесь, что ваш метод выполняется правильно; если метод ничего не выводит напрямую, напечатайте что-нибудь до и после вызова метода, чтобы убедиться, что он сделал то, что предполагалось."
   ]
  },
  {
   "cell_type": "code",
   "execution_count": 1,
   "id": "487e27d0",
   "metadata": {},
   "outputs": [
    {
     "name": "stdout",
     "output_type": "stream",
     "text": [
      "<__main__.Person object at 0x00000197C22C4F40>\n",
      "Здравствуйте, меня зовут Петр. Место моего рождения - Москва. Мне 120 лет.\n",
      "Здравствуйте, меня зовут Петр. Место моего рождения - Москва. Мне 121 год.\n",
      "Здравствуйте, меня зовут Петр. Место моего рождения - Москва. Мне 122 года.\n",
      "Здравствуйте, меня зовут Алевтина. Место моего рождения - Омск. Мне 4 года.\n",
      "Здравствуйте, меня зовут Алевтина. Место моего рождения - Омск. Мне 5 лет.\n"
     ]
    }
   ],
   "source": [
    "class Person():\n",
    "    def __init__(self, _name, _place, _age):\n",
    "        self.name = _name\n",
    "        self.place = _place\n",
    "        self.age = int(_age)\n",
    "    def age_2_str(self):\n",
    "        a = self.age % 10\n",
    "        b = self.age // 10\n",
    "        s = \"лет\"\n",
    "        if b != 1 and b != 11:\n",
    "            if a == 1:\n",
    "                s = \"год\"\n",
    "            elif 2<= a <=4:\n",
    "                s = \"года\"\n",
    "        \n",
    "        return str(self.age) + ' '+ s\n",
    "        \n",
    "            \n",
    "    def introduce_yourself(self):\n",
    "        print(f\"Здравствуйте, меня зовут {self.name}. Место моего рождения - {self.place}. Мне {self.age_2_str()}.\")\n",
    "    \n",
    "    def age_person(self):\n",
    "        self.age += 1\n",
    "\n",
    "me = Person(\"Петр\", \"Москва\", \"120\")\n",
    "print(me)\n",
    "\n",
    "me.introduce_yourself()\n",
    "me.age_person()\n",
    "me.introduce_yourself()\n",
    "me.age_person()\n",
    "me.introduce_yourself()\n",
    "\n",
    "\n",
    "you = Person(\"Алевтина\", \"Омск\", 4)\n",
    "you.introduce_yourself()\n",
    "you.age_person()\n",
    "you.introduce_yourself()"
   ]
  },
  {
   "cell_type": "markdown",
   "id": "b0feab5a",
   "metadata": {},
   "source": [
    "## Студенческий класс\n",
    "\n",
    "* Начните с вашей программы из класса Person.\n",
    "* Создайте новый класс под названием Student, который наследуется от Person.\n",
    "* Определите некоторые качества, которые есть у учащегося, которых нет у других людей.\n",
    "    У учащегося есть школа, с которой он связан, год выпуска, средний балл и другие особые атрибуты.\n",
    "* Создайте объект Student и докажите, что вы правильно использовали наследование.\n",
    "* Установите некоторые значения атрибутов для учащегося, которые закодированы только в классе Person.\n",
    "* Установите некоторые значения атрибутов для учащегося, которые закодированы только в классе учащегося.\n",
    "* Выведите значения для всех этих атрибутов."
   ]
  },
  {
   "cell_type": "code",
   "execution_count": 2,
   "id": "543fece6",
   "metadata": {},
   "outputs": [
    {
     "name": "stdout",
     "output_type": "stream",
     "text": [
      "<__main__.Student object at 0x00000197C2303040>\n",
      "Здравствуйте, меня зовут Егор. Место моего рождения - Москва. Мне 18 лет.\n",
      "Я учусь в МГУ с 2022. \n",
      "\n",
      "Здравствуйте, меня зовут Егор. Место моего рождения - Минск. Мне 19 лет.\n",
      "Я учусь в БГУ с 2022. \n"
     ]
    }
   ],
   "source": [
    "class Student(Person):\n",
    "    def __init__(self, _name, _place, _age, _university, _adm_year):\n",
    "        super().__init__(_name, _place, _age)\n",
    "        self.university = _university\n",
    "        self.adm_year = int(_adm_year)\n",
    "        \n",
    "    def introduce_yourself(self):\n",
    "        super().introduce_yourself()\n",
    "        print(f\"Я учусь в {self.university} с {self.adm_year}. \")\n",
    "        \n",
    "me = Student(\"Егор\", \"Москва\", 18, \"МГУ\", 2022)\n",
    "print(me)\n",
    "me.introduce_yourself()\n",
    "print()\n",
    "me.age_person()\n",
    "me.place = \"Минск\"\n",
    "me.university = \"БГУ\"\n",
    "me.introduce_yourself()"
   ]
  }
 ],
 "metadata": {
  "kernelspec": {
   "display_name": "Python 3 (ipykernel)",
   "language": "python",
   "name": "python3"
  },
  "language_info": {
   "codemirror_mode": {
    "name": "ipython",
    "version": 3
   },
   "file_extension": ".py",
   "mimetype": "text/x-python",
   "name": "python",
   "nbconvert_exporter": "python",
   "pygments_lexer": "ipython3",
   "version": "3.9.12"
  }
 },
 "nbformat": 4,
 "nbformat_minor": 5
}
